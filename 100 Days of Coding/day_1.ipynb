{
 "cells": [
  {
   "cell_type": "markdown",
   "id": "45135699",
   "metadata": {},
   "source": [
    "### Write a program in main.py that prints the same notes from the previous lesson using what you have learnt about the Python print function."
   ]
  },
  {
   "cell_type": "code",
   "execution_count": 1,
   "id": "cc65b108",
   "metadata": {},
   "outputs": [
    {
     "name": "stdout",
     "output_type": "stream",
     "text": [
      "Day 1 - Python Print Function\n",
      "The function is declared like this:\n",
      "print('what to print')\n"
     ]
    }
   ],
   "source": [
    "#Write your code below this line 👇\n",
    "print(\"Day 1 - Python Print Function\")\n",
    "print(\"The function is declared like this:\")\n",
    "print(\"print('what to print')\")"
   ]
  },
  {
   "cell_type": "markdown",
   "id": "b1a5b16e",
   "metadata": {},
   "source": [
    "### Look at the code in the code editor on the right. There are errors in all of the lines of code. Fix the code so that it runs without errors.\n",
    "\n"
   ]
  },
  {
   "cell_type": "code",
   "execution_count": 2,
   "id": "7f0279f6",
   "metadata": {},
   "outputs": [
    {
     "ename": "SyntaxError",
     "evalue": "unterminated string literal (detected at line 3) (3248697569.py, line 3)",
     "output_type": "error",
     "traceback": [
      "\u001b[1;36m  Cell \u001b[1;32mIn[2], line 3\u001b[1;36m\u001b[0m\n\u001b[1;33m    print(Day 1 - String Manipulation\")\u001b[0m\n\u001b[1;37m                                     ^\u001b[0m\n\u001b[1;31mSyntaxError\u001b[0m\u001b[1;31m:\u001b[0m unterminated string literal (detected at line 3)\n"
     ]
    }
   ],
   "source": [
    "#Fix the code below 👇\n",
    "\n",
    "print(Day 1 - String Manipulation\")\n",
    "print(\"String Concatenation is done with the \"+\" sign.\")\n",
    "  print('e.g. print(\"Hello \" + \"world\")')\n",
    "print((\"New lines can be created with a backslash and n.\")\n",
    "\n"
   ]
  },
  {
   "cell_type": "code",
   "execution_count": 3,
   "id": "d3a3f871",
   "metadata": {},
   "outputs": [
    {
     "ename": "IndentationError",
     "evalue": "unexpected indent (561737945.py, line 4)",
     "output_type": "error",
     "traceback": [
      "\u001b[1;36m  Cell \u001b[1;32mIn[3], line 4\u001b[1;36m\u001b[0m\n\u001b[1;33m    print('e.g. print(\"Hello \" + \"world\")')\u001b[0m\n\u001b[1;37m    ^\u001b[0m\n\u001b[1;31mIndentationError\u001b[0m\u001b[1;31m:\u001b[0m unexpected indent\n"
     ]
    }
   ],
   "source": [
    "## fix one\n",
    "## correcting the string quotation.\n",
    "print(\"Day 1 - String Manipulation\")\n",
    "print(\"String Concatenation is done with the \"+\" sign.\")\n",
    "  print('e.g. print(\"Hello \" + \"world\")')\n",
    "print((\"New lines can be created with a backslash and n.\")"
   ]
  },
  {
   "cell_type": "code",
   "execution_count": 4,
   "id": "05947a65",
   "metadata": {},
   "outputs": [
    {
     "ename": "SyntaxError",
     "evalue": "incomplete input (1552029140.py, line 6)",
     "output_type": "error",
     "traceback": [
      "\u001b[1;36m  Cell \u001b[1;32mIn[4], line 6\u001b[1;36m\u001b[0m\n\u001b[1;33m    print((\"New lines can be created with a backslash and n.\")\u001b[0m\n\u001b[1;37m                                                              ^\u001b[0m\n\u001b[1;31mSyntaxError\u001b[0m\u001b[1;31m:\u001b[0m incomplete input\n"
     ]
    }
   ],
   "source": [
    "## fix two\n",
    "## correcting the indendation\n",
    "print(\"Day 1 - String Manipulation\")\n",
    "print(\"String Concatenation is done with the \"+\" sign.\")\n",
    "print('e.g. print(\"Hello \" + \"world\")')\n",
    "print((\"New lines can be created with a backslash and n.\")"
   ]
  },
  {
   "cell_type": "code",
   "execution_count": 5,
   "id": "e1f085e3",
   "metadata": {},
   "outputs": [
    {
     "name": "stdout",
     "output_type": "stream",
     "text": [
      "Day 1 - String Manipulation\n",
      "String Concatenation is done with the  sign.\n",
      "e.g. print(\"Hello \" + \"world\")\n",
      "New lines can be created with a backslash and n.\n"
     ]
    }
   ],
   "source": [
    "## correcting the extra bracket in last line.\n",
    "print(\"Day 1 - String Manipulation\")\n",
    "print(\"String Concatenation is done with the \"+\" sign.\")\n",
    "print('e.g. print(\"Hello \" + \"world\")')\n",
    "print(\"New lines can be created with a backslash and n.\")"
   ]
  },
  {
   "cell_type": "markdown",
   "id": "fdb3f0ad",
   "metadata": {},
   "source": [
    "### Write a program that prints the number of characters in a user's name. You might need to Google for a function that calculates the length of a string."
   ]
  },
  {
   "cell_type": "code",
   "execution_count": 6,
   "id": "4e520409",
   "metadata": {},
   "outputs": [
    {
     "name": "stdout",
     "output_type": "stream",
     "text": [
      "What is your name ?Ameer Kotta\n",
      "11\n"
     ]
    }
   ],
   "source": [
    "#Write your code below this line 👇\n",
    "print(len(input(\"What is your name ?\")))"
   ]
  },
  {
   "cell_type": "markdown",
   "id": "38a12f49",
   "metadata": {},
   "source": [
    "### Write a program that switches the values stored in the variables a and b."
   ]
  },
  {
   "cell_type": "code",
   "execution_count": 7,
   "id": "03df676a",
   "metadata": {},
   "outputs": [
    {
     "name": "stdout",
     "output_type": "stream",
     "text": [
      "a: 23\n",
      "b: 34\n",
      "a: 34\n",
      "b: 23\n"
     ]
    }
   ],
   "source": [
    "# 🚨 Don't change the code below 👇\n",
    "a = input(\"a: \")\n",
    "b = input(\"b: \")\n",
    "# 🚨 Don't change the code above 👆\n",
    "\n",
    "####################################\n",
    "#Write your code below this line 👇\n",
    "## assigning a to c\n",
    "## then a to b\n",
    "## then b to c\n",
    "c = a\n",
    "a = b \n",
    "b = c\n",
    "\n",
    "#Write your code above this line 👆\n",
    "####################################\n",
    "\n",
    "# 🚨 Don't change the code below 👇\n",
    "print(\"a: \" + a)\n",
    "print(\"b: \" + b)\n"
   ]
  },
  {
   "cell_type": "markdown",
   "id": "9540e0c1",
   "metadata": {},
   "source": [
    "### BAND NAME GENERATOR\n",
    "\n",
    "+ Create a Greeting for your Program.\n",
    "+ Ask the user for the City that they grew up in.\n",
    "+ Ask the user for the name of their Pet.\n",
    "+ Combine these two and show as the Bandname.\n",
    "+ Make sure the input cursor show a new line."
   ]
  },
  {
   "cell_type": "code",
   "execution_count": 11,
   "id": "29d61d37",
   "metadata": {},
   "outputs": [
    {
     "name": "stdout",
     "output_type": "stream",
     "text": [
      "Welcome to the Band Name Generator Game\n",
      "Enter the Name of the City you Grew Up : \n",
      "Canada\n",
      "Enter your childhood petname : \n",
      "Dog\n",
      "Call your Band Name as :  Canada Dog\n"
     ]
    }
   ],
   "source": [
    "print(\"Welcome to the Band Name Generator Game\")\n",
    "name = input(\"Enter the Name of the City you Grew Up : \\n\")\n",
    "petname = input(\"Enter your childhood petname : \\n\")\n",
    "band_name = name + \" \" + petname\n",
    "\n",
    "print(\"Call your Band Name as : \", band_name)"
   ]
  },
  {
   "cell_type": "code",
   "execution_count": null,
   "id": "e024eb7f",
   "metadata": {},
   "outputs": [],
   "source": []
  }
 ],
 "metadata": {
  "kernelspec": {
   "display_name": "Python 3 (ipykernel)",
   "language": "python",
   "name": "python3"
  },
  "language_info": {
   "codemirror_mode": {
    "name": "ipython",
    "version": 3
   },
   "file_extension": ".py",
   "mimetype": "text/x-python",
   "name": "python",
   "nbconvert_exporter": "python",
   "pygments_lexer": "ipython3",
   "version": "3.10.9"
  }
 },
 "nbformat": 4,
 "nbformat_minor": 5
}
