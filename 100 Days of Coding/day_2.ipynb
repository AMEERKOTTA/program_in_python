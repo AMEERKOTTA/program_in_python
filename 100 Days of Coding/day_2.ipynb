{
 "cells": [
  {
   "cell_type": "markdown",
   "id": "84b7411e",
   "metadata": {},
   "source": [
    "### Python Primitive Data Types"
   ]
  },
  {
   "cell_type": "markdown",
   "id": "04de2388",
   "metadata": {},
   "source": [
    "**String Data Types**"
   ]
  },
  {
   "cell_type": "code",
   "execution_count": 8,
   "id": "48362fcc",
   "metadata": {},
   "outputs": [
    {
     "name": "stdout",
     "output_type": "stream",
     "text": [
      "H\n",
      "o\n",
      "123345\n"
     ]
    }
   ],
   "source": [
    "## indexing and slicing\n",
    "## indexing the first character\n",
    "print(\"Hello\"[0])\n",
    "## indexing the last character\n",
    "print(\"Hello\"[-1])\n",
    "\n",
    "## concatenation\n",
    "print(\"123\" + \"345\")"
   ]
  },
  {
   "cell_type": "markdown",
   "id": "cf22bc5d",
   "metadata": {},
   "source": [
    "**Integer Data Types**"
   ]
  },
  {
   "cell_type": "code",
   "execution_count": 13,
   "id": "8a3216b4",
   "metadata": {},
   "outputs": [
    {
     "name": "stdout",
     "output_type": "stream",
     "text": [
      "123\n",
      "Addition :  468\n",
      "123234456\n"
     ]
    }
   ],
   "source": [
    "## adding the integers\n",
    "## print an integer\n",
    "print(123)\n",
    "## add some values to the integer\n",
    "print(\"Addition : \",123 + 345)\n",
    "## printing the numbers 123,456,789 in python with commas to undderstand better\n",
    "print(123_234_456)"
   ]
  },
  {
   "cell_type": "markdown",
   "id": "44903a79",
   "metadata": {},
   "source": [
    "**Floating Points Data Types**"
   ]
  },
  {
   "cell_type": "code",
   "execution_count": 18,
   "id": "8b102b9c",
   "metadata": {},
   "outputs": [
    {
     "name": "stdout",
     "output_type": "stream",
     "text": [
      "3.145665\n"
     ]
    }
   ],
   "source": [
    "## simple example of floats\n",
    "float(100)\n",
    "## value of the pie\n",
    "print(3.145665)"
   ]
  },
  {
   "cell_type": "markdown",
   "id": "6836c12d",
   "metadata": {},
   "source": [
    "**Booleans Data Types**\n",
    "\n",
    "+ True\n",
    "+ False"
   ]
  },
  {
   "cell_type": "markdown",
   "id": "297410a8",
   "metadata": {},
   "source": [
    "### Type Error, Type Checking and Type Conversion"
   ]
  },
  {
   "cell_type": "code",
   "execution_count": 20,
   "id": "34c688f5",
   "metadata": {},
   "outputs": [
    {
     "name": "stdout",
     "output_type": "stream",
     "text": [
      "Enter your Name : Ameer kotta\n",
      "Ameer kotta\n",
      "The number of Characters in the Ameer kotta is given as :  11\n"
     ]
    }
   ],
   "source": [
    "## example\n",
    "name = input(\"Enter your Name : \")\n",
    "print(name)\n",
    "\n",
    "name_char_length = len(name)\n",
    "\n",
    "print(\"The number of Characters in the \" + name + \" is given as : \", name_char_length)"
   ]
  },
  {
   "cell_type": "code",
   "execution_count": 22,
   "id": "8f45eff9",
   "metadata": {},
   "outputs": [
    {
     "ename": "TypeError",
     "evalue": "can only concatenate str (not \"int\") to str",
     "output_type": "error",
     "traceback": [
      "\u001b[1;31m---------------------------------------------------------------------------\u001b[0m",
      "\u001b[1;31mTypeError\u001b[0m                                 Traceback (most recent call last)",
      "Cell \u001b[1;32mIn[22], line 4\u001b[0m\n\u001b[0;32m      1\u001b[0m \u001b[38;5;66;03m## so if we change something\u001b[39;00m\n\u001b[0;32m      2\u001b[0m \u001b[38;5;66;03m## we will get some output error\u001b[39;00m\n\u001b[0;32m      3\u001b[0m \u001b[38;5;66;03m## given the type error\u001b[39;00m\n\u001b[1;32m----> 4\u001b[0m \u001b[38;5;28mprint\u001b[39m(\u001b[38;5;124;43m\"\u001b[39;49m\u001b[38;5;124;43mThe number of Characters in the \u001b[39;49m\u001b[38;5;124;43m\"\u001b[39;49m\u001b[43m \u001b[49m\u001b[38;5;241;43m+\u001b[39;49m\u001b[43m \u001b[49m\u001b[43mname_char_length\u001b[49m \u001b[38;5;241m+\u001b[39m \u001b[38;5;124m\"\u001b[39m\u001b[38;5;124m is given as : \u001b[39m\u001b[38;5;124m\"\u001b[39m, name_char_length)\n",
      "\u001b[1;31mTypeError\u001b[0m: can only concatenate str (not \"int\") to str"
     ]
    }
   ],
   "source": [
    "## so if we change something\n",
    "## we will get some output error\n",
    "## given the type error\n",
    "print(\"The number of Characters in the \" + name_char_length + \" is given as : \", name_char_length)"
   ]
  },
  {
   "cell_type": "code",
   "execution_count": 25,
   "id": "4bb08a08",
   "metadata": {},
   "outputs": [
    {
     "name": "stdout",
     "output_type": "stream",
     "text": [
      "Name is a String :  <class 'str'>\n",
      "Name Character Length :  <class 'int'>\n"
     ]
    }
   ],
   "source": [
    "## type checking\n",
    "## checking the type of the variables that are assigned\n",
    "print(\"Name is a String : \",type(name))\n",
    "\n",
    "print(\"Name Character Length : \", type(name_char_length))"
   ]
  },
  {
   "cell_type": "code",
   "execution_count": 34,
   "id": "e042685f",
   "metadata": {},
   "outputs": [
    {
     "name": "stdout",
     "output_type": "stream",
     "text": [
      "Type of name_char_length <class 'int'>\n",
      "Converting the name_char_length  variable to String\n",
      "The number of Characters in the Name is 11\n"
     ]
    }
   ],
   "source": [
    "## type conversion\n",
    "print(\"Type of name_char_length\", type(name_char_length))\n",
    "\n",
    "## converting it to string\n",
    "print(\"Converting the name_char_length  variable to String\")\n",
    "new_name_char_length = str(name_char_length)\n",
    "\n",
    "## now we can concatenate it\n",
    "print(\"The number of Characters in the Name is \" + new_name_char_length)"
   ]
  },
  {
   "cell_type": "markdown",
   "id": "c0057744",
   "metadata": {},
   "source": [
    "**Question : Write a program that adds the digits in a 2 digit number. e.g. if the input was 35, then the output should be 3 + 5 = 8**"
   ]
  },
  {
   "cell_type": "code",
   "execution_count": 55,
   "id": "1201b51c",
   "metadata": {},
   "outputs": [
    {
     "name": "stdout",
     "output_type": "stream",
     "text": [
      "Type a number with more than 1 digit : 23456\n",
      "Number of digits in the Number :  5\n",
      "2\n",
      "5\n",
      "9\n"
     ]
    }
   ],
   "source": [
    "# 🚨 Don't change the code below 👇\n",
    "number = input(\"Type a number with more than 1 digit : \")\n",
    "# 🚨 Don't change the code above 👆\n",
    "\n",
    "####################################\n",
    "#Write your code below this line 👇\n",
    "\n",
    "print(\"Number of digits in the Number : \", len(number))\n",
    "\n",
    "## convert the number to string.\n",
    "# number_string = str(number)\n",
    "# print(number_string)\n",
    "\n",
    "## now need to take the sum of the individual numbers in the string\n",
    "total_sum = 0\n",
    "#print(type(total_sum))\n",
    "\n",
    "for num in number_string:\n",
    "    #print(type(num))\n",
    "    ## convert the string type number to integer type number\n",
    "    integer_num = int(num)\n",
    "    total_sum = total_sum + integer_num\n",
    "    \n",
    "    print(total_sum)"
   ]
  },
  {
   "cell_type": "code",
   "execution_count": 56,
   "id": "962dde40",
   "metadata": {},
   "outputs": [
    {
     "name": "stdout",
     "output_type": "stream",
     "text": [
      "Given number: 234\n",
      "Number of digits: 3\n",
      "Sum of individual digits: 9\n"
     ]
    }
   ],
   "source": [
    "def sum_of_digits(number):\n",
    "    # Convert the number to a string to count the digits\n",
    "    number_str = str(number)\n",
    "    \n",
    "    # Calculate the number of digits in the given number\n",
    "    num_digits = len(number_str)\n",
    "    \n",
    "    # Initialize a variable to store the sum of digits\n",
    "    digit_sum = 0\n",
    "    \n",
    "    # Loop through each character (digit) in the string representation of the number\n",
    "    for char in number_str:\n",
    "        # Convert the character back to an integer and add it to the sum\n",
    "        digit_sum += int(char)\n",
    "    \n",
    "    return num_digits, digit_sum\n",
    "\n",
    "# Test the function with your example\n",
    "given_number = 234\n",
    "num_digits, sum_of_individual_digits = sum_of_digits(given_number)\n",
    "print(f\"Given number: {given_number}\")\n",
    "print(f\"Number of digits: {num_digits}\")\n",
    "print(f\"Sum of individual digits: {sum_of_individual_digits}\")\n"
   ]
  },
  {
   "cell_type": "markdown",
   "id": "97177383",
   "metadata": {},
   "source": [
    "**Question : Write a program that calculates the Body Mass Index (BMI) from a user's weight and height.**\n",
    "\n",
    "BMI = Weight / (Height)^2"
   ]
  },
  {
   "cell_type": "code",
   "execution_count": 59,
   "id": "38d5129a",
   "metadata": {},
   "outputs": [
    {
     "name": "stdout",
     "output_type": "stream",
     "text": [
      "26.573129251700685\n"
     ]
    }
   ],
   "source": [
    "weight = 75\n",
    "height = 1.68\n",
    "\n",
    "BMI = weight / height ** 2\n",
    "print(BMI)"
   ]
  },
  {
   "cell_type": "code",
   "execution_count": 63,
   "id": "edc6aefa",
   "metadata": {},
   "outputs": [],
   "source": [
    "## function to calculate the BMI of a person\n",
    "def calculate_bmi(weight_kg, height_m):\n",
    "    ## function to calculate the BMI\n",
    "    ## weight in kg\n",
    "    ## height in metres\n",
    "    ## BMI euation = weight / (height)^2\n",
    "    # Calculate the BMI\n",
    "    bmi = float(weight_kg) / (float(height_m) ** 2)\n",
    "    return bmi\n",
    "\n",
    "## function to check whether the Person is Obese or Not\n",
    "def is_obese(bmi):\n",
    "    # Determine whether the person is obese based on BMI value\n",
    "    ## if the bmi value is more than 30, \n",
    "    ## then the person is obese.\n",
    "    ## they have to bring the bmi to normal levels by work out\n",
    "    if bmi >= 30:\n",
    "        return True\n",
    "    else:\n",
    "        return False"
   ]
  },
  {
   "cell_type": "code",
   "execution_count": 65,
   "id": "d05ece01",
   "metadata": {},
   "outputs": [
    {
     "name": "stdout",
     "output_type": "stream",
     "text": [
      "Enter the Weight of the Person : 75\n",
      "Enter the Height of the Person : 1.68\n",
      "26.573129251700685\n",
      "You are not obese.\n"
     ]
    }
   ],
   "source": [
    "weight = input(\"Enter the Weight of the Person : \")\n",
    "height = input(\"Enter the Height of the Person : \")\n",
    "\n",
    "bmi = calculate_bmi(weight, height)\n",
    "print(bmi)\n",
    "\n",
    "if is_obese(bmi):\n",
    "    print(\"You are obese.\")\n",
    "else:\n",
    "    print(\"You are not obese.\")"
   ]
  },
  {
   "cell_type": "code",
   "execution_count": 64,
   "id": "a622e656",
   "metadata": {},
   "outputs": [
    {
     "name": "stdout",
     "output_type": "stream",
     "text": [
      "Your BMI: 27.76\n",
      "You are not obese.\n"
     ]
    }
   ],
   "source": [
    "# Test the functions\n",
    "weight = 85  # Weight in kilograms\n",
    "height = 1.75  # Height in meters\n",
    "\n",
    "bmi_result = calculate_bmi(weight, height)\n",
    "print(f\"Your BMI: {bmi_result:.2f}\")\n",
    "\n",
    "if is_obese(bmi_result):\n",
    "    print(\"You are obese.\")\n",
    "else:\n",
    "    print(\"You are not obese.\")"
   ]
  },
  {
   "cell_type": "markdown",
   "id": "486ef158",
   "metadata": {},
   "source": [
    "**f-String**"
   ]
  },
  {
   "cell_type": "code",
   "execution_count": 67,
   "id": "15e8c74e",
   "metadata": {},
   "outputs": [
    {
     "name": "stdout",
     "output_type": "stream",
     "text": [
      "your score is 0, your height is 1.8, your winning is True\n"
     ]
    }
   ],
   "source": [
    "score = 0\n",
    "height = 1.8\n",
    "isWinning = True\n",
    "\n",
    "print(f\"your score is {score}, your height is {height}, your winning is {isWinning}\")"
   ]
  },
  {
   "cell_type": "markdown",
   "id": "923dd404",
   "metadata": {},
   "source": [
    "**Create a program using maths and f-Strings that tells us how many days, weeks, months we have left if we live until 90 years old.**"
   ]
  },
  {
   "cell_type": "code",
   "execution_count": 76,
   "id": "33997d00",
   "metadata": {},
   "outputs": [
    {
     "name": "stdout",
     "output_type": "stream",
     "text": [
      "What is your current age? 30\n",
      "30\n",
      "The Remaining Years in his Life :  60\n",
      "Number of Days Remaining :  21900\n",
      "Number of Weeks Remaining :  3120\n",
      "Number of Months Remaining :  720\n",
      "You have 60 years Remaining, which means you have 21900 days, 3120 weeks and 720 months remaining if you are going to live 90 years.\n"
     ]
    }
   ],
   "source": [
    "# 🚨 Don't change the code below 👇\n",
    "age = input(\"What is your current age? \")\n",
    "# 🚨 Don't change the code above 👆\n",
    "\n",
    "#Write your code below this line 👇\n",
    "## convert the string data type to integer data type inorder to do calculations.\n",
    "age_in_int = int(age)\n",
    "print(age_in_int)\n",
    "\n",
    "## now we only live 90 years\n",
    "## we have to find out what are the years left after the current age.\n",
    "years_remaining = 90 - age_in_int\n",
    "print(\"The Remaining Years in his Life : \", years_remaining)\n",
    "## calculating the years remaining in the number of days\n",
    "days_remaining = years_remaining * 365\n",
    "print(\"Number of Days Remaining : \", days_remaining)\n",
    "## calculating the number of weeks remaining.\n",
    "week_remaining = years_remaining * 52\n",
    "print(\"Number of Weeks Remaining : \", week_remaining)\n",
    "## calculating the months remaining\n",
    "months_remaining = years_remaining * 12\n",
    "print(\"Number of Months Remaining : \", months_remaining)\n",
    "\n",
    "\n",
    "message = f\"You have {years_remaining} years Remaining, which means you have {days_remaining} days, {week_remaining} weeks and {months_remaining} months remaining if you are going to live 90 years.\"\n",
    "print(message)"
   ]
  },
  {
   "cell_type": "code",
   "execution_count": 96,
   "id": "7e9128e3",
   "metadata": {},
   "outputs": [
    {
     "name": "stdout",
     "output_type": "stream",
     "text": [
      "Enter the your Age : 30\n",
      "Current Age of Person :  30\n",
      "How many years do you want to live : 65\n",
      "Maximum Years the Person Like to Live :  65\n",
      "Years Remaining is :  35\n",
      "Number of Years Remaining : 35\n",
      "Number of Days Remaining : 0\n",
      "NUmber of Weeks Remaining : 0\n",
      "Number of Months Remaining : 420\n"
     ]
    },
    {
     "data": {
      "text/plain": [
       "(35, 0, 0, 420)"
      ]
     },
     "execution_count": 96,
     "metadata": {},
     "output_type": "execute_result"
    }
   ],
   "source": [
    "## function to check the number of days, weeks, months left in our life time\n",
    "from datetime import date\n",
    "\n",
    "# today = date.today()\n",
    "# print(today)\n",
    "\n",
    "# day = today.day\n",
    "# print(day)\n",
    "# month = today.month\n",
    "# print(month)\n",
    "# year = today.year\n",
    "# print(year)\n",
    "\n",
    "current_age = int(input(\"Enter the your Age : \"))\n",
    "print(\"Current Age of Person : \", current_age)\n",
    "maximum_age = int(input(\"How many years do you want to live : \"))\n",
    "print(\"Maximum Years the Person Like to Live : \", maximum_age)\n",
    "\n",
    "\n",
    "def calculate_remaining_time(current_age, maximum_age):\n",
    "    \n",
    "    ## Calculate the Remaining Years Left to Live\n",
    "    years_remaining = maximum_age - current_age\n",
    "    print(\"Years Remaining is : \", years_remaining)\n",
    "    ### Calculate remaining days, weeks, and months\n",
    "    today = date.today()\n",
    "    birthday_this_year = date(today.year, today.month, today.day)\n",
    "    next_birthday = birthday_this_year if birthday_this_year >= today else birthday_this_year.replace(year=today.year + 1)\n",
    "    remaining_days = (next_birthday - today).days\n",
    "    remaining_weeks = remaining_days // 7\n",
    "    remaining_months = years_remaining * 12\n",
    "    \n",
    "    print(f\"Number of Years Remaining : {years_remaining}\")\n",
    "    print(f\"Number of Days Remaining : {remaining_days}\")\n",
    "    print(f\"NUmber of Weeks Remaining : {remaining_weeks}\")\n",
    "    print(f\"Number of Months Remaining : {remaining_months}\")\n",
    "    \n",
    "    return years_remaining, remaining_days, remaining_weeks, remaining_months\n",
    "\n",
    "\n",
    "calculate_remaining_time(current_age, maximum_age)"
   ]
  },
  {
   "cell_type": "markdown",
   "id": "05f817f4",
   "metadata": {},
   "source": [
    "**Tip Calculator Program**"
   ]
  },
  {
   "cell_type": "code",
   "execution_count": 106,
   "id": "4e70541d",
   "metadata": {},
   "outputs": [
    {
     "name": "stdout",
     "output_type": "stream",
     "text": [
      "Welcome to the Tip Calculator\n",
      "What was the Total Bill : 100\n",
      "Total Bill is : 100.0\n",
      "What Percentage Tip would you like to Give (10, 12, or 15) ?? :10\n",
      "Customer can pay a tip of 10 % to the waiter\n",
      "Tip amount is given by 10.0\n",
      "Total amount payable is 110.0\n",
      "How many People to split the Bill ??10\n",
      "Each Person Should Pay : 11.0\n"
     ]
    }
   ],
   "source": [
    "print(\"Welcome to the Tip Calculator\")\n",
    "total_bill = float(input(\"What was the Total Bill : \"))\n",
    "print(f\"Total Bill is : {total_bill}\")\n",
    "\n",
    "## what is the percentage of amount you are happy to tip the waiter\n",
    "## 2, 4, 6, 8, 10, 12, 14, 16 etc\n",
    "\n",
    "tip = int(input(\"What Percentage Tip would you like to Give (10, 12, or 15) ?? :\"))\n",
    "print(f\"Customer can pay a tip of {tip} % to the waiter\")\n",
    "\n",
    "## calculating the percentage of it\n",
    "## and adding the total amount needs to be payed by the customer including the tip\n",
    "tip_amount = total_bill * tip / 100\n",
    "print(f\"Tip amount is given by {tip_amount}\")\n",
    "\n",
    "## total amount to be payed including the tip amount.\n",
    "total_amount_payable = total_bill + tip_amount\n",
    "## round that amount to 2 decimal places \n",
    "total_amount_payable = round(total_amount_payable, 2)\n",
    "\n",
    "print(f\"Total amount payable is {total_amount_payable}\")\n",
    "\n",
    "num_of_splits = int(input(\"How many People to split the Bill ??\"))\n",
    "\n",
    "## now split the bill by num of splits\n",
    "pay_per_pesron = total_amount_payable / num_of_splits\n",
    "## round this to 2 decimal places\n",
    "pay_per_pesron = round(pay_per_pesron, 2)\n",
    "\n",
    "print(f\"Each Person Should Pay : {pay_per_pesron}\")"
   ]
  },
  {
   "cell_type": "markdown",
   "id": "d6999622",
   "metadata": {},
   "source": [
    "******"
   ]
  }
 ],
 "metadata": {
  "kernelspec": {
   "display_name": "Python 3 (ipykernel)",
   "language": "python",
   "name": "python3"
  },
  "language_info": {
   "codemirror_mode": {
    "name": "ipython",
    "version": 3
   },
   "file_extension": ".py",
   "mimetype": "text/x-python",
   "name": "python",
   "nbconvert_exporter": "python",
   "pygments_lexer": "ipython3",
   "version": "3.10.9"
  }
 },
 "nbformat": 4,
 "nbformat_minor": 5
}
