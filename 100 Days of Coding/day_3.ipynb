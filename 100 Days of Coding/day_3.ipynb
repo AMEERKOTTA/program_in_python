{
 "cells": [
  {
   "cell_type": "markdown",
   "id": "5d3cc9c0",
   "metadata": {},
   "source": [
    "# **Control Flow and Logical Operators**"
   ]
  },
  {
   "cell_type": "markdown",
   "id": "7d03191d",
   "metadata": {},
   "source": [
    "**if/else statements**"
   ]
  },
  {
   "cell_type": "code",
   "execution_count": 2,
   "id": "65758eac",
   "metadata": {},
   "outputs": [
    {
     "name": "stdout",
     "output_type": "stream",
     "text": [
      "Welcome to the RollerCoster Machine!!!\n",
      "Enter your Height in cms : 136\n",
      "You can Ride the Roller Coster\n"
     ]
    }
   ],
   "source": [
    "print(\"Welcome to the RollerCoster Machine!!!\")\n",
    "## define height parameter\n",
    "height = int(input(\"Enter your Height in cms : \"))\n",
    "\n",
    "## now only for people who are taller enough will be allowed to take the Roller Coster game.\n",
    "## the person should be more than or equal to 130cm,\n",
    "\n",
    "if height >= 130:\n",
    "    print(\"You can Ride the Roller Coster\")\n",
    "else:\n",
    "    print(\"Sorry, you have to be taller due to safety issues.\")"
   ]
  },
  {
   "cell_type": "code",
   "execution_count": 3,
   "id": "e4d08bb3",
   "metadata": {},
   "outputs": [
    {
     "name": "stdout",
     "output_type": "stream",
     "text": [
      "Welcome to the RollerCoster Machine!!!\n",
      "Enter your Height in cms : 170\n",
      "Enter your Age : 14\n",
      "Sorry, You cannot ride the RollerCoster\n"
     ]
    }
   ],
   "source": [
    "## so here comes the problem,\n",
    "## there will be kids taller but with small age\n",
    "## lets assume we can only allow people who are taller than 130cm\n",
    "## And, minimum age could be 15\n",
    "\n",
    "print(\"Welcome to the RollerCoster Machine!!!\")\n",
    "## define height parameter\n",
    "height = int(input(\"Enter your Height in cms : \"))\n",
    "age = int(input(\"Enter your Age : \"))\n",
    "\n",
    "if age >= 15 and height >= 130:\n",
    "    print(\"You Can Ride the RollerCoster!!\")\n",
    "else:\n",
    "    print(\"Sorry, You cannot ride the RollerCoster\")"
   ]
  },
  {
   "cell_type": "markdown",
   "id": "f27b2d77",
   "metadata": {},
   "source": [
    "**Write a program that works out whether if a given number is an odd or even number.**"
   ]
  },
  {
   "cell_type": "code",
   "execution_count": 7,
   "id": "85daa0f1",
   "metadata": {},
   "outputs": [
    {
     "name": "stdout",
     "output_type": "stream",
     "text": [
      "Enter the number to check : 12\n",
      "The Given Number is :  12\n",
      "The Number is Even\n"
     ]
    }
   ],
   "source": [
    "number = int(input(\"Enter the number to check : \"))\n",
    "print(\"The Given Number is : \", number)\n",
    "\n",
    "## checking using the if else statements\n",
    "if number % 2 == 1:\n",
    "    print(\"The Number is Odd\")\n",
    "else:\n",
    "    print(\"The Number is Even\")"
   ]
  },
  {
   "cell_type": "markdown",
   "id": "4b9c9593",
   "metadata": {},
   "source": [
    "**Nested if / else statements**"
   ]
  },
  {
   "cell_type": "code",
   "execution_count": 16,
   "id": "86d662b5",
   "metadata": {},
   "outputs": [
    {
     "name": "stdout",
     "output_type": "stream",
     "text": [
      "Welcome to the RollerCoster Machine!!!\n",
      "Enter your Height in cms : 190\n",
      "You can Ride the Roller Coster\n",
      "Please enter your Age : 34\n",
      "You have to pay 12AED to Enjoy the RollerCoster Ride\n"
     ]
    }
   ],
   "source": [
    "print(\"Welcome to the RollerCoster Machine!!!\")\n",
    "## define height parameter\n",
    "height = int(input(\"Enter your Height in cms : \"))\n",
    "# age = int(input(\"Please enter your Age : \"))\n",
    "\n",
    "## now only for people who are taller enough will be allowed to take the Roller Coster game.\n",
    "## the person should be more than or equal to 130cm,\n",
    "\n",
    "if height >= 130:\n",
    "    print(\"You can Ride the Roller Coster\")\n",
    "    ## checking for the age categories\n",
    "    age = int(input(\"Please enter your Age : \"))\n",
    "    if age < 12:\n",
    "        print(\"You have to Pay 5AED to Enjoy the RollerCoster Ride\")\n",
    "    elif age < 18:\n",
    "        print(\"You have to pay 7AED to Enjoy the RollerCoster Ride\")\n",
    "    else:\n",
    "        print(\"You have to pay 12AED to Enjoy the RollerCoster Ride\")\n",
    "else:\n",
    "    print(\"Sorry, you have to be taller due to safety issues.\")"
   ]
  },
  {
   "cell_type": "markdown",
   "id": "d8906edc",
   "metadata": {},
   "source": [
    "**BMI 2.0**\n",
    "\n",
    "Write a program that interprets the Body Mass Index (BMI) based on a user's weight and height.\n",
    "\n",
    "It should tell them the interpretation of their BMI based on the BMI value.\n",
    "\n",
    "+ Under 18.5 they are underweight\n",
    "+ Over 18.5 but below 25 they have a normal weight\n",
    "+ Over 25 but below 30 they are slightly overweight\n",
    "+ Over 30 but below 35 they are obese.\n",
    "+ Above 35 they are clinically obese."
   ]
  },
  {
   "cell_type": "code",
   "execution_count": 27,
   "id": "6c8853ba",
   "metadata": {},
   "outputs": [
    {
     "name": "stdout",
     "output_type": "stream",
     "text": [
      "Enter the Weight of the Person in kg: 100\n",
      "Enter the Height of the Person in m : 1.50\n",
      "The BMI value of the Person 44.44\n",
      "Your bmi value is 44.44, You are Clinically Obese !!!, Please Consult a Doctor\n"
     ]
    }
   ],
   "source": [
    "## bmi calculator\n",
    "\n",
    "\n",
    "## define the weight and height\n",
    "\n",
    "weight = float(input(\"Enter the Weight of the Person in kg: \"))\n",
    "height = float(input(\"Enter the Height of the Person in m : \"))\n",
    "\n",
    "## calculate the bmi\n",
    "bmi = round(weight / (height ** 2),2)\n",
    "print(\"The BMI value of the Person\",bmi)\n",
    "\n",
    "if bmi < 18.5:\n",
    "    print(f\"Your bmi value is {bmi}, You are UnderWeight!!\")\n",
    "elif bmi < 25:\n",
    "    print(f\"Your bmi value is {bmi}, You are Normal Weight, Great!!\")\n",
    "elif bmi < 30:\n",
    "    print(f\"Your bmi value is {bmi}, You are Slightly Obese, Please WorkOut, its in your Hand Right Now.\")\n",
    "elif bmi < 35:\n",
    "    print(f\"Your bmi value is {bmi}, You are Obese. Find a Professional Trainer.\")\n",
    "else:\n",
    "    print(f\"Your bmi value is {bmi}, You are Clinically Obese !!!, Please Consult a Doctor\")"
   ]
  },
  {
   "cell_type": "markdown",
   "id": "31c01381",
   "metadata": {},
   "source": [
    "**Leap Year**\n",
    "\n",
    "Write a program that works out whether if a given year is a leap year. A normal year has 365 days, leap years have 366, with an extra day in February. The reason why we have leap years is really fascinating, this video does it more justice:"
   ]
  },
  {
   "cell_type": "code",
   "execution_count": 46,
   "id": "dcb602bf",
   "metadata": {},
   "outputs": [
    {
     "name": "stdout",
     "output_type": "stream",
     "text": [
      "Enter the Year you need to Check : 2030\n",
      "Year is :  2030\n",
      "Not a Leap Year\n"
     ]
    }
   ],
   "source": [
    "year = int(input(\"Enter the Year you need to Check : \"))\n",
    "print(\"Year is : \", year)\n",
    "\n",
    "if year % 4 == 0:\n",
    "    if year % 100 == 0:\n",
    "        if year % 400 == 0:\n",
    "            print(\"It is a Leap year\")\n",
    "        else:\n",
    "            print(\"It is not a Leap Year\")\n",
    "    else:\n",
    "        print(\"It is a Leap Year\")\n",
    "else:\n",
    "    print(\"Not a Leap Year\")"
   ]
  },
  {
   "cell_type": "markdown",
   "id": "79e447ec",
   "metadata": {},
   "source": [
    "**Roller Coster Game Again**\n",
    "\n",
    "Multiple if statement on Succession."
   ]
  },
  {
   "cell_type": "code",
   "execution_count": 48,
   "id": "812673a6",
   "metadata": {},
   "outputs": [
    {
     "name": "stdout",
     "output_type": "stream",
     "text": [
      "Welcome to the RollerCoster Machine!!!\n",
      "Enter your Height in cms : 190\n",
      "You can Ride the Roller Coster\n",
      "Please enter your Age : 23\n",
      "Adult Ticket is 12AED to Enjoy the RollerCoster Ride\n",
      "Do you like to get a Picture ? Y or NY\n",
      "Your final amount to Enjoy the Ride is 15\n"
     ]
    }
   ],
   "source": [
    "print(\"Welcome to the RollerCoster Machine!!!\")\n",
    "## define height parameter\n",
    "height = int(input(\"Enter your Height in cms : \"))\n",
    "# age = int(input(\"Please enter your Age : \"))\n",
    "\n",
    "## initilaize the bill\n",
    "bill = 0\n",
    "\n",
    "## now only for people who are taller enough will be allowed to take the Roller Coster game.\n",
    "## the person should be more than or equal to 130cm,\n",
    "\n",
    "if height >= 130:\n",
    "    print(\"You can Ride the Roller Coster\")\n",
    "    ## checking for the age categories\n",
    "    age = int(input(\"Please enter your Age : \"))\n",
    "    if age < 12:\n",
    "        bill = 5\n",
    "        print(\"Child Ticket is 5AED to Enjoy the RollerCoster Ride\")\n",
    "    elif age < 18:\n",
    "        bill = 7\n",
    "        print(\"Youth Ticket is 7AED to Enjoy the RollerCoster Ride\")\n",
    "    else:\n",
    "        bill = 12\n",
    "        print(\"Adult Ticket is 12AED to Enjoy the RollerCoster Ride\")\n",
    "        \n",
    "    pic_needed = input(\"Do you like to get a Picture ? Y or N\")\n",
    "    if pic_needed == \"Y\":\n",
    "        bill += 3\n",
    "        print(f\"Your final amount to Enjoy the Ride is {bill}\")\n",
    "else:\n",
    "    print(\"Sorry, you have to be taller due to safety issues.\")"
   ]
  },
  {
   "cell_type": "markdown",
   "id": "b5718b4b",
   "metadata": {},
   "source": [
    "**Pizza Delivery Program**\n",
    "\n",
    "\n",
    "Congratulations, you've got a job at Python Pizza. Your first job is to build an automatic pizza order program.\n",
    "\n",
    "Based on a user's order, work out their final bill.\n",
    "\n",
    "Small Pizza: $15\n",
    "\n",
    "Medium Pizza: $20\n",
    "\n",
    "Large Pizza: $25\n",
    "\n",
    "Pepperoni for Small Pizza: +$2\n",
    "\n",
    "Pepperoni for Medium or Large Pizza: +$3\n",
    "\n",
    "Extra cheese for any size pizza: + $1"
   ]
  },
  {
   "cell_type": "code",
   "execution_count": 53,
   "id": "fb916dac",
   "metadata": {},
   "outputs": [
    {
     "name": "stdout",
     "output_type": "stream",
     "text": [
      "Welcome to Python Pizza Deliveries!\n",
      "What size pizza do you want? S, M, or L M\n",
      "Do you want pepperoni? Y or N N\n",
      "Do you want extra cheese? Y or N N\n",
      "Your total bill is 20\n"
     ]
    }
   ],
   "source": [
    "\n",
    "\n",
    "# 🚨 Don't change the code below 👇\n",
    "print(\"Welcome to Python Pizza Deliveries!\")\n",
    "size = input(\"What size pizza do you want? S, M, or L \")\n",
    "add_pepperoni = input(\"Do you want pepperoni? Y or N \")\n",
    "extra_cheese = input(\"Do you want extra cheese? Y or N \")\n",
    "# 🚨 Don't change the code above 👆\n",
    "\n",
    "#Write your code below this line 👇\n",
    "## initialize bill\n",
    "bill = 0\n",
    "\n",
    "## if the customer ordered the small pizza\n",
    "if size == \"S\":\n",
    "    bill += 15\n",
    "    if add_pepperoni == \"Y\":\n",
    "        bill += 2\n",
    "elif size == \"M\":\n",
    "    bill += 20\n",
    "    if add_pepperoni == \"Y\":\n",
    "        bill += 3\n",
    "else:\n",
    "    bill += 25\n",
    "    if add_pepperoni == \"Y\":\n",
    "        bill += 3\n",
    "\n",
    "if extra_cheese == \"Y\":\n",
    "    bill += 1\n",
    "    \n",
    "print(f\"Your total bill is {bill}\")"
   ]
  },
  {
   "cell_type": "markdown",
   "id": "4ce073a7",
   "metadata": {},
   "source": [
    "**LOVE SCORE CHALLENGE**\n",
    "\n",
    "You are going to write a program that tests the compatibility between two people.\n",
    "\n",
    "To work out the love score between two people:\n",
    "\n",
    "Take both people's names and check for the number of times the letters in the word TRUE occurs. \n",
    "\n",
    "Then check for the number of times the letters in the word LOVE occurs. \n",
    "\n",
    "Then combine these numbers to make a 2 digit number.\n",
    "\n",
    "For Love Scores less than 10 or greater than 90, the message should be:\n",
    "\n",
    "\"Your score is **x**, you go together like coke and mentos.\"\n",
    "For Love Scores between 40 and 50, the message should be:\n",
    "\n",
    "\"Your score is **y**, you are alright together.\"\n",
    "Otherwise, the message will just be their score. e.g.:\n",
    "\n",
    "\"Your score is **z**.\""
   ]
  },
  {
   "cell_type": "code",
   "execution_count": 59,
   "id": "544fcd64",
   "metadata": {},
   "outputs": [
    {
     "name": "stdout",
     "output_type": "stream",
     "text": [
      "Welcome to Love Score Calculator Challenge!!!\n",
      "Enter your Name : \n",
      "Ameer Shahul Hameed Kotta\n",
      "Enter your Partner name : \n",
      "Lubana Rinsi K\n",
      "Ameer Shahul Hameed KottaLubana Rinsi K\n",
      "Lower Case Name :  ameer shahul hameed kottalubana rinsi k\n",
      "10\n",
      "7\n",
      "107\n",
      "Your Love Score is 107, You go together like Coke and Mentos ....\n"
     ]
    }
   ],
   "source": [
    "print(\"Welcome to Love Score Calculator Challenge!!!\")\n",
    "name1 = input(\"Enter your Name : \\n\")\n",
    "name2 = input(\"Enter your Partner name : \\n\")\n",
    "\n",
    "## combine the two names into single string\n",
    "name = name1 + name2\n",
    "print(name)\n",
    "\n",
    "## to check the count of the letters TRUE LOVE in the name string.\n",
    "## make the name string to lower case or uppercase letters.\n",
    "name_ = name.lower()\n",
    "print(\"Lower Case Name : \", name_)\n",
    "\n",
    "## check for the count in letters TRUE LOVE\n",
    "## one by one\n",
    "\n",
    "t = name_.count(\"t\")\n",
    "r = name_.count(\"r\")\n",
    "u = name_.count(\"u\")\n",
    "e = name_.count(\"e\")\n",
    "\n",
    "true = t+r+u+e\n",
    "print(true)\n",
    "\n",
    "l = name_.count(\"l\")\n",
    "o = name_.count(\"o\")\n",
    "v = name_.count(\"v\")\n",
    "e = name_.count(\"e\")\n",
    "\n",
    "love = l+o+v+e\n",
    "print(love)\n",
    "\n",
    "love_score = int(str(true) + str(love))\n",
    "print(love_score)\n",
    "\n",
    "## conditionals\n",
    "if (love_score<10) or (love_score>90):\n",
    "    print(f\"Your Love Score is {love_score}, You go together like Coke and Mentos ....\")\n",
    "elif (love_score>=40) and (love_score<=50):\n",
    "    print(f\"Your Love Score is {love_score}, You are alright..\")\n",
    "else:\n",
    "    print(f\"Your Love Score is {love_score}\")"
   ]
  },
  {
   "cell_type": "code",
   "execution_count": 61,
   "id": "d1bd8f4a",
   "metadata": {},
   "outputs": [
    {
     "ename": "IndentationError",
     "evalue": "unindent does not match any outer indentation level (<tokenize>, line 3)",
     "output_type": "error",
     "traceback": [
      "\u001b[1;36m  File \u001b[1;32m<tokenize>:3\u001b[1;36m\u001b[0m\n\u001b[1;33m    _________|________________.=\"\"_;=.______________|_____________________|_______\u001b[0m\n\u001b[1;37m    ^\u001b[0m\n\u001b[1;31mIndentationError\u001b[0m\u001b[1;31m:\u001b[0m unindent does not match any outer indentation level\n"
     ]
    }
   ],
   "source": [
    "*******************************************************************************\n",
    "          |                   |                  |                     |\n",
    " _________|________________.=\"\"_;=.______________|_____________________|_______\n",
    "|                   |  ,-\"_,=\"\"     `\"=.|                  |\n",
    "|___________________|__\"=._o`\"-._        `\"=.______________|___________________\n",
    "          |                `\"=._o`\"=._      _`\"=._                     |\n",
    " _________|_____________________:=._o \"=._.\"_.-=\"'\"=.__________________|_______\n",
    "|                   |    __.--\" , ; `\"=._o.\" ,-\"\"\"-._ \".   |\n",
    "|___________________|_._\"  ,. .` ` `` ,  `\"-._\"-._   \". '__|___________________\n",
    "          |           |o`\"=._` , \"` `; .\". ,  \"-._\"-._; ;              |\n",
    " _________|___________| ;`-.o`\"=._; .\" ` '`.\"\\` . \"-._ /_______________|_______\n",
    "|                   | |o;    `\"-.o`\"=._``  '` \" ,__.--o;   |\n",
    "|___________________|_| ;     (#) `-.o `\"=.`_.--\"_o.-; ;___|___________________\n",
    "____/______/______/___|o;._    \"      `\".o|o_.--\"    ;o;____/______/______/____\n",
    "/______/______/______/_\"=._o--._        ; | ;        ; ;/______/______/______/_\n",
    "____/______/______/______/__\"=._o--._   ;o|o;     _._;o;____/______/______/____\n",
    "/______/______/______/______/____\"=._o._; | ;_.--\"o.--\"_/______/______/______/_\n",
    "____/______/______/______/______/_____\"=.o|o_.--\"\"___/______/______/______/____\n",
    "/______/______/______/______/______/______/______/______/______/______/[TomekK]\n",
    "*******************************************************************************"
   ]
  },
  {
   "cell_type": "markdown",
   "id": "42a590aa",
   "metadata": {},
   "source": [
    "**TREASURE ISLAND**\n",
    "\n",
    "+ "
   ]
  },
  {
   "cell_type": "code",
   "execution_count": 68,
   "id": "c05609cd",
   "metadata": {},
   "outputs": [
    {
     "name": "stdout",
     "output_type": "stream",
     "text": [
      "\n",
      "*******************************************************************************\n",
      "          |                   |                  |                     |\n",
      " _________|________________.=\"\"_;=.______________|_____________________|_______\n",
      "|                   |  ,-\"_,=\"\"     `\"=.|                  |\n",
      "|___________________|__\"=._o`\"-._        `\"=.______________|___________________\n",
      "          |                `\"=._o`\"=._      _`\"=._                     |\n",
      " _________|_____________________:=._o \"=._.\"_.-=\"'\"=.__________________|_______\n",
      "|                   |    __.--\" , ; `\"=._o.\" ,-\"\"\"-._ \".   |\n",
      "|___________________|_._\"  ,. .` ` `` ,  `\"-._\"-._   \". '__|___________________\n",
      "          |           |o`\"=._` , \"` `; .\". ,  \"-._\"-._; ;              |\n",
      " _________|___________| ;`-.o`\"=._; .\" ` '`.\"\\` . \"-._ /_______________|_______\n",
      "|                   | |o;    `\"-.o`\"=._``  '` \" ,__.--o;   |\n",
      "|___________________|_| ;     (#) `-.o `\"=.`_.--\"_o.-; ;___|___________________\n",
      "____/______/______/___|o;._    \"      `\".o|o_.--\"    ;o;____/______/______/____\n",
      "/______/______/______/_\"=._o--._        ; | ;        ; ;/______/______/______/_\n",
      "____/______/______/______/__\"=._o--._   ;o|o;     _._;o;____/______/______/____\n",
      "/______/______/______/______/____\"=._o._; | ;_.--\"o.--\"_/______/______/______/_\n",
      "____/______/______/______/______/_____\"=.o|o_.--\"\"___/______/______/______/____\n",
      "/______/______/______/______/______/______/______/______/______/______/_____ /\n",
      "*******************************************************************************\n",
      "\n",
      "Welcome to Treasure Island.\n",
      "Your mission is to find the treasure.\n",
      "You are at a location where you can take left or right, to find the  treasure. left or right ???LEFT\n",
      "You reached near a small pond, what do you like to do ?, swim or wait ??WAIT\n",
      "You will be carried by a boat to a Palace, now you have three doors which you can open. red, blue or yellow ???YELLOW\n",
      "You Win!\n"
     ]
    }
   ],
   "source": [
    "print('''\n",
    "*******************************************************************************\n",
    "          |                   |                  |                     |\n",
    " _________|________________.=\"\"_;=.______________|_____________________|_______\n",
    "|                   |  ,-\"_,=\"\"     `\"=.|                  |\n",
    "|___________________|__\"=._o`\"-._        `\"=.______________|___________________\n",
    "          |                `\"=._o`\"=._      _`\"=._                     |\n",
    " _________|_____________________:=._o \"=._.\"_.-=\"'\"=.__________________|_______\n",
    "|                   |    __.--\" , ; `\"=._o.\" ,-\"\"\"-._ \".   |\n",
    "|___________________|_._\"  ,. .` ` `` ,  `\"-._\"-._   \". '__|___________________\n",
    "          |           |o`\"=._` , \"` `; .\". ,  \"-._\"-._; ;              |\n",
    " _________|___________| ;`-.o`\"=._; .\" ` '`.\"\\` . \"-._ /_______________|_______\n",
    "|                   | |o;    `\"-.o`\"=._``  '` \" ,__.--o;   |\n",
    "|___________________|_| ;     (#) `-.o `\"=.`_.--\"_o.-; ;___|___________________\n",
    "____/______/______/___|o;._    \"      `\".o|o_.--\"    ;o;____/______/______/____\n",
    "/______/______/______/_\"=._o--._        ; | ;        ; ;/______/______/______/_\n",
    "____/______/______/______/__\"=._o--._   ;o|o;     _._;o;____/______/______/____\n",
    "/______/______/______/______/____\"=._o._; | ;_.--\"o.--\"_/______/______/______/_\n",
    "____/______/______/______/______/_____\"=.o|o_.--\"\"___/______/______/______/____\n",
    "/______/______/______/______/______/______/______/______/______/______/_____ /\n",
    "*******************************************************************************\n",
    "''')\n",
    "print(\"Welcome to Treasure Island.\")\n",
    "print(\"Your mission is to find the treasure.\") \n",
    "\n",
    "## please continue coding here\n",
    "step1 = input(\"You are at a location where you can take left or right, to find the  treasure. left or right ???\")\n",
    "## make all the letters to lower case \n",
    "step_1 = step1.lower()\n",
    "\n",
    "## if the player choose right or anything else, the game is over.\n",
    "## he will fall into a hole\n",
    "## only if he chooses to go left, he has the chance.\n",
    "if step_1 == \"left\":\n",
    "    step2 = input(\"You reached near a small pond, what do you like to do ?, swim or wait ??\")\n",
    "    step_2 = step2.lower()\n",
    "    if step_2 == \"wait\":\n",
    "        step3 = input(\"You will be carried by a boat to a Palace, now you have three doors which you can open. red, blue or yellow ???\")\n",
    "        step_3 = step3.lower()\n",
    "        if step_3 == \"red\":\n",
    "            print(\"Burned by fire.Game Over.\")\n",
    "        elif step_3 == \"blue\":\n",
    "            print(\"Eaten by beasts.Game Over.\")\n",
    "        elif step_3 == \"yellow\":\n",
    "            print(\"You Win!\")\n",
    "        else:\n",
    "            print(\"Game Over!!!\")\n",
    "    else:\n",
    "        print(\"Attacked by trout.Game Over.\")\n",
    "else:\n",
    "    print(\"You Fall into a Hole, Game Over!!\")"
   ]
  },
  {
   "cell_type": "markdown",
   "id": "e100f74e",
   "metadata": {},
   "source": [
    "******"
   ]
  }
 ],
 "metadata": {
  "kernelspec": {
   "display_name": "Python 3 (ipykernel)",
   "language": "python",
   "name": "python3"
  },
  "language_info": {
   "codemirror_mode": {
    "name": "ipython",
    "version": 3
   },
   "file_extension": ".py",
   "mimetype": "text/x-python",
   "name": "python",
   "nbconvert_exporter": "python",
   "pygments_lexer": "ipython3",
   "version": "3.10.9"
  }
 },
 "nbformat": 4,
 "nbformat_minor": 5
}
