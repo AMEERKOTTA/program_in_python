{
 "cells": [
  {
   "cell_type": "markdown",
   "id": "ffde1e8f",
   "metadata": {},
   "source": [
    "## **Randomization and Python Lists**"
   ]
  },
  {
   "cell_type": "code",
   "execution_count": 16,
   "id": "c6457f2a",
   "metadata": {},
   "outputs": [
    {
     "name": "stdout",
     "output_type": "stream",
     "text": [
      "4\n",
      "0.21053569958264884\n",
      "5.417010727075495\n"
     ]
    }
   ],
   "source": [
    "## introducing the random module\n",
    "import random\n",
    "\n",
    "## printing the random integer\n",
    "random_integer = random.randint(1,10)\n",
    "print(random_integer)\n",
    "\n",
    "## printing the random floating number\n",
    "random_float = random.random()\n",
    "print(random_float)\n",
    "\n",
    "## create a random floating point number between 0 and 5.\n",
    "random_float = random.uniform(0, 10)\n",
    "print(random_float)"
   ]
  },
  {
   "cell_type": "markdown",
   "id": "afe2d1f7",
   "metadata": {},
   "source": [
    "**HEADS OR TAILS**"
   ]
  },
  {
   "cell_type": "code",
   "execution_count": 22,
   "id": "3d657407",
   "metadata": {},
   "outputs": [
    {
     "name": "stdout",
     "output_type": "stream",
     "text": [
      "TAILS\n"
     ]
    }
   ],
   "source": [
    "import random\n",
    "random_number = random.randint(0,1)\n",
    "\n",
    "if random_number == 0:\n",
    "    print(\"HEADS\")\n",
    "else:\n",
    "    print(\"TAILS\")"
   ]
  },
  {
   "cell_type": "markdown",
   "id": "e6976037",
   "metadata": {},
   "source": [
    "**LISTS**"
   ]
  },
  {
   "cell_type": "code",
   "execution_count": 30,
   "id": "04511d5d",
   "metadata": {},
   "outputs": [
    {
     "name": "stdout",
     "output_type": "stream",
     "text": [
      "Manchester United\n",
      "Manchester City\n",
      "Arsenal\n",
      "Liverpool\n",
      "Chelsea\n",
      "['Manchester United', 'Manchester City', 'Arsenal', 'Liverpool', 'Chelsea', 'Wolves']\n"
     ]
    },
    {
     "data": {
      "text/plain": [
       "'Wolves'"
      ]
     },
     "execution_count": 30,
     "metadata": {},
     "output_type": "execute_result"
    }
   ],
   "source": [
    "pl_teams = [\"Manchester United\", \"Manchester City\", \"Arsenal\", \"Liverpool\", \"Chelsea\"]\n",
    "pl_teams\n",
    "\n",
    "## indexing the list\n",
    "print(pl_teams[0])\n",
    "print(pl_teams[1])\n",
    "print(pl_teams[2])\n",
    "print(pl_teams[3])\n",
    "print(pl_teams[4])\n",
    "\n",
    "## appending a team to list\n",
    "## team - Wolves\n",
    "\n",
    "pl_teams.append(\"Wolves\")\n",
    "\n",
    "print(pl_teams)\n",
    "\n",
    "pl_teams[-1]"
   ]
  },
  {
   "cell_type": "markdown",
   "id": "68c95451",
   "metadata": {},
   "source": [
    "**PROBLEM**\n",
    "\n",
    "You are going to write a program that will select a random name from a list of names. The person selected will have to pay for everybody's food bill."
   ]
  },
  {
   "cell_type": "code",
   "execution_count": 38,
   "id": "70c01952",
   "metadata": {},
   "outputs": [
    {
     "name": "stdout",
     "output_type": "stream",
     "text": [
      "Give me everybody's names, separated by a comma. Ameer Shahul Hameed Kotta, Fazal, Sharafu, Sidheeq, Shakir, Nabeel, Ajay, Faiz, Anas R, Irshad\n",
      "['Ameer Shahul Hameed Kotta', 'Fazal', 'Sharafu', 'Sidheeq', 'Shakir', 'Nabeel', 'Ajay', 'Faiz', 'Anas R', 'Irshad']\n",
      "Ameer Shahul Hameed Kotta will pay the bill today\n"
     ]
    }
   ],
   "source": [
    "# Import the random module here\n",
    "import random\n",
    "\n",
    "# Split string method\n",
    "names_string = input(\"Give me everybody's names, separated by a comma. \")\n",
    "names = names_string.split(\", \")\n",
    "print(names)\n",
    "# 🚨 Don't change the code above 👆\n",
    "\n",
    "#Write your code below this line 👇\n",
    "# random_person = random.choice(names)\n",
    "# print(f\"{random_person} will pay the bill today!!\")\n",
    "\n",
    "## without using choice\n",
    "## defining the random index\n",
    "random_index = random.randint(0, len(names)-1)\n",
    "random_name = names[random_index]\n",
    "print(f\"{random_name} will pay the bill today\")"
   ]
  },
  {
   "cell_type": "markdown",
   "id": "0bfaaae0",
   "metadata": {},
   "source": [
    "**PROBLEM**\n",
    "\n",
    "You are going to write a program that will mark a spot with an X.\n",
    "\n",
    "In the starting code, you will find a variable called map.\n",
    "\n",
    "This map contains a nested list. When map is printed this is what the nested list looks like:\n",
    "\n",
    "[['⬜️', '⬜️', '⬜️'],['⬜️', '⬜️', '⬜️'],['⬜️', '⬜️', '⬜️']]\n",
    "\n",
    "This is a bit hard to work with. So on lines 6 and 23, we've used this line of code print(f\"{row1}\\n{row2}\\n{row3}\" to format the 3 lists to be printed as a 3 by 3 square, each on a new line. \n",
    "\n",
    "['⬜️', '⬜️', '⬜️']\n",
    "\n",
    "['⬜️', '⬜️', '⬜️']\n",
    "\n",
    "['⬜️', '⬜️', '⬜️']"
   ]
  },
  {
   "cell_type": "code",
   "execution_count": 63,
   "id": "0c21e90d",
   "metadata": {},
   "outputs": [
    {
     "name": "stdout",
     "output_type": "stream",
     "text": [
      "['⬜️', '️⬜️', '️⬜️']\n",
      "['⬜️', '⬜️', '️⬜️']\n",
      "['⬜️️', '⬜️️', '⬜️️']\n",
      "Where do you want to put the treasure? 33\n",
      "33\n",
      "<class 'str'>\n",
      "<class 'str'>\n",
      "Column Index is given by :  3\n",
      "<class 'str'>\n",
      "Row Index is given by : 3\n",
      "['⬜️', '️⬜️', '️⬜️']\n",
      "['⬜️', '⬜️', '️⬜️']\n",
      "['⬜️️', '⬜️️', 'X']\n"
     ]
    }
   ],
   "source": [
    "# 🚨 Don't change the code below 👇\n",
    "row1 = [\"⬜️\",\"️⬜️\",\"️⬜️\"]\n",
    "row2 = [\"⬜️\",\"⬜️\",\"️⬜️\"]\n",
    "row3 = [\"⬜️️\",\"⬜️️\",\"⬜️️\"]\n",
    "map = [row1, row2, row3]\n",
    "print(f\"{row1}\\n{row2}\\n{row3}\")\n",
    "position = input(\"Where do you want to put the treasure? \")\n",
    "# 🚨 Don't change the code above 👆\n",
    "\n",
    "#Write your code below this row 👇\n",
    "print(position)\n",
    "print(type(position))\n",
    "## so here in the position,\n",
    "## first digit represwnts the column index\n",
    "## second digit represent the row index\n",
    "column_index = position[0]\n",
    "print(type(column_index))\n",
    "## convert the position to an integer\n",
    "column_index_ = int(column_index)\n",
    "print(\"Column Index is given by : \", column_index_)\n",
    "row_index = position[1]\n",
    "print(type(row_index))\n",
    "row_index_ = int(row_index)\n",
    "print(\"Row Index is given by :\", row_index_)\n",
    "\n",
    "## mapping the position with an X mark\n",
    "map[column_index_-1][row_index_-1] = \"X\"\n",
    "## print the output\n",
    "print(f\"{row1}\\n{row2}\\n{row3}\")"
   ]
  },
  {
   "cell_type": "code",
   "execution_count": 60,
   "id": "95f982ca",
   "metadata": {},
   "outputs": [
    {
     "name": "stdout",
     "output_type": "stream",
     "text": [
      "['⬜️', '️⬜️', '️⬜️']\n",
      "['⬜️', '⬜️', '️⬜️']\n",
      "['⬜️️', '⬜️️', '⬜️️']\n",
      "Where do you want to put the treasure? 32\n",
      "3\n",
      "2\n",
      "['⬜️', '️⬜️', '️⬜️']\n",
      "['⬜️', '⬜️', 'X']\n",
      "['⬜️️', '⬜️️', '⬜️️']\n"
     ]
    }
   ],
   "source": [
    "# 🚨 Don't change the code below 👇\n",
    "row1 = [\"⬜️\",\"️⬜️\",\"️⬜️\"]\n",
    "row2 = [\"⬜️\",\"⬜️\",\"️⬜️\"]\n",
    "row3 = [\"⬜️️\",\"⬜️️\",\"⬜️️\"]\n",
    "map = [row1, row2, row3]\n",
    "print(f\"{row1}\\n{row2}\\n{row3}\")\n",
    "position = input(\"Where do you want to put the treasure? \")\n",
    "# 🚨 Don't change the code above 👆\n",
    "\n",
    "#Write your code below this row 👇\n",
    "horizontal = int(position[0])\n",
    "print(horizontal)\n",
    "vertical = int(position[1])\n",
    "print(vertical)\n",
    "\n",
    "selected_row = map[vertical-1]\n",
    "selected_row[horizontal-1] = \"X\"\n",
    "\n",
    "## print the output\n",
    "print(f\"{row1}\\n{row2}\\n{row3}\")"
   ]
  },
  {
   "cell_type": "markdown",
   "id": "4f0061b5",
   "metadata": {},
   "source": [
    "**PROBLEM**\n",
    "\n",
    "Develop a Game Called Rock Paper Scissors"
   ]
  },
  {
   "cell_type": "code",
   "execution_count": 87,
   "id": "38d88418",
   "metadata": {},
   "outputs": [],
   "source": [
    "rock = '''\n",
    "    _______\n",
    "---'   ____)\n",
    "      (_____)\n",
    "      (_____)\n",
    "      (____)\n",
    "---.__(___)\n",
    "'''\n",
    "\n",
    "paper = '''\n",
    "    _______\n",
    "---'   ____)____\n",
    "          ______)\n",
    "          _______)\n",
    "         _______)\n",
    "---.__________)\n",
    "'''\n",
    "\n",
    "scissors = '''\n",
    "    _______\n",
    "---'   ____)____\n",
    "          ______)\n",
    "       __________)\n",
    "      (____)\n",
    "---.__(___)\n",
    "'''\n",
    "\n",
    "# images = [rock, paper, scissors]\n",
    "# print(images)\n",
    "\n",
    "#Write your code below this line 👇\n",
    "\n",
    "# print(rock)\n",
    "# print(paper)\n",
    "# print(scissors)\n",
    "\n",
    "## import random module\n",
    "import random\n",
    "\n",
    "############################## define the game logic  ##################################\n",
    "## game logic\n",
    "## Rock Paper Scissors, commonly abbreviated as RPS, goes beyond the simple interactions of \n",
    "## scissors cutting paper, \n",
    "## paper covering rock, \n",
    "## and rock crushing scissors\n",
    "\n",
    "## function to determine the winner\n",
    "def determine_winner(player_choice, computer_choice):\n",
    "    ## if the player choice and computer choice are the same, then its a tie\n",
    "    if player_choice == computer_choice:\n",
    "        return \"ITS A TIE\"\n",
    "    \n",
    "    ## elif\n",
    "    ## player choice = rock and computer choice = scissors or\n",
    "    ## player choice = paper and computer choice = rock or\n",
    "    ## player choice = scissors and computer choice = paper\n",
    "    ## player wins in any of these situation comes.\n",
    "    elif (player_choice == \"rock\" and computer_choice == \"scissors\") or \\\n",
    "            (player_choice == \"paper\" and computer_choice == \"rock\") or \\\n",
    "            (player_choice == \"scissors\" and computer_choice == \"paper\"):\n",
    "        return \"YOU WIN\"\n",
    "    \n",
    "    ## any other condition happens\n",
    "    ## computer wins\n",
    "    else:\n",
    "        return \"COMPUTER WIN\"\n",
    "    \n",
    "    \n",
    "    \n",
    "    \n",
    "    \n",
    "############################## getting the players choice  ############################\n",
    "## getting the player choice\n",
    "## develop a function to get the players choice\n",
    "## \n",
    "def get_player_choice():\n",
    "    \n",
    "    # Create a dictionary to map choices to their corresponding images\n",
    "    choices_images = {\n",
    "                        \"rock\": rock,\n",
    "                        \"paper\": paper,\n",
    "                        \"scissors\": scissors\n",
    "    }\n",
    "    \n",
    "    while True:\n",
    "        ## player choice is an input\n",
    "        ## it will choose from three different varieties\n",
    "        ## rock, paper, scissor.\n",
    "        ## so this loop will run until it gets a return value from the listed three,\n",
    "        ## if any user type with mixed caps and small letter texts.\n",
    "        ## we have to lower the player choice to get the standard output.\n",
    "        player_choice = input(\"Enter the Choice from (rock/paper/scissors) : \").lower()\n",
    "        ## above step will get the players choice.\n",
    "        ## need to check whether it is correct or not\n",
    "        if player_choice in choices_images:\n",
    "            print(\"Your Choice : \\n\",choices_images[player_choice])\n",
    "            return player_choice\n",
    "        \n",
    "        else:\n",
    "            print(\"Invalid Choice, Please Choose Again\")\n",
    "\n",
    "############################## getting the computer choice ############################\n",
    "\n",
    "## getting the computer choice\n",
    "## randomly choose between three elements\n",
    "## from rock, paper and scissor\n",
    "## it cann be done using random module and choice function.\n",
    "\n",
    "def get_computer_choice():\n",
    "    \n",
    "    # Create a dictionary to map choices to their corresponding images\n",
    "    choices_images = {\n",
    "                        \"rock\": rock,\n",
    "                        \"paper\": paper,\n",
    "                        \"scissors\": scissors\n",
    "    }\n",
    "    choices = [\"rock\",\"paper\",\"scissors\"]\n",
    "    computer_choice = random.choice(choices)\n",
    "    \n",
    "    if computer_choice in choices_images:\n",
    "        print(\"Computer Chose : \", choices_images[computer_choice])\n",
    "    return computer_choice\n",
    "\n",
    "############################### create the main loop of the game  #####################\n",
    "## main function\n",
    "## this will play the game\n",
    "\n",
    "def main():\n",
    "    ## welcome the player to the game\n",
    "    print(\"Let's Play the Rock Paper Scissor Game:---------\")\n",
    "    \n",
    "    while True:\n",
    "        \n",
    "        ## get the player choice using get_player_choice function\n",
    "        player_choice = get_player_choice()\n",
    "        ## get the computer choice similarly\n",
    "        computer_choice = get_computer_choice()\n",
    "        \n",
    "        print(f\"You Chose : {player_choice}\")\n",
    "        print(f\"Computer Chose : {computer_choice}\")\n",
    "        \n",
    "        ## check the result using the game defining function\n",
    "        ## determine the winner\n",
    "        result = determine_winner(player_choice, computer_choice)\n",
    "        print(f\"The Result is {result}\")\n",
    "        \n",
    "        \n",
    "        ## so if you want to play again\n",
    "        ## you will havr to choose the guess again\n",
    "        ## confirm whether the player needs to play the game again.\n",
    "        play_again = input(\"Do you want to play the game again (yes/no) ??\").lower()\n",
    "        \n",
    "        ## if the player dont want to play\n",
    "        ## break out of the loop\n",
    "        \n",
    "        if play_again != \"yes\":\n",
    "            print(\"Thanks for playing the Game !!!\")\n",
    "            break\n",
    "        \n"
   ]
  },
  {
   "cell_type": "code",
   "execution_count": 88,
   "id": "177da3b7",
   "metadata": {},
   "outputs": [
    {
     "name": "stdout",
     "output_type": "stream",
     "text": [
      "Let's Play the Rock Paper Scissor Game:---------\n",
      "Enter the Choice from (rock/paper/scissors) : paper\n",
      "Your Choice : \n",
      " \n",
      "    _______\n",
      "---'   ____)____\n",
      "          ______)\n",
      "          _______)\n",
      "         _______)\n",
      "---.__________)\n",
      "\n",
      "Computer Chose :  \n",
      "    _______\n",
      "---'   ____)____\n",
      "          ______)\n",
      "       __________)\n",
      "      (____)\n",
      "---.__(___)\n",
      "\n",
      "You Chose : paper\n",
      "Computer Chose : scissors\n",
      "The Result is COMPUTER WIN\n",
      "Do you want to play the game again (yes/no) ??yes\n",
      "Enter the Choice from (rock/paper/scissors) : rock\n",
      "Your Choice : \n",
      " \n",
      "    _______\n",
      "---'   ____)\n",
      "      (_____)\n",
      "      (_____)\n",
      "      (____)\n",
      "---.__(___)\n",
      "\n",
      "Computer Chose :  \n",
      "    _______\n",
      "---'   ____)____\n",
      "          ______)\n",
      "          _______)\n",
      "         _______)\n",
      "---.__________)\n",
      "\n",
      "You Chose : rock\n",
      "Computer Chose : paper\n",
      "The Result is COMPUTER WIN\n",
      "Do you want to play the game again (yes/no) ??yes\n",
      "Enter the Choice from (rock/paper/scissors) : scissors\n",
      "Your Choice : \n",
      " \n",
      "    _______\n",
      "---'   ____)____\n",
      "          ______)\n",
      "       __________)\n",
      "      (____)\n",
      "---.__(___)\n",
      "\n",
      "Computer Chose :  \n",
      "    _______\n",
      "---'   ____)____\n",
      "          ______)\n",
      "          _______)\n",
      "         _______)\n",
      "---.__________)\n",
      "\n",
      "You Chose : scissors\n",
      "Computer Chose : paper\n",
      "The Result is YOU WIN\n",
      "Do you want to play the game again (yes/no) ??no\n",
      "Thanks for playing the Game !!!\n"
     ]
    }
   ],
   "source": [
    "############################### run the main function. ################################\n",
    "if __name__ == \"__main__\":\n",
    "    main()"
   ]
  },
  {
   "cell_type": "markdown",
   "id": "71c4081f",
   "metadata": {},
   "source": [
    "****"
   ]
  }
 ],
 "metadata": {
  "kernelspec": {
   "display_name": "Python 3 (ipykernel)",
   "language": "python",
   "name": "python3"
  },
  "language_info": {
   "codemirror_mode": {
    "name": "ipython",
    "version": 3
   },
   "file_extension": ".py",
   "mimetype": "text/x-python",
   "name": "python",
   "nbconvert_exporter": "python",
   "pygments_lexer": "ipython3",
   "version": "3.10.9"
  }
 },
 "nbformat": 4,
 "nbformat_minor": 5
}
