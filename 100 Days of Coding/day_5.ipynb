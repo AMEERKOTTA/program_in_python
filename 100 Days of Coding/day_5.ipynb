{
 "cells": [
  {
   "cell_type": "markdown",
   "id": "4f83845b",
   "metadata": {},
   "source": [
    "## **Python Loops**"
   ]
  },
  {
   "cell_type": "markdown",
   "id": "b646aae3",
   "metadata": {},
   "source": [
    "**for loops**"
   ]
  },
  {
   "cell_type": "code",
   "execution_count": 4,
   "id": "ee8a5030",
   "metadata": {},
   "outputs": [
    {
     "name": "stdout",
     "output_type": "stream",
     "text": [
      "Apple\n",
      "Fruit name in Capital Letters : APPLE\n",
      "Banana\n",
      "Fruit name in Capital Letters : BANANA\n",
      "Orange\n",
      "Fruit name in Capital Letters : ORANGE\n"
     ]
    }
   ],
   "source": [
    "fruits = [\"Apple\",\"Banana\",\"Orange\"]\n",
    "\n",
    "for fruit in fruits:\n",
    "    print(fruit)\n",
    "    ## capitalize the letters\n",
    "    fruit_caps = fruit.upper()\n",
    "    print(f\"Fruit name in Capital Letters : {fruit_caps}\")"
   ]
  },
  {
   "cell_type": "markdown",
   "id": "883b4ef0",
   "metadata": {},
   "source": [
    "**Average Heights Problem**\n",
    "\n",
    "You are going to write a program that calculates the average student height from a List of heights.\n",
    "\n",
    "e.g. student_heights = [180, 124, 165, 173, 189, 169, 146]\n",
    "\n",
    "The average height can be calculated by adding all the heights together and dividing by the total number of heights.\n",
    "\n",
    "e.g.\n",
    "\n",
    "180 + 124 + 165 + 173 + 189 + 169 + 146 = 1146\n",
    "\n",
    "There are a total of 7 heights in student_heights\n",
    "\n",
    "1146 ÷ 7 = 163.71428571428572\n",
    "\n",
    "Average height rounded to the nearest whole number = 164\n",
    "\n",
    "Important You should not use the sum() or len() functions in your answer. You should try to replicate their functionality using what you have learnt about for loops."
   ]
  },
  {
   "cell_type": "code",
   "execution_count": 24,
   "id": "9398f5e8",
   "metadata": {},
   "outputs": [
    {
     "name": "stdout",
     "output_type": "stream",
     "text": [
      "Input a list of student heights seperated by comma130,135,140,145,150,155,160,165,170,175,180,185,190\n",
      "['130', '135', '140', '145', '150', '155', '160', '165', '170', '175', '180', '185', '190']\n",
      "[130, 135, 140, 145, 150, 155, 160, 165, 170, 175, 180, 185, 190]\n",
      "130\n",
      "135\n",
      "140\n",
      "145\n",
      "150\n",
      "155\n",
      "160\n",
      "165\n",
      "170\n",
      "175\n",
      "180\n",
      "185\n",
      "190\n",
      "The Total Height of the Students is 2080\n",
      "The Number of Students is 13\n",
      "Average Height is given by : 160\n"
     ]
    }
   ],
   "source": [
    "# 🚨 Don't change the code below 👇\n",
    "## the split will split the string by comma.\n",
    "student_heights = input(\"Input a list of student heights seperated by comma\").split(\",\")\n",
    "print(student_heights)\n",
    "## converting the string to integer\n",
    "for height in range(0, len(student_heights)):\n",
    "    student_heights[height] = int(student_heights[height])\n",
    "# 🚨 Don't change the code above 👆\n",
    "\n",
    "\n",
    "#Write your code below this row 👇\n",
    "print(student_heights)\n",
    "## taking the sum using the for loop instead of using sum function\n",
    "height_sum = 0\n",
    "for heights in student_heights:\n",
    "    print(heights)\n",
    "    height_sum += heights\n",
    "print(f\"The Total Height of the Students is {height_sum}\")\n",
    "\n",
    "## takinhg the count of number of students without using len function\n",
    "## initiate number of students = 0\n",
    "num_of_students = 0\n",
    "for student in student_heights:\n",
    "    num_of_students += 1\n",
    "print(f\"The Number of Students is {num_of_students}\")\n",
    "\n",
    "## taking the average\n",
    "## round the value using the round function\n",
    "average_height = round(height_sum / num_of_students)\n",
    "print(f\"Average Height is given by : {average_height}\")"
   ]
  },
  {
   "cell_type": "markdown",
   "id": "15960cd0",
   "metadata": {},
   "source": [
    "**High Score Challenge**\n",
    "\n",
    "You are going to write a program that calculates the highest score from a List of scores.\n",
    "\n",
    "e.g. student_scores = [78, 65, 89, 86, 55, 91, 64, 89]\n",
    "\n",
    "Important you are not allowed to use the max or min functions. The output words must match the example. i.e\n",
    "\n",
    "The highest score in the class is: x"
   ]
  },
  {
   "cell_type": "code",
   "execution_count": 33,
   "id": "e8f211be",
   "metadata": {},
   "outputs": [
    {
     "name": "stdout",
     "output_type": "stream",
     "text": [
      "Input a list of student scores seperated by comma :  200,190,180,170,160,150,140,130,199\n",
      "[200, 190, 180, 170, 160, 150, 140, 130, 199]\n",
      "The Highest Score is given by 200\n"
     ]
    }
   ],
   "source": [
    "# 🚨 Don't change the code below 👇\n",
    "## it will be splitted by comma.\n",
    "student_scores = input(\"Input a list of student scores seperated by comma :  \").split(\",\")\n",
    "## convert the each score from string to integer\n",
    "for score in range(0, len(student_scores)):\n",
    "      student_scores[score] = int(student_scores[score])\n",
    "print(student_scores)\n",
    "# 🚨 Don't change the code above 👆\n",
    "\n",
    "#Write your code below this row 👇\n",
    "## loop through the list of scores.\n",
    "## lets assume the highest is the first one in the list\n",
    "highest_score = student_scores[0]\n",
    "\n",
    "## looping through the scores\n",
    "for score in student_scores:\n",
    "    #print(score)\n",
    "    if score > highest_score:\n",
    "        highest_score = score\n",
    "        \n",
    "print(f\"The Highest Score is given by {highest_score}\")"
   ]
  },
  {
   "cell_type": "markdown",
   "id": "2dc4797c",
   "metadata": {},
   "source": [
    "**LOOPING THROUGH A RANGE**"
   ]
  },
  {
   "cell_type": "code",
   "execution_count": 36,
   "id": "24c04968",
   "metadata": {},
   "outputs": [
    {
     "name": "stdout",
     "output_type": "stream",
     "text": [
      "0\n",
      "1\n",
      "2\n",
      "3\n",
      "4\n",
      "5\n",
      "6\n",
      "7\n",
      "8\n",
      "9\n"
     ]
    }
   ],
   "source": [
    "## here the step will be 1\n",
    "for number in range(0,10):\n",
    "    print(number)"
   ]
  },
  {
   "cell_type": "code",
   "execution_count": 38,
   "id": "54a453cb",
   "metadata": {},
   "outputs": [
    {
     "name": "stdout",
     "output_type": "stream",
     "text": [
      "0\n",
      "2\n",
      "4\n",
      "6\n",
      "8\n",
      "10\n",
      "12\n",
      "14\n",
      "16\n",
      "18\n"
     ]
    }
   ],
   "source": [
    "## with step 2\n",
    "## third number defines the step we need to get.\n",
    "for number in range(0,20,2):\n",
    "    print(number)"
   ]
  },
  {
   "cell_type": "code",
   "execution_count": 39,
   "id": "17535c13",
   "metadata": {},
   "outputs": [
    {
     "name": "stdout",
     "output_type": "stream",
     "text": [
      "5050\n"
     ]
    }
   ],
   "source": [
    "## calculate the sum of the numbers between 1 to 100\n",
    "total = 0\n",
    "for number in range(1,101):\n",
    "    total += number\n",
    "    \n",
    "print(total)"
   ]
  },
  {
   "cell_type": "markdown",
   "id": "fe1c6303",
   "metadata": {},
   "source": [
    "**PROBLEM**\n",
    "\n",
    "You are going to write a program that calculates the sum of all the even numbers from 1 to 100. Thus, the first even number would be 2 and the last one is 100:\n",
    "\n",
    "i.e. 2 + 4 + 6 + 8 +10 ... + 98 + 100\n",
    "\n",
    "Important, there should only be 1 print statement in your console output. It should just print the final total and not every step of the calculation."
   ]
  },
  {
   "cell_type": "code",
   "execution_count": 43,
   "id": "a5ef0303",
   "metadata": {},
   "outputs": [
    {
     "name": "stdout",
     "output_type": "stream",
     "text": [
      "The Sum of all Even Numbers from 0 to 100, invluding 100 is : 2550\n"
     ]
    }
   ],
   "source": [
    "## one method\n",
    "even_sum = 0\n",
    "for num in range(0,101,2):\n",
    "    #print(num)\n",
    "    even_sum += num\n",
    "    \n",
    "print(f\"The Sum of all Even Numbers from 0 to 100, invluding 100 is : {even_sum}\")"
   ]
  },
  {
   "cell_type": "code",
   "execution_count": 44,
   "id": "e6610646",
   "metadata": {},
   "outputs": [
    {
     "name": "stdout",
     "output_type": "stream",
     "text": [
      "The Even Sum from 1 to 100 is given by : 2550\n"
     ]
    }
   ],
   "source": [
    "## another method\n",
    "even_sum = 0\n",
    "for number in range(1,101):\n",
    "    ## checking the numbers whether it is even or not\n",
    "    if number % 2 == 0:\n",
    "        ## if it is even\n",
    "        ## then add the number to the even sum\n",
    "        even_sum += number\n",
    "        \n",
    "print(f\"The Even Sum from 1 to 100 is given by : {even_sum}\")"
   ]
  },
  {
   "cell_type": "markdown",
   "id": "fd8ddd78",
   "metadata": {},
   "source": [
    "**FIZZ BUZZ GAME**\n",
    "\n",
    "You are going to write a program that automatically prints the solution to the FizzBuzz game.\n",
    "\n",
    "Your program should print each number from 1 to 100 in turn.\n",
    "\n",
    "When the number is divisible by 3 then instead of printing the number it should print \"Fizz\".\n",
    "\n",
    "When the number is divisible by 5, then instead of printing the number it should print \"Buzz\".`\n",
    "\n",
    "And if the number is divisible by both 3 and 5 e.g. 15 then instead of the number it should print \"FizzBuzz\""
   ]
  },
  {
   "cell_type": "code",
   "execution_count": 51,
   "id": "e332df72",
   "metadata": {},
   "outputs": [
    {
     "name": "stdout",
     "output_type": "stream",
     "text": [
      "Enter the Number : 30\n",
      "1\n",
      "2\n",
      "FIZZ\n",
      "4\n",
      "BUZZ\n",
      "FIZZ\n",
      "7\n",
      "8\n",
      "FIZZ\n",
      "BUZZ\n",
      "11\n",
      "FIZZ\n",
      "13\n",
      "14\n",
      "FIZZ BUZZ\n",
      "16\n",
      "17\n",
      "FIZZ\n",
      "19\n",
      "BUZZ\n",
      "FIZZ\n",
      "22\n",
      "23\n",
      "FIZZ\n",
      "BUZZ\n",
      "26\n",
      "FIZZ\n",
      "28\n",
      "29\n",
      "FIZZ BUZZ\n"
     ]
    }
   ],
   "source": [
    "## define the number n so that user can selecty the number\n",
    "n = int(input(\"Enter the Number : \"))\n",
    "## then loop through the range of that number.\n",
    "for number in range(1,n+1):\n",
    "    ## if number is both divisible by 3 and 5\n",
    "    ## print FIZZ BUZZ\n",
    "    if (number % 3 == 0) and (number % 5 == 0):\n",
    "        print(\"FIZZ BUZZ\")\n",
    "    ## if the number is divisible by 3 only\n",
    "    ## print FIZZ\n",
    "    elif number % 3 == 0:\n",
    "        print(\"FIZZ\")\n",
    "    ## if the number is divisible by 5 only\n",
    "    ## print BUZZ\n",
    "    elif number % 5 == 0:\n",
    "        print(\"BUZZ\")\n",
    "    ## if nothing happens, print the number.\n",
    "    else:\n",
    "        print(number)\n",
    "        \n",
    "## this is the game"
   ]
  },
  {
   "cell_type": "markdown",
   "id": "852fb787",
   "metadata": {},
   "source": [
    "**PASSWORD GENERATOR PROJECT**"
   ]
  },
  {
   "cell_type": "code",
   "execution_count": 59,
   "id": "a86e921d",
   "metadata": {},
   "outputs": [
    {
     "name": "stdout",
     "output_type": "stream",
     "text": [
      "Welcome to the PyPassword Generator!\n",
      "How many letters would you like in your password?\n",
      "8\n",
      "How many symbols would you like?\n",
      "3\n",
      "How many numbers would you like?\n",
      "3\n",
      "The Selected Alphabets :  HejEqcDQ\n",
      "The Selected Numbers :  138\n",
      "The Selected Symbols :  %#(\n",
      "Generated Password is :  HejEqcDQ138%#(\n",
      "The List of Charachters in the Selected Password :  ['H', 'e', 'j', 'E', 'q', 'c', 'D', 'Q', '1', '3', '8', '%', '#', '(']\n",
      "List of Shuffled Charecters :  ['Q', '3', 'H', '1', 'E', 'e', 'j', '%', '#', 'q', '8', '(', 'c', 'D']\n",
      "The Required Password is : Q3H1Eej%#q8(cD\n"
     ]
    }
   ],
   "source": [
    "#Password Generator Project\n",
    "import random\n",
    "letters = ['a', 'b', 'c', 'd', 'e', 'f', 'g', 'h', 'i', 'j',\n",
    "           'k', 'l', 'm', 'n', 'o', 'p', 'q', 'r', 's', 't', \n",
    "           'u', 'v', 'w', 'x', 'y', 'z', \n",
    "           'A', 'B', 'C', 'D', 'E', 'F', 'G', 'H', 'I', 'J',\n",
    "           'K', 'L', 'M', 'N', 'O', 'P', 'Q', 'R', 'S', 'T', \n",
    "           'U', 'V', 'W', 'X', 'Y', 'Z']\n",
    "\n",
    "numbers = ['0', '1', '2', '3', '4', '5', '6', '7', '8', '9']\n",
    "\n",
    "symbols = ['!', '#', '$', '%', '&', '(', ')', '*', '+']\n",
    "\n",
    "print(\"Welcome to the PyPassword Generator!\")\n",
    "nr_letters= int(input(\"How many letters would you like in your password?\\n\")) \n",
    "nr_symbols = int(input(f\"How many symbols would you like?\\n\"))\n",
    "nr_numbers = int(input(f\"How many numbers would you like?\\n\"))\n",
    "\n",
    "\n",
    "\n",
    "\n",
    "#Eazy Level - Order not randomised:\n",
    "#e.g. 4 letter, 2 symbol, 2 number = JduE&!91\n",
    "\n",
    "## password should be (nr_letters + nr_symbols + nr_nnumbers)\n",
    "## step 1 : generating alphabets in randomly from the letters list.\n",
    "random_letters = random.sample(letters, nr_letters)\n",
    "## join that letter together\n",
    "alphabets_ = \"\".join(random_letters)\n",
    "print(\"The Selected Alphabets : \",alphabets_)\n",
    "\n",
    "## step 2 : generating numbers from the number list\n",
    "random_numbers = random.sample(numbers, nr_numbers)\n",
    "## join that together\n",
    "number_ = \"\".join(random_numbers)\n",
    "print(\"The Selected Numbers : \",number_)\n",
    "\n",
    "random_symbols = random.sample(symbols, nr_symbols)\n",
    "## join them together\n",
    "symbols_ = \"\".join(random_symbols)\n",
    "print(\"The Selected Symbols : \",symbols_)\n",
    "\n",
    "\n",
    "password = alphabets_ + number_ + symbols_\n",
    "print(\"Generated Password is : \",password)\n",
    "\n",
    "## now i have the password\n",
    "## i want to shuffle it\n",
    "char_list = list(password)\n",
    "print(\"The List of Charachters in the Selected Password : \", char_list)\n",
    "## now shuffle the list\n",
    "random.shuffle(char_list)\n",
    "print(\"List of Shuffled Charecters : \", char_list)\n",
    "## combine them together again\n",
    "password_ = \"\".join(char_list)\n",
    "print(f\"The Required Password is : {password_}\")\n",
    "\n",
    "\n",
    "#Hard Level - Order of characters randomised:\n",
    "#e.g. 4 letter, 2 symbol, 2 number = g^2jk8&P"
   ]
  },
  {
   "cell_type": "code",
   "execution_count": 63,
   "id": "4420e2c8",
   "metadata": {},
   "outputs": [
    {
     "name": "stdout",
     "output_type": "stream",
     "text": [
      "Welcome to the PyPassword Generator!\n",
      "How many letters would you like in your password?\n",
      "8\n",
      "How many symbols would you like?\n",
      "3\n",
      "How many numbers would you like?\n",
      "3\n",
      "RwNLTSml917%%!\n",
      "The Generated Platform is : mNR!T1%%Sw7lL9\n"
     ]
    }
   ],
   "source": [
    "## different method\n",
    "#Password Generator Project\n",
    "import random\n",
    "letters = ['a', 'b', 'c', 'd', 'e', 'f', 'g', 'h', 'i', 'j',\n",
    "           'k', 'l', 'm', 'n', 'o', 'p', 'q', 'r', 's', 't', \n",
    "           'u', 'v', 'w', 'x', 'y', 'z', \n",
    "           'A', 'B', 'C', 'D', 'E', 'F', 'G', 'H', 'I', 'J',\n",
    "           'K', 'L', 'M', 'N', 'O', 'P', 'Q', 'R', 'S', 'T', \n",
    "           'U', 'V', 'W', 'X', 'Y', 'Z']\n",
    "\n",
    "numbers = ['0', '1', '2', '3', '4', '5', '6', '7', '8', '9']\n",
    "\n",
    "symbols = ['!', '#', '$', '%', '&', '(', ')', '*', '+']\n",
    "\n",
    "print(\"Welcome to the PyPassword Generator!\")\n",
    "nr_letters= int(input(\"How many letters would you like in your password?\\n\")) \n",
    "nr_symbols = int(input(f\"How many symbols would you like?\\n\"))\n",
    "nr_numbers = int(input(f\"How many numbers would you like?\\n\"))\n",
    "\n",
    "## define the password string\n",
    "password = \"\"\n",
    "## randomly pick nr_letters from the letters using a for loop\n",
    "## and range function\n",
    "## then use the choice function from random module to get random choice every time loop runs\n",
    "for letter in range(1, nr_letters+1):\n",
    "    random_letter = random.choice(letters)\n",
    "    #print(random_letter)\n",
    "    ## join that to the password variable defined earlier\n",
    "    password += random_letter\n",
    "    #print(password)\n",
    "    \n",
    "## similarly do the same thing for symbol and numbers\n",
    "for number in range(1,nr_numbers+1):\n",
    "    random_number = random.choice(numbers)\n",
    "    password += random_number\n",
    "    \n",
    "for symbol in range(1,nr_symbols+1):\n",
    "    random_symbols = random.choice(symbols)\n",
    "    password += random_symbols\n",
    "    \n",
    "print(password)\n",
    "\n",
    "## now i want to shuffle this password\n",
    "char_list = list(password)\n",
    "random.shuffle(char_list)\n",
    "password_final = \"\".join(char_list)\n",
    "print(f\"The Generated Platform is : {password_final}\")"
   ]
  },
  {
   "cell_type": "code",
   "execution_count": 65,
   "id": "c251e3b6",
   "metadata": {},
   "outputs": [
    {
     "name": "stdout",
     "output_type": "stream",
     "text": [
      "Welcome to the PyPassword Generator!\n",
      "How many letters would you like in your password?\n",
      "7\n",
      "How many symbols would you like?\n",
      "3\n",
      "How many numbers would you like?\n",
      "3\n",
      "['A', 'G', 'G', 'z', 'G', 'J', 's', '2', '2', '0', '(', '(', ')']\n",
      "The Generated Password is : 2J0Gs(zGA)G2(\n"
     ]
    }
   ],
   "source": [
    "## different method\n",
    "#Password Generator Project\n",
    "import random\n",
    "letters = ['a', 'b', 'c', 'd', 'e', 'f', 'g', 'h', 'i', 'j',\n",
    "           'k', 'l', 'm', 'n', 'o', 'p', 'q', 'r', 's', 't', \n",
    "           'u', 'v', 'w', 'x', 'y', 'z', \n",
    "           'A', 'B', 'C', 'D', 'E', 'F', 'G', 'H', 'I', 'J',\n",
    "           'K', 'L', 'M', 'N', 'O', 'P', 'Q', 'R', 'S', 'T', \n",
    "           'U', 'V', 'W', 'X', 'Y', 'Z']\n",
    "\n",
    "numbers = ['0', '1', '2', '3', '4', '5', '6', '7', '8', '9']\n",
    "\n",
    "symbols = ['!', '#', '$', '%', '&', '(', ')', '*', '+']\n",
    "\n",
    "print(\"Welcome to the PyPassword Generator!\")\n",
    "nr_letters= int(input(\"How many letters would you like in your password?\\n\")) \n",
    "nr_symbols = int(input(f\"How many symbols would you like?\\n\"))\n",
    "nr_numbers = int(input(f\"How many numbers would you like?\\n\"))\n",
    "\n",
    "## define the password list\n",
    "password = []\n",
    "## randomly pick nr_letters from the letters using a for loop\n",
    "## and range function\n",
    "## then use the choice function from random module to get random choice every time loop runs\n",
    "for letter in range(1, nr_letters+1):\n",
    "    random_letters = random.choice(letters)\n",
    "    #print(random_letter)\n",
    "    ## join that to the password variable defined earlier\n",
    "    password.append(random_letters)\n",
    "    #print(password)\n",
    "    \n",
    "## similarly do the same thing for symbol and numbers\n",
    "for number in range(1,nr_numbers+1):\n",
    "    random_numbers = random.choice(numbers)\n",
    "    password.append(random_numbers)\n",
    "    \n",
    "for symbol in range(1,nr_symbols+1):\n",
    "    random_symbols = random.choice(symbols)\n",
    "    password.append(random_symbols)\n",
    "    \n",
    "print(password)\n",
    "\n",
    "## shuffle the list\n",
    "random.shuffle(password)\n",
    "password_final = \"\".join(password)\n",
    "print(f\"The Generated Password is : {password_final}\")"
   ]
  },
  {
   "cell_type": "markdown",
   "id": "ddd251c2",
   "metadata": {},
   "source": [
    "***"
   ]
  }
 ],
 "metadata": {
  "kernelspec": {
   "display_name": "Python 3 (ipykernel)",
   "language": "python",
   "name": "python3"
  },
  "language_info": {
   "codemirror_mode": {
    "name": "ipython",
    "version": 3
   },
   "file_extension": ".py",
   "mimetype": "text/x-python",
   "name": "python",
   "nbconvert_exporter": "python",
   "pygments_lexer": "ipython3",
   "version": "3.10.9"
  }
 },
 "nbformat": 4,
 "nbformat_minor": 5
}
