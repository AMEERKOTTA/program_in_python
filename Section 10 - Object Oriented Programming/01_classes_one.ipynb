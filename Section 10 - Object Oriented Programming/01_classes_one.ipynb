{
 "cells": [
  {
   "cell_type": "markdown",
   "metadata": {},
   "source": [
    "### OBJECT ORIENTED PROGRAMMING - INTRODUCTION"
   ]
  },
  {
   "cell_type": "code",
   "execution_count": 47,
   "metadata": {},
   "outputs": [],
   "source": [
    "class Kettle(object):\n",
    "    \n",
    "    def __init__(self, make, price):\n",
    "        print(\"The self is Called :--\")\n",
    "        print(\"The make of the Kettle :--\", make)\n",
    "        print(\"The price of the Kettle :--\", price)\n",
    "        \n",
    "        self.make = make\n",
    "        self.price = price\n",
    "        self.on = False"
   ]
  },
  {
   "cell_type": "code",
   "execution_count": 48,
   "metadata": {},
   "outputs": [
    {
     "name": "stdout",
     "output_type": "stream",
     "text": [
      "The self is Called :--\n",
      "The make of the Kettle :-- kenwood\n",
      "The price of the Kettle :-- 8.99\n",
      "kenwood\n",
      "8.99\n",
      "12.75\n",
      "The self is Called :--\n",
      "The make of the Kettle :-- hamilton\n",
      "The price of the Kettle :-- 14.55\n",
      "hamilton\n",
      "14.55\n",
      "Models : kenwood = 12.75, hamilton = 14.55\n"
     ]
    }
   ],
   "source": [
    "kenwood = Kettle(\"kenwood\", 8.99)\n",
    "\n",
    "print(kenwood.make)\n",
    "print(kenwood.price)\n",
    "\n",
    "kenwood.price = 12.75\n",
    "print(kenwood.price)\n",
    "\n",
    "hamilton = Kettle(\"hamilton\", 14.55)\n",
    "print(hamilton.make)\n",
    "print(hamilton.price)\n",
    "\n",
    "print(\"Models : {} = {}, {} = {}\".format(kenwood.make, kenwood.price, hamilton.make, hamilton.price))"
   ]
  },
  {
   "cell_type": "code",
   "execution_count": 26,
   "metadata": {},
   "outputs": [
    {
     "name": "stdout",
     "output_type": "stream",
     "text": [
      "200\n",
      "Red\n",
      "********************************************************************************\n",
      "500\n",
      "PURPLE\n"
     ]
    }
   ],
   "source": [
    "## creating a Class called Car.\n",
    "\n",
    "class Car:\n",
    "    pass\n",
    "\n",
    "## initializing the instances of the class Car.\n",
    "ford = Car()\n",
    "honda = Car()\n",
    "audi = Car()\n",
    "\n",
    "## associating data with the object.\n",
    "ford.speed = 200\n",
    "honda.speed = 300\n",
    "audi.speed = 400\n",
    "\n",
    "## similarly for color\n",
    "ford.color = \"Red\"\n",
    "honda.color = \"Black\"\n",
    "audi.color = \"Blue\"\n",
    "\n",
    "## print the results \n",
    "print(ford.speed)\n",
    "print(ford.color)\n",
    "\n",
    "print(\"*\"*80)\n",
    "\n",
    "## we can reassign the values.\n",
    "ford.speed = 500\n",
    "ford.color = \"PURPLE\"\n",
    "\n",
    "## print the results \n",
    "print(ford.speed)\n",
    "print(ford.color)"
   ]
  },
  {
   "cell_type": "code",
   "execution_count": 49,
   "metadata": {},
   "outputs": [
    {
     "name": "stdout",
     "output_type": "stream",
     "text": [
      "Area of the Rectangle 1 :-- 50\n",
      "Area of the Rectangle 2 :-- 300\n"
     ]
    }
   ],
   "source": [
    "## creating another CLass\n",
    "class Rectangle:\n",
    "    pass\n",
    "\n",
    "rect1 = Rectangle()  ## rectangle 1\n",
    "rect2 = Rectangle()  ## rectangle 2\n",
    "\n",
    "## assign the height and width for both rects.\n",
    "rect1.height = 10\n",
    "rect1.width = 5\n",
    "\n",
    "rect2.height = 20\n",
    "rect2.width = 15\n",
    "\n",
    "## Calculate the area of the rectangles\n",
    "print(\"Area of the Rectangle 1 :--\", rect1.height * rect1.width)\n",
    "print(\"Area of the Rectangle 2 :--\", rect2.height * rect2.width)"
   ]
  },
  {
   "cell_type": "markdown",
   "metadata": {},
   "source": [
    "### __init__ and self"
   ]
  },
  {
   "cell_type": "code",
   "execution_count": 50,
   "metadata": {},
   "outputs": [
    {
     "name": "stdout",
     "output_type": "stream",
     "text": [
      "The __init__ is called:---\n",
      "The __init__ is called:---\n",
      "The __init__ is called:---\n"
     ]
    }
   ],
   "source": [
    "## creating a Class called Car.\n",
    "\n",
    "class Car:\n",
    "    def __init__(self):\n",
    "        print(\"The __init__ is called:---\")\n",
    "\n",
    "        \n",
    "## initializing the instances of the class Car.\n",
    "ford = Car()\n",
    "honda = Car()\n",
    "audi = Car()\n"
   ]
  },
  {
   "cell_type": "code",
   "execution_count": 51,
   "metadata": {},
   "outputs": [
    {
     "name": "stdout",
     "output_type": "stream",
     "text": [
      "The __init__ is called:---\n",
      "Speed of the Car :-- 300\n",
      "Color of the Car :-- RED\n",
      "The __init__ is called:---\n",
      "Speed of the Car :-- 400\n",
      "Color of the Car :-- BLACK\n",
      "The __init__ is called:---\n",
      "Speed of the Car :-- 500\n",
      "Color of the Car :-- PURPLE\n"
     ]
    },
    {
     "ename": "AttributeError",
     "evalue": "'Car' object has no attribute 'speed'",
     "output_type": "error",
     "traceback": [
      "\u001b[1;31m---------------------------------------------------------------------------\u001b[0m",
      "\u001b[1;31mAttributeError\u001b[0m                            Traceback (most recent call last)",
      "\u001b[1;32m<ipython-input-51-218b4550664c>\u001b[0m in \u001b[0;36m<module>\u001b[1;34m\u001b[0m\n\u001b[0;32m     15\u001b[0m \u001b[1;33m\u001b[0m\u001b[0m\n\u001b[0;32m     16\u001b[0m \u001b[1;31m## print the results\u001b[0m\u001b[1;33m\u001b[0m\u001b[1;33m\u001b[0m\u001b[1;33m\u001b[0m\u001b[0m\n\u001b[1;32m---> 17\u001b[1;33m \u001b[0mprint\u001b[0m\u001b[1;33m(\u001b[0m\u001b[0mford\u001b[0m\u001b[1;33m.\u001b[0m\u001b[0mspeed\u001b[0m\u001b[1;33m)\u001b[0m\u001b[1;33m\u001b[0m\u001b[1;33m\u001b[0m\u001b[0m\n\u001b[0m\u001b[0;32m     18\u001b[0m \u001b[0mprint\u001b[0m\u001b[1;33m(\u001b[0m\u001b[0mford\u001b[0m\u001b[1;33m.\u001b[0m\u001b[0mcolor\u001b[0m\u001b[1;33m)\u001b[0m\u001b[1;33m\u001b[0m\u001b[1;33m\u001b[0m\u001b[0m\n",
      "\u001b[1;31mAttributeError\u001b[0m: 'Car' object has no attribute 'speed'"
     ]
    }
   ],
   "source": [
    "## creating a Class called Car.\n",
    "\n",
    "class Car:\n",
    "    def __init__(self, speed, color):\n",
    "        print(\"The __init__ is called:---\")\n",
    "        print(\"Speed of the Car :--\",speed)\n",
    "        print(\"Color of the Car :--\",color)\n",
    "\n",
    "        \n",
    "## initializing the instances of the class Car.\n",
    "ford = Car(300, \"RED\")\n",
    "honda = Car(400, \"BLACK\")\n",
    "audi = Car(500, \"PURPLE\")\n",
    "\n",
    "\n",
    "## print the results \n",
    "print(ford.speed)\n",
    "print(ford.color)"
   ]
  },
  {
   "cell_type": "code",
   "execution_count": 52,
   "metadata": {},
   "outputs": [
    {
     "name": "stdout",
     "output_type": "stream",
     "text": [
      "The __init__ is called:---\n",
      "Speed of the Car :-- 300\n",
      "Color of the Car :-- RED\n",
      "The __init__ is called:---\n",
      "Speed of the Car :-- 400\n",
      "Color of the Car :-- BLACK\n",
      "The __init__ is called:---\n",
      "Speed of the Car :-- 500\n",
      "Color of the Car :-- PURPLE\n",
      "The speed of the Ford Car is :- 300\n",
      "The color of the Ford Car is :- RED\n"
     ]
    }
   ],
   "source": [
    "## we are assigning the speed and color attributes using self.\n",
    "## creating a Class called Car.\n",
    "\n",
    "class Car:\n",
    "    def __init__(self, speed, color):\n",
    "        print(\"The __init__ is called:---\")\n",
    "        print(\"Speed of the Car :--\",speed)\n",
    "        print(\"Color of the Car :--\",color)\n",
    "        self.speed = speed\n",
    "        self.color = color\n",
    "        \n",
    "## initializing the instances of the class Car.\n",
    "ford = Car(300, \"RED\")\n",
    "honda = Car(400, \"BLACK\")\n",
    "audi = Car(500, \"PURPLE\")\n",
    "\n",
    "\n",
    "## print the results \n",
    "print(\"The speed of the Ford Car is :-\",ford.speed)\n",
    "print(\"The color of the Ford Car is :-\",ford.color)"
   ]
  },
  {
   "cell_type": "code",
   "execution_count": 53,
   "metadata": {},
   "outputs": [
    {
     "name": "stdout",
     "output_type": "stream",
     "text": [
      "The self is Called :--\n",
      "The Height of the Rectangle is -- 15\n",
      "The Width of the Rectangle is -- 10\n",
      "Area of the Rectangle 1 :-- 150\n",
      "********************************************************************************\n",
      "The self is Called :--\n",
      "The Height of the Rectangle is -- 25\n",
      "The Width of the Rectangle is -- 20\n",
      "Area of the Rectangle 2 :-- 500\n"
     ]
    }
   ],
   "source": [
    "## creating another CLass\n",
    "class Rectangle:\n",
    "    def __init__(self, height, width):\n",
    "        print(\"The self is Called :--\")\n",
    "        print(\"The Height of the Rectangle is --\", height)\n",
    "        print(\"The Width of the Rectangle is --\", width)\n",
    "        self.height = height\n",
    "        self.width = width\n",
    "        \n",
    "rect1 = Rectangle(15, 10)  ## rectangle 1\n",
    "print(\"Area of the Rectangle 1 :--\", rect1.height * rect1.width)\n",
    "print(\"*\"*80)\n",
    "rect2 = Rectangle(25, 20)  ## rectangle 2\n",
    "print(\"Area of the Rectangle 2 :--\", rect2.height * rect2.width)"
   ]
  },
  {
   "cell_type": "code",
   "execution_count": null,
   "metadata": {},
   "outputs": [],
   "source": []
  }
 ],
 "metadata": {
  "kernelspec": {
   "display_name": "Python 3",
   "language": "python",
   "name": "python3"
  },
  "language_info": {
   "codemirror_mode": {
    "name": "ipython",
    "version": 3
   },
   "file_extension": ".py",
   "mimetype": "text/x-python",
   "name": "python",
   "nbconvert_exporter": "python",
   "pygments_lexer": "ipython3",
   "version": "3.8.3"
  }
 },
 "nbformat": 4,
 "nbformat_minor": 4
}
