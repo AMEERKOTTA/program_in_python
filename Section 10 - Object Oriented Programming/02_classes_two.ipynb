{
 "cells": [
  {
   "cell_type": "markdown",
   "metadata": {},
   "source": [
    "### CLASSES EXPLANATIONS\n",
    "\n",
    "+ `Class` :- Template for Creating Objects. All objects created using the same class will have the same characteristics.\n",
    "+ `Object` :- An Instance of a Class.\n",
    "+ `Instantiate` :- Creating the Instance of Class.\n",
    "+ `Method` :- Fucntion defined in Class.\n",
    "+ `Attribute` :- Variable bound to an Instance of a Class."
   ]
  },
  {
   "cell_type": "code",
   "execution_count": 47,
   "metadata": {},
   "outputs": [
    {
     "name": "stdout",
     "output_type": "stream",
     "text": [
      "The self is Called :---\n",
      "The Kettle is Made of the Company :-- kenwood\n",
      "The Kettle is of the Price :-- 12.75\n",
      "********************************************************************************\n",
      "The self is Called :---\n",
      "The Kettle is Made of the Company :-- Hamilton\n",
      "The Kettle is of the Price :-- 15.99\n",
      "********************************************************************************\n",
      "Calling the Hamilton object, the Values is :--- False\n",
      "********************************************************************************\n",
      "The Self is Called :--\n",
      "Changed the hamiton switch by Calling the second function.  None\n",
      "Now the output is :--- True\n",
      "********************************************************************************\n",
      "False\n",
      "********************************************************************************\n",
      "The Self is Called :--\n",
      "None\n",
      "True\n",
      "********************************************************************************\n",
      "The Self is Called :--\n",
      "True\n",
      "********************************************************************************\n",
      "1.5\n",
      "********************************************************************************\n"
     ]
    },
    {
     "ename": "AttributeError",
     "evalue": "'Kettle' object has no attribute 'power'",
     "output_type": "error",
     "traceback": [
      "\u001b[1;31m---------------------------------------------------------------------------\u001b[0m",
      "\u001b[1;31mAttributeError\u001b[0m                            Traceback (most recent call last)",
      "\u001b[1;32m<ipython-input-47-a9f6a7cb5e26>\u001b[0m in \u001b[0;36m<module>\u001b[1;34m\u001b[0m\n\u001b[0;32m     53\u001b[0m \u001b[1;31m## chacking the hamilton object for power.\u001b[0m\u001b[1;33m\u001b[0m\u001b[1;33m\u001b[0m\u001b[1;33m\u001b[0m\u001b[0m\n\u001b[0;32m     54\u001b[0m \u001b[0mprint\u001b[0m\u001b[1;33m(\u001b[0m\u001b[1;34m\"*\"\u001b[0m\u001b[1;33m*\u001b[0m\u001b[1;36m80\u001b[0m\u001b[1;33m)\u001b[0m\u001b[1;33m\u001b[0m\u001b[1;33m\u001b[0m\u001b[0m\n\u001b[1;32m---> 55\u001b[1;33m \u001b[0mprint\u001b[0m\u001b[1;33m(\u001b[0m\u001b[0mhamilton\u001b[0m\u001b[1;33m.\u001b[0m\u001b[0mpower\u001b[0m\u001b[1;33m)\u001b[0m\u001b[1;33m\u001b[0m\u001b[1;33m\u001b[0m\u001b[0m\n\u001b[0m",
      "\u001b[1;31mAttributeError\u001b[0m: 'Kettle' object has no attribute 'power'"
     ]
    }
   ],
   "source": [
    "## creating the Class Kettle\n",
    "class Kettle(object):\n",
    "    \n",
    "    ## method is the function in the class\n",
    "    ## method 1 - function 1\n",
    "    def __init__(self, make, price):\n",
    "        print(\"The self is Called :---\")\n",
    "        print(\"The Kettle is Made of the Company :--\", make)\n",
    "        print(\"The Kettle is of the Price :--\", price)\n",
    "        self.make = make\n",
    "        self.price = price\n",
    "        self.on = False\n",
    "    \n",
    "    ## method 2 - function 2    \n",
    "    def switch_on(self):\n",
    "        print(\"The Self is Called :--\")\n",
    "        self.on = True\n",
    "        \n",
    "        \n",
    "## instantiating the objects\n",
    "kenwood = Kettle(\"kenwood\", 12.75)  ## object 1\n",
    "print(\"*\"*80)\n",
    "hamilton = Kettle(\"Hamilton\", 15.99) ## object 2\n",
    "print(\"*\"*80)\n",
    "\n",
    "## using the self.on in the init function, it was False at that time.\n",
    "print(\"Calling the Hamilton object, the Values is :---\",hamilton.on)\n",
    "print(\"*\"*80)\n",
    "\n",
    "## then called the second function, method, using the object hamilton.switch_on, which is True.\n",
    "## then we will get the True, because it is true.\n",
    "print(\"Changed the hamiton switch by Calling the second function. \",hamilton.switch_on())\n",
    "print(\"Now the output is :---\",hamilton.on)\n",
    "\n",
    "print(\"*\"*80)\n",
    "## calling the same of kenwood\n",
    "print(kenwood.on)\n",
    "\n",
    "print(\"*\"*80)\n",
    "print(kenwood.switch_on())\n",
    "print(kenwood.on)\n",
    "\n",
    "print(\"*\"*80)\n",
    "Kettle.switch_on(kenwood)\n",
    "print(kenwood.on)\n",
    "\n",
    "\n",
    "print(\"*\"*80)\n",
    "kenwood.power = 1.5   ## initialized a new attribute power to the kenwood\n",
    "print(kenwood.power)\n",
    "\n",
    "\n",
    "## chacking the hamilton object for power.\n",
    "print(\"*\"*80)\n",
    "print(hamilton.power)"
   ]
  },
  {
   "cell_type": "code",
   "execution_count": 44,
   "metadata": {},
   "outputs": [
    {
     "name": "stdout",
     "output_type": "stream",
     "text": [
      "1.5\n"
     ]
    }
   ],
   "source": [
    "kenwood.power = 1.5\n",
    "print(kenwood.power)"
   ]
  },
  {
   "cell_type": "code",
   "execution_count": null,
   "metadata": {},
   "outputs": [],
   "source": []
  }
 ],
 "metadata": {
  "kernelspec": {
   "display_name": "Python 3",
   "language": "python",
   "name": "python3"
  },
  "language_info": {
   "codemirror_mode": {
    "name": "ipython",
    "version": 3
   },
   "file_extension": ".py",
   "mimetype": "text/x-python",
   "name": "python",
   "nbconvert_exporter": "python",
   "pygments_lexer": "ipython3",
   "version": "3.8.3"
  }
 },
 "nbformat": 4,
 "nbformat_minor": 4
}
