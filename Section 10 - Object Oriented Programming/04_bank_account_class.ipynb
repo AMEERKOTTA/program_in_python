{
 "cells": [
  {
   "cell_type": "markdown",
   "metadata": {},
   "source": [
    "### CLASS FOR BANK ACCOUNT"
   ]
  },
  {
   "cell_type": "code",
   "execution_count": 29,
   "metadata": {},
   "outputs": [],
   "source": [
    "class BankAccount(object):\n",
    "    \n",
    "    \"\"\"Simple Account Class with Balance\"\"\"\n",
    "    \n",
    "    ## method 1, function to check the name and balance.\n",
    "    ## then print that the account is been created.\n",
    "    def __init__(self, account_name, account_balance):\n",
    "        self.account_name = account_name\n",
    "        self.account_balance = account_balance\n",
    "        print(\"Account is Created for \" + self.account_name)\n",
    "        \n",
    "    ## method 2, function to deposit the amount, if the amount is > 0\n",
    "    def deposit(self, amount):\n",
    "        ## if the amount is greater than 0, then deposit the amount.\n",
    "        ## ie add the amount to the account_balance\n",
    "        if amount > 0:\n",
    "            self.account_balance += amount\n",
    "            print(\"Your account is credited with {} Rupees\".format(amount))\n",
    "            print(\"Your Current Account Balance is {} Rupees\".format(self.account_balance))\n",
    "            \n",
    "    ## method 3, function to withdraw amount from the account.\n",
    "    ## if the amount is greater than 0\n",
    "    def withdraw(self, amount):\n",
    "        ## if the amount is greater than 0, then withdraw the amount.\n",
    "        ## form the account_balance\n",
    "        if amount > 0:\n",
    "            self.account_balance -= amount\n",
    "            print(\"{} Rupess is debited from your Account\".format(amount))\n",
    "            print(\"Your Current Account Balance is {} Rupees\".format(self.account_balance))\n",
    "            \n",
    "    ## method 4, function to show the balance.\n",
    "    ## after any deposit or withdraw or after any time without any transaction.\n",
    "    ## to check the account balance,\n",
    "    def show_account_balance(self):\n",
    "        print(\"Your Account Balance is {} Rupees\".format(self.account_balance))\n",
    "        "
   ]
  },
  {
   "cell_type": "code",
   "execution_count": 38,
   "metadata": {},
   "outputs": [
    {
     "name": "stdout",
     "output_type": "stream",
     "text": [
      "Account is Created for Ameer Kotta\n",
      "Your Account Balance is 3000 Rupees\n",
      "Your account is credited with 20000 Rupees\n",
      "Your Account Balance is 23000 Rupees\n",
      "5000 Rupess is debited from your Account\n",
      "Your Account Balance is 18000 Rupees\n",
      "Your Account Balance is 18000 Rupees\n"
     ]
    }
   ],
   "source": [
    "if __name__ == \"__main__\":\n",
    "\n",
    "    ameer = BankAccount(\"Ameer Kotta\", 3000)\n",
    "    ## check the balance of ameer\n",
    "    ameer.show_account_balance()\n",
    "    ## deposit some money\n",
    "    ameer.deposit(20000)\n",
    "    ## debit some amount.\n",
    "    ameer.withdraw(5000)\n",
    "    ## show the account balance\n",
    "    ameer.show_account_balance()"
   ]
  },
  {
   "cell_type": "code",
   "execution_count": 37,
   "metadata": {},
   "outputs": [
    {
     "name": "stdout",
     "output_type": "stream",
     "text": [
      "Account is Created for Ameer Kotta\n",
      "Your Account Balance is 3000 Rupees\n",
      "Your account is credited with 20000 Rupees\n",
      "Your Account Balance is 23000 Rupees\n",
      "30000 Rupess is debited from your Account\n",
      "Your Account Balance is -7000 Rupees\n",
      "Your Account Balance is -7000 Rupees\n"
     ]
    }
   ],
   "source": [
    "class BankAccount(object):\n",
    "    \n",
    "    \"\"\"Simple Account Class with Balance\"\"\"\n",
    "    \n",
    "    ## method 1, function to check the name and balance.\n",
    "    ## then print that the account is been created.\n",
    "    def __init__(self, account_name, account_balance):\n",
    "        self.account_name = account_name\n",
    "        self.account_balance = account_balance\n",
    "        print(\"Account is Created for \" + self.account_name)\n",
    "        \n",
    "    ## method 2, function to deposit the amount, if the amount is > 0\n",
    "    def deposit(self, amount):\n",
    "        ## if the amount is greater than 0, then deposit the amount.\n",
    "        ## ie add the amount to the account_balance\n",
    "        if amount > 0:\n",
    "            self.account_balance += amount\n",
    "            print(\"Your account is credited with {} Rupees\".format(amount))\n",
    "            #print(\"Your Current Account Balance is {} Rupees\".format(self.account_balance))\n",
    "            self.show_account_balance()\n",
    "            \n",
    "    ## method 3, function to withdraw amount from the account.\n",
    "    ## if the amount is greater than 0\n",
    "    def withdraw(self, amount):\n",
    "        ## if the amount is greater than 0, then withdraw the amount.\n",
    "        ## form the account_balance\n",
    "        if amount > 0:\n",
    "            self.account_balance -= amount\n",
    "            print(\"{} Rupess is debited from your Account\".format(amount))\n",
    "            #print(\"Your Current Account Balance is {} Rupees\".format(self.account_balance))\n",
    "            self.show_account_balance()\n",
    "            \n",
    "    ## method 4, function to show the balance.\n",
    "    ## after any deposit or withdraw or after any time without any transaction.\n",
    "    ## to check the account balance,\n",
    "    def show_account_balance(self):\n",
    "        print(\"Your Account Balance is {} Rupees\".format(self.account_balance))\n",
    "\n",
    "\n",
    "        \n",
    "        \n",
    "if __name__ == \"__main__\":\n",
    "\n",
    "    ameer = BankAccount(\"Ameer Kotta\", 3000)\n",
    "    ## check the balance of ameer\n",
    "    ameer.show_account_balance()\n",
    "    ## deposit some money\n",
    "    ameer.deposit(20000)\n",
    "    ## debit some amount.\n",
    "    ameer.withdraw(30000)\n",
    "    ## show the account balance\n",
    "    ameer.show_account_balance()"
   ]
  },
  {
   "cell_type": "code",
   "execution_count": 41,
   "metadata": {},
   "outputs": [
    {
     "name": "stdout",
     "output_type": "stream",
     "text": [
      "Account is Created for Ameer Kotta\n",
      "Your Account Balance is -3000 Rupees\n",
      "Your account is credited with 20000 Rupees\n",
      "Your Account Balance is 17000 Rupees\n",
      "The amount must be greater than zero and no more than your account balance\n",
      "Your Account Balance is 17000 Rupees\n"
     ]
    }
   ],
   "source": [
    "class BankAccount(object):\n",
    "    \n",
    "    \"\"\"Simple Account Class with Balance\"\"\"\n",
    "    \n",
    "    ## method 1, function to check the name and balance.\n",
    "    ## then print that the account is been created.\n",
    "    def __init__(self, account_name, account_balance):\n",
    "        self.account_name = account_name\n",
    "        self.account_balance = account_balance\n",
    "        print(\"Account is Created for \" + self.account_name)\n",
    "        \n",
    "    ## method 2, function to deposit the amount, if the amount is > 0\n",
    "    def deposit(self, amount):\n",
    "        ## if the amount is greater than 0, then deposit the amount.\n",
    "        ## ie add the amount to the account_balance\n",
    "        if amount > 0:\n",
    "            self.account_balance += amount\n",
    "            print(\"Your account is credited with {} Rupees\".format(amount))\n",
    "            #print(\"Your Current Account Balance is {} Rupees\".format(self.account_balance))\n",
    "            self.show_account_balance()\n",
    "            \n",
    "    ## method 3, function to withdraw amount from the account.\n",
    "    ## if the amount is greater than 0\n",
    "    def withdraw(self, amount):\n",
    "        ## if the amount is greater than 0, then withdraw the amount.\n",
    "        ## form the account_balance\n",
    "        if 0 < amount < self.account_balance:\n",
    "            self.account_balance -= amount\n",
    "            print(\"{} Rupess is debited from your Account\".format(amount))\n",
    "        else:\n",
    "            print(\"The amount must be greater than zero and no more than your account balance\")\n",
    "            self.show_account_balance()\n",
    "            \n",
    "    ## method 4, function to show the balance.\n",
    "    ## after any deposit or withdraw or after any time without any transaction.\n",
    "    ## to check the account balance,\n",
    "    def show_account_balance(self):\n",
    "        print(\"Your Account Balance is {} Rupees\".format(self.account_balance))\n",
    "\n",
    "\n",
    "        \n",
    "        \n",
    "if __name__ == \"__main__\":\n",
    "\n",
    "    ameer = BankAccount(\"Ameer Kotta\", -3000)\n",
    "    ## check the balance of ameer\n",
    "    ameer.show_account_balance()\n",
    "    ## deposit some money\n",
    "    ameer.deposit(20000)\n",
    "    ## debit some amount.\n",
    "    ameer.withdraw(30000)\n",
    "    ## show the account balance\n",
    "    #ameer.show_account_balance()"
   ]
  },
  {
   "cell_type": "code",
   "execution_count": null,
   "metadata": {},
   "outputs": [],
   "source": []
  }
 ],
 "metadata": {
  "kernelspec": {
   "display_name": "Python 3",
   "language": "python",
   "name": "python3"
  },
  "language_info": {
   "codemirror_mode": {
    "name": "ipython",
    "version": 3
   },
   "file_extension": ".py",
   "mimetype": "text/x-python",
   "name": "python",
   "nbconvert_exporter": "python",
   "pygments_lexer": "ipython3",
   "version": "3.8.3"
  }
 },
 "nbformat": 4,
 "nbformat_minor": 4
}
