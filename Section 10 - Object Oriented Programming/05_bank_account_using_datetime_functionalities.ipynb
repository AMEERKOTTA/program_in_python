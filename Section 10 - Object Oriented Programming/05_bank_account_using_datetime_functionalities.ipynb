{
 "cells": [
  {
   "cell_type": "markdown",
   "metadata": {},
   "source": [
    "### BANK ACCOUNT CLASS USING TRANSACTION LIST WITH TIME FUNCTIONALITIES"
   ]
  },
  {
   "cell_type": "code",
   "execution_count": 10,
   "metadata": {},
   "outputs": [
    {
     "name": "stdout",
     "output_type": "stream",
     "text": [
      "Account is Created for Ameer Kotta\n",
      "Your Account Balance is 3000 Rupees\n",
      "Your account is credited with 20000 Rupees\n",
      "Your Account Balance is 23000 Rupees\n",
      "The amount must be greater than zero and no more than your account balance\n",
      "Your Account Balance is 23000 Rupees\n",
      " 20000 Deposited on 2023-01-19 07:01:51.899357+00:00 (local time was 2023-01-19 12:31:51.899357+05:30)\n"
     ]
    }
   ],
   "source": [
    "import datetime\n",
    "import pytz\n",
    "\n",
    "class BankAccount(object):\n",
    "    \n",
    "    \"\"\"Simple Account Class with Balance\"\"\"\n",
    "    \n",
    "    ## method 1, function to check the name and balance.\n",
    "    ## then print that the account is been created.\n",
    "    def __init__(self, account_name, account_balance):\n",
    "        self.account_name = account_name\n",
    "        self.account_balance = account_balance\n",
    "        self.transaction_list = []    ## initialize a transaction list as an empty list.\n",
    "        print(\"Account is Created for \" + self.account_name)\n",
    "        \n",
    "    ## method 2, function to deposit the amount, if the amount is > 0\n",
    "    def deposit(self, amount):\n",
    "        ## if the amount is greater than 0, then deposit the amount.\n",
    "        ## ie add the amount to the account_balance\n",
    "        if amount > 0:\n",
    "            self.account_balance += amount\n",
    "            print(\"Your account is credited with {} Rupees\".format(amount))\n",
    "            #print(\"Your Current Account Balance is {} Rupees\".format(self.account_balance))\n",
    "            self.show_account_balance()\n",
    "            self.transaction_list.append((pytz.utc.localize(datetime.datetime.utcnow()), amount))\n",
    "            \n",
    "    ## method 3, function to withdraw amount from the account.\n",
    "    ## if the amount is greater than 0\n",
    "    def withdraw(self, amount):\n",
    "        ## if the amount is greater than 0, then withdraw the amount.\n",
    "        ## form the account_balance\n",
    "        if 0 < amount < self.account_balance:\n",
    "            self.account_balance -= amount\n",
    "            print(\"{} Rupess is debited from your Account\".format(amount))\n",
    "        else:\n",
    "            print(\"The amount must be greater than zero and no more than your account balance\")\n",
    "            self.show_account_balance()\n",
    "            \n",
    "    ## method 4, function to show the balance.\n",
    "    ## after any deposit or withdraw or after any time without any transaction.\n",
    "    ## to check the account balance,\n",
    "    def show_account_balance(self):\n",
    "        print(\"Your Account Balance is {} Rupees\".format(self.account_balance))\n",
    "\n",
    "    def show_transactions(self):\n",
    "        for date, amount in self.transaction_list:\n",
    "            if amount > 0:\n",
    "                tran_type = \"Deposited\"\n",
    "            else:\n",
    "                tran_type = \"Withdrawn\"\n",
    "                amount *= -1\n",
    "            print(\"{:6} {} on {} (local time was {})\".format(amount, tran_type, date, date.astimezone()))\n",
    "\n",
    "        \n",
    "        \n",
    "if __name__ == \"__main__\":\n",
    "\n",
    "    ameer = BankAccount(\"Ameer Kotta\", 3000)\n",
    "    ## check the balance of ameer\n",
    "    ameer.show_account_balance()\n",
    "    ## deposit some money\n",
    "    ameer.deposit(20000)\n",
    "    ## debit some amount.\n",
    "    ameer.withdraw(30000)\n",
    "    ## show the account balance\n",
    "    #ameer.show_account_balance()\n",
    "    ameer.show_transactions()"
   ]
  },
  {
   "cell_type": "code",
   "execution_count": 16,
   "metadata": {},
   "outputs": [],
   "source": [
    "import datetime\n",
    "import pytz\n",
    "\n",
    "def current_time():\n",
    "    utc_time = datetime.datetime.utcnow()\n",
    "    return print(\"The Local Time :--\", pytz.utc.localize(utc_time))"
   ]
  },
  {
   "cell_type": "code",
   "execution_count": 17,
   "metadata": {},
   "outputs": [
    {
     "name": "stdout",
     "output_type": "stream",
     "text": [
      "The Local Time :-- 2023-01-19 07:12:52.430793+00:00\n"
     ]
    }
   ],
   "source": [
    "current_time()"
   ]
  },
  {
   "cell_type": "code",
   "execution_count": 28,
   "metadata": {},
   "outputs": [
    {
     "name": "stdout",
     "output_type": "stream",
     "text": [
      "Account is Created for Ameer Kotta\n",
      "Your Account Balance is 3000 Rupees\n",
      "Your account is credited with 20000 Rupees\n",
      "Your Account Balance is 23000 Rupees\n",
      "The amount must be greater than zero and no more than your account balance\n",
      "Your Account Balance is 23000 Rupees\n",
      " 20000 Deposited on 2023-01-19 07:20:30.970202+00:00 (local time was 2023-01-19 12:50:30.970202+05:30)\n",
      " 30000 Withdrawn on 2023-01-19 07:20:30.970202+00:00 (local time was 2023-01-19 12:50:30.970202+05:30)\n"
     ]
    }
   ],
   "source": [
    "import datetime\n",
    "import pytz\n",
    "\n",
    "class BankAccount(object):\n",
    "    \n",
    "    \"\"\"Simple Account Class with Balance\"\"\"\n",
    "    \n",
    "    @staticmethod\n",
    "    def _current_time():\n",
    "        utc_time = datetime.datetime.utcnow()\n",
    "        return pytz.utc.localize(utc_time)\n",
    "    \n",
    "    ## method 1, function to check the name and balance.\n",
    "    ## then print that the account is been created.\n",
    "    def __init__(self, account_name, account_balance):\n",
    "        self.account_name = account_name\n",
    "        self.account_balance = account_balance\n",
    "        self.transaction_list = []    ## initialize a transaction list as an empty list.\n",
    "        print(\"Account is Created for \" + self.account_name)\n",
    "        \n",
    "    ## method 2, function to deposit the amount, if the amount is > 0\n",
    "    def deposit(self, amount):\n",
    "        ## if the amount is greater than 0, then deposit the amount.\n",
    "        ## ie add the amount to the account_balance\n",
    "        if amount > 0:\n",
    "            self.account_balance += amount\n",
    "            print(\"Your account is credited with {} Rupees\".format(amount))\n",
    "            #print(\"Your Current Account Balance is {} Rupees\".format(self.account_balance))\n",
    "            self.show_account_balance()\n",
    "            self.transaction_list.append((BankAccount._current_time(), amount))\n",
    "            \n",
    "    ## method 3, function to withdraw amount from the account.\n",
    "    ## if the amount is greater than 0\n",
    "    def withdraw(self, amount):\n",
    "        ## if the amount is greater than 0, then withdraw the amount.\n",
    "        ## form the account_balance\n",
    "        if 0 < amount < self.account_balance:\n",
    "            self.account_balance -= amount\n",
    "            print(\"{} Rupess is debited from your Account\".format(amount))\n",
    "        else:\n",
    "            print(\"The amount must be greater than zero and no more than your account balance\")\n",
    "            self.show_account_balance()\n",
    "            self.transaction_list.append((BankAccount._current_time(), -amount))\n",
    "            \n",
    "    ## method 4, function to show the balance.\n",
    "    ## after any deposit or withdraw or after any time without any transaction.\n",
    "    ## to check the account balance,\n",
    "    def show_account_balance(self):\n",
    "        print(\"Your Account Balance is {} Rupees\".format(self.account_balance))\n",
    "\n",
    "    def show_transactions(self):\n",
    "        for date, amount in self.transaction_list:\n",
    "            if amount > 0:\n",
    "                tran_type = \"Deposited\"\n",
    "            else:\n",
    "                tran_type = \"Withdrawn\"\n",
    "                amount *= -1\n",
    "            print(\"{:6} {} on {} (local time was {})\".format(amount, tran_type, date, date.astimezone()))\n",
    "\n",
    "        \n",
    "        \n",
    "if __name__ == \"__main__\":\n",
    "\n",
    "    ameer = BankAccount(\"Ameer Kotta\", 3000)\n",
    "    ## check the balance of ameer\n",
    "    ameer.show_account_balance()\n",
    "    ## deposit some money\n",
    "    ameer.deposit(20000)\n",
    "    ## debit some amount.\n",
    "    ameer.withdraw(30000)\n",
    "    ## show the account balance\n",
    "    #ameer.show_account_balance()\n",
    "    ameer.show_transactions()"
   ]
  },
  {
   "cell_type": "code",
   "execution_count": null,
   "metadata": {},
   "outputs": [],
   "source": []
  }
 ],
 "metadata": {
  "kernelspec": {
   "display_name": "Python 3",
   "language": "python",
   "name": "python3"
  },
  "language_info": {
   "codemirror_mode": {
    "name": "ipython",
    "version": 3
   },
   "file_extension": ".py",
   "mimetype": "text/x-python",
   "name": "python",
   "nbconvert_exporter": "python",
   "pygments_lexer": "ipython3",
   "version": "3.8.3"
  }
 },
 "nbformat": 4,
 "nbformat_minor": 4
}
