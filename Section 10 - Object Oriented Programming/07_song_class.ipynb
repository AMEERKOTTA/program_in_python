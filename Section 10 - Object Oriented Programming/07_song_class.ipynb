{
 "cells": [
  {
   "cell_type": "markdown",
   "metadata": {},
   "source": [
    "### SONG CLASS"
   ]
  },
  {
   "cell_type": "code",
   "execution_count": 2,
   "metadata": {},
   "outputs": [
    {
     "name": "stdout",
     "output_type": "stream",
     "text": [
      "Help on class Song in module __main__:\n",
      "\n",
      "class Song(builtins.object)\n",
      " |  Song(title, artist, duration)\n",
      " |  \n",
      " |  Class to represent the Song.\n",
      " |  \n",
      " |  Attributes :\n",
      " |      title (str) :- The title of the Song.\n",
      " |      artist (str) :- The Artist who wrote the Song.\n",
      " |      duration (float) :- The duration of the Song, Can be Zero.\n",
      " |  \n",
      " |  Methods defined here:\n",
      " |  \n",
      " |  __init__(self, title, artist, duration)\n",
      " |      Song init method.\n",
      " |      Arguments :\n",
      " |          title (Title) :- Title of the Song.\n",
      " |          artist (Artist) :- Artist who wrote the Song.\n",
      " |          duration (Time) :- The Duration of the Song.\n",
      " |  \n",
      " |  ----------------------------------------------------------------------\n",
      " |  Data descriptors defined here:\n",
      " |  \n",
      " |  __dict__\n",
      " |      dictionary for instance variables (if defined)\n",
      " |  \n",
      " |  __weakref__\n",
      " |      list of weak references to the object (if defined)\n",
      "\n"
     ]
    }
   ],
   "source": [
    "class Song:\n",
    "    \n",
    "    \"\"\" Class to represent the Song.\n",
    "    \n",
    "    Attributes :\n",
    "        title (str) :- The title of the Song.\n",
    "        artist (str) :- The Artist who wrote the Song.\n",
    "        duration (float) :- The duration of the Song, Can be Zero.\n",
    "    \"\"\"\n",
    "    def __init__(self, title, artist, duration):\n",
    "        \"\"\"Song init method.\n",
    "        Arguments :\n",
    "            title (Title) :- Title of the Song.\n",
    "            artist (Artist) :- Artist who wrote the Song.\n",
    "            duration (Time) :- The Duration of the Song.\n",
    "        \n",
    "        \"\"\"\n",
    "        self.title = title\n",
    "        self.artist = artist\n",
    "        self.duration = duration\n",
    "        \n",
    "help(Song)"
   ]
  },
  {
   "cell_type": "code",
   "execution_count": 3,
   "metadata": {},
   "outputs": [
    {
     "name": "stdout",
     "output_type": "stream",
     "text": [
      "Help on function __init__ in module __main__:\n",
      "\n",
      "__init__(self, title, artist, duration)\n",
      "    Song init method.\n",
      "    Arguments :\n",
      "        title (Title) :- Title of the Song.\n",
      "        artist (Artist) :- Artist who wrote the Song.\n",
      "        duration (Time) :- The Duration of the Song.\n",
      "\n"
     ]
    }
   ],
   "source": [
    "help(Song.__init__)"
   ]
  },
  {
   "cell_type": "code",
   "execution_count": 5,
   "metadata": {},
   "outputs": [
    {
     "name": "stdout",
     "output_type": "stream",
     "text": [
      " Class to represent the Song.\n",
      "    \n",
      "    Attributes :\n",
      "        title (str) :- The title of the Song.\n",
      "        artist (str) :- The Artist who wrote the Song.\n",
      "        duration (float) :- The duration of the Song, Can be Zero.\n",
      "    \n"
     ]
    }
   ],
   "source": [
    "print(Song.__doc__)"
   ]
  },
  {
   "cell_type": "code",
   "execution_count": 6,
   "metadata": {},
   "outputs": [
    {
     "name": "stdout",
     "output_type": "stream",
     "text": [
      "{'__module__': '__main__', '__doc__': ' Class to represent the Song.\\n    \\n    Attributes :\\n        title (str) :- The title of the Song.\\n        artist (str) :- The Artist who wrote the Song.\\n        duration (float) :- The duration of the Song, Can be Zero.\\n    ', '__init__': <function Song.__init__ at 0x0000015C6C25F940>, '__dict__': <attribute '__dict__' of 'Song' objects>, '__weakref__': <attribute '__weakref__' of 'Song' objects>}\n"
     ]
    }
   ],
   "source": [
    "print(Song.__dict__)"
   ]
  },
  {
   "cell_type": "code",
   "execution_count": null,
   "metadata": {},
   "outputs": [],
   "source": []
  }
 ],
 "metadata": {
  "kernelspec": {
   "display_name": "Python 3",
   "language": "python",
   "name": "python3"
  },
  "language_info": {
   "codemirror_mode": {
    "name": "ipython",
    "version": 3
   },
   "file_extension": ".py",
   "mimetype": "text/x-python",
   "name": "python",
   "nbconvert_exporter": "python",
   "pygments_lexer": "ipython3",
   "version": "3.8.3"
  }
 },
 "nbformat": 4,
 "nbformat_minor": 4
}
