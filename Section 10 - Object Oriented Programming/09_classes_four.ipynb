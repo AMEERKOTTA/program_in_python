{
 "cells": [
  {
   "cell_type": "code",
   "execution_count": 5,
   "metadata": {},
   "outputs": [
    {
     "name": "stdout",
     "output_type": "stream",
     "text": [
      "The __init__ method is Called...\n",
      "The __init__ method is Called...\n",
      "The __init__ method is Called...\n"
     ]
    }
   ],
   "source": [
    "class Car:\n",
    "    \n",
    "    def __init__(self):\n",
    "        \n",
    "        print(\"The __init__ method is Called...\")\n",
    "\n",
    "        \n",
    "ford = Car()\n",
    "honda = Car()\n",
    "audi = Car()"
   ]
  },
  {
   "cell_type": "code",
   "execution_count": 12,
   "metadata": {},
   "outputs": [
    {
     "name": "stdout",
     "output_type": "stream",
     "text": [
      "The __init__ method is Called...\n",
      "The __init__ method is Called...\n",
      "The __init__ method is Called...\n"
     ]
    }
   ],
   "source": [
    "## giving the parameters\n",
    "\n",
    "class Car:\n",
    "    \n",
    "    def __init__(self, speed, color):\n",
    "        \n",
    "        print(\"The __init__ method is Called...\")\n",
    "#         print(speed)\n",
    "#         print(color)\n",
    "        \n",
    "        self.speed = speed\n",
    "        self.color = color\n",
    "\n",
    "        \n",
    "ford = Car(300, \"RED\")\n",
    "honda = Car(400, \"BLUE\")\n",
    "audi = Car(500, \"PURPLE\")"
   ]
  },
  {
   "cell_type": "code",
   "execution_count": 14,
   "metadata": {},
   "outputs": [
    {
     "name": "stdout",
     "output_type": "stream",
     "text": [
      "Area of the Rectangle 1 :-- 200\n",
      "Area of the Rectangle 2 :-- 600\n"
     ]
    }
   ],
   "source": [
    "## Rectangle Class\n",
    "class Rectangle:\n",
    "    \n",
    "    def __init__(self, height, width):\n",
    "        \n",
    "        self.height = height\n",
    "        self.width = width\n",
    "        \n",
    "rect1 = Rectangle(10, 20)\n",
    "rect2 = Rectangle(20, 30)\n",
    "\n",
    "print(\"Area of the Rectangle 1 :--\", rect1.height * rect1.width)\n",
    "print(\"Area of the Rectangle 2 :--\", rect2.height * rect2.width)"
   ]
  },
  {
   "cell_type": "code",
   "execution_count": 16,
   "metadata": {},
   "outputs": [
    {
     "name": "stdout",
     "output_type": "stream",
     "text": [
      "__init__\n"
     ]
    }
   ],
   "source": [
    "## hello class\n",
    "class Hello:\n",
    "    \n",
    "    def __init__(self):\n",
    "        \n",
    "        print(\"__init__\")\n",
    "        \n",
    "hello = Hello()"
   ]
  },
  {
   "cell_type": "markdown",
   "metadata": {},
   "source": [
    "Can we Create class with out init method."
   ]
  },
  {
   "cell_type": "code",
   "execution_count": 17,
   "metadata": {},
   "outputs": [
    {
     "ename": "TypeError",
     "evalue": "__init__() takes 0 positional arguments but 1 was given",
     "output_type": "error",
     "traceback": [
      "\u001b[1;31m---------------------------------------------------------------------------\u001b[0m",
      "\u001b[1;31mTypeError\u001b[0m                                 Traceback (most recent call last)",
      "\u001b[1;32m<ipython-input-17-e76bef20b41f>\u001b[0m in \u001b[0;36m<module>\u001b[1;34m\u001b[0m\n\u001b[0;32m      6\u001b[0m         \u001b[0mprint\u001b[0m\u001b[1;33m(\u001b[0m\u001b[1;34m\"__init__\"\u001b[0m\u001b[1;33m)\u001b[0m\u001b[1;33m\u001b[0m\u001b[1;33m\u001b[0m\u001b[0m\n\u001b[0;32m      7\u001b[0m \u001b[1;33m\u001b[0m\u001b[0m\n\u001b[1;32m----> 8\u001b[1;33m \u001b[0mhello\u001b[0m \u001b[1;33m=\u001b[0m \u001b[0mHello\u001b[0m\u001b[1;33m(\u001b[0m\u001b[1;33m)\u001b[0m\u001b[1;33m\u001b[0m\u001b[1;33m\u001b[0m\u001b[0m\n\u001b[0m",
      "\u001b[1;31mTypeError\u001b[0m: __init__() takes 0 positional arguments but 1 was given"
     ]
    }
   ],
   "source": [
    "## can we ceate class with out init method.\n",
    "class Hello:\n",
    "    \n",
    "    def __init__():\n",
    "        \n",
    "        print(\"__init__\")\n",
    "        \n",
    "hello = Hello()"
   ]
  },
  {
   "cell_type": "markdown",
   "metadata": {},
   "source": [
    "Can we create Class with two init methods."
   ]
  },
  {
   "cell_type": "code",
   "execution_count": 21,
   "metadata": {},
   "outputs": [
    {
     "ename": "TypeError",
     "evalue": "__init__() missing 1 required positional argument: 'name'",
     "output_type": "error",
     "traceback": [
      "\u001b[1;31m---------------------------------------------------------------------------\u001b[0m",
      "\u001b[1;31mTypeError\u001b[0m                                 Traceback (most recent call last)",
      "\u001b[1;32m<ipython-input-21-bd91e839ace5>\u001b[0m in \u001b[0;36m<module>\u001b[1;34m\u001b[0m\n\u001b[0;32m      6\u001b[0m         \u001b[0mself\u001b[0m\u001b[1;33m.\u001b[0m\u001b[0mname\u001b[0m \u001b[1;33m=\u001b[0m \u001b[0mname\u001b[0m\u001b[1;33m\u001b[0m\u001b[1;33m\u001b[0m\u001b[0m\n\u001b[0;32m      7\u001b[0m \u001b[1;33m\u001b[0m\u001b[0m\n\u001b[1;32m----> 8\u001b[1;33m \u001b[0mhello\u001b[0m \u001b[1;33m=\u001b[0m \u001b[0mHello\u001b[0m\u001b[1;33m(\u001b[0m\u001b[1;33m)\u001b[0m\u001b[1;33m\u001b[0m\u001b[1;33m\u001b[0m\u001b[0m\n\u001b[0m",
      "\u001b[1;31mTypeError\u001b[0m: __init__() missing 1 required positional argument: 'name'"
     ]
    }
   ],
   "source": [
    "class Hello:\n",
    "    \n",
    "    def __init__(self):\n",
    "        pass\n",
    "    def __init__(self, name):\n",
    "        self.name = name\n",
    "        \n",
    "hello = Hello()"
   ]
  },
  {
   "cell_type": "code",
   "execution_count": 22,
   "metadata": {},
   "outputs": [
    {
     "ename": "TypeError",
     "evalue": "__init__() takes 1 positional argument but 2 were given",
     "output_type": "error",
     "traceback": [
      "\u001b[1;31m---------------------------------------------------------------------------\u001b[0m",
      "\u001b[1;31mTypeError\u001b[0m                                 Traceback (most recent call last)",
      "\u001b[1;32m<ipython-input-22-61d42d6571e8>\u001b[0m in \u001b[0;36m<module>\u001b[1;34m\u001b[0m\n\u001b[0;32m      7\u001b[0m         \u001b[1;32mpass\u001b[0m\u001b[1;33m\u001b[0m\u001b[1;33m\u001b[0m\u001b[0m\n\u001b[0;32m      8\u001b[0m \u001b[1;33m\u001b[0m\u001b[0m\n\u001b[1;32m----> 9\u001b[1;33m \u001b[0mhello\u001b[0m \u001b[1;33m=\u001b[0m \u001b[0mHello\u001b[0m\u001b[1;33m(\u001b[0m\u001b[1;34m\"Name\"\u001b[0m\u001b[1;33m)\u001b[0m\u001b[1;33m\u001b[0m\u001b[1;33m\u001b[0m\u001b[0m\n\u001b[0m",
      "\u001b[1;31mTypeError\u001b[0m: __init__() takes 1 positional argument but 2 were given"
     ]
    }
   ],
   "source": [
    "class Hello:\n",
    "    \n",
    "\n",
    "    def __init__(self, name):\n",
    "        self.name = name\n",
    "    def __init__(self):\n",
    "        pass\n",
    "        \n",
    "hello = Hello(\"Name\")"
   ]
  },
  {
   "cell_type": "markdown",
   "metadata": {},
   "source": [
    "DEFAULT PARAMETERS"
   ]
  },
  {
   "cell_type": "code",
   "execution_count": 26,
   "metadata": {},
   "outputs": [
    {
     "name": "stdout",
     "output_type": "stream",
     "text": [
      "Ameer\n",
      "Kotta\n"
     ]
    }
   ],
   "source": [
    "class Hello:\n",
    "    \n",
    "    def __init__(self, name = \"Ameer\"):\n",
    "        self.name = name\n",
    "        \n",
    "hello = Hello()\n",
    "print(hello.name)\n",
    "hello2 = Hello(\"Kotta\")\n",
    "print(hello2.name)"
   ]
  },
  {
   "cell_type": "code",
   "execution_count": 36,
   "metadata": {},
   "outputs": [
    {
     "data": {
      "text/plain": [
       "('Ameer', 'Shahul', 'Hameed', 'Kotta')"
      ]
     },
     "execution_count": 36,
     "metadata": {},
     "output_type": "execute_result"
    }
   ],
   "source": [
    "## multiple aruments by *args\n",
    "\n",
    "class Hello:\n",
    "    \n",
    "    def __init__(self, *args):\n",
    "        self.args = args\n",
    "        pass\n",
    "    \n",
    "hello = Hello(\"Ameer\", \"Shahul\", \"Hameed\", \"Kotta\")\n",
    "type(hello.args)\n",
    "hello.args"
   ]
  },
  {
   "cell_type": "code",
   "execution_count": 42,
   "metadata": {},
   "outputs": [
    {
     "name": "stdout",
     "output_type": "stream",
     "text": [
      "('Ameer', 'Kotta', {'1': 'Ameer', '2': 'Kotta'})\n",
      "{}\n"
     ]
    }
   ],
   "source": [
    "## keyword arguments\n",
    "\n",
    "class Hello:\n",
    "    \n",
    "    def __init__(self, *args, **kwargs):\n",
    "        self.args = args\n",
    "        self.kwargs = kwargs\n",
    "        \n",
    "hello = Hello(\"Ameer\",\"Kotta\", {\"1\" : \"Ameer\", \"2\" : \"Kotta\"})\n",
    "print(hello.args)\n",
    "print(hello.kwargs)"
   ]
  },
  {
   "cell_type": "code",
   "execution_count": 46,
   "metadata": {},
   "outputs": [
    {
     "name": "stdout",
     "output_type": "stream",
     "text": [
      "Ameer\n",
      "10\n"
     ]
    }
   ],
   "source": [
    "## adding the default value in the class method.\n",
    "class Hello:\n",
    "    \n",
    "    def __init__(self, name):\n",
    "        self.name = name\n",
    "        self.age = 10\n",
    "        \n",
    "hello = Hello(\"Ameer\")\n",
    "print(hello.name)\n",
    "print(hello.age)"
   ]
  },
  {
   "cell_type": "code",
   "execution_count": 49,
   "metadata": {},
   "outputs": [
    {
     "name": "stdout",
     "output_type": "stream",
     "text": [
      "Ameer\n",
      "10\n"
     ]
    }
   ],
   "source": [
    "## we can use it like this\n",
    "## adding the default value in the class method.\n",
    "class Hello:\n",
    "    \n",
    "    def __init__(self, name, age = 10):\n",
    "        self.name = name\n",
    "        self.age = age\n",
    "hello = Hello(\"Ameer\")\n",
    "print(hello.name)\n",
    "print(hello.age)"
   ]
  },
  {
   "cell_type": "code",
   "execution_count": null,
   "metadata": {},
   "outputs": [],
   "source": []
  }
 ],
 "metadata": {
  "kernelspec": {
   "display_name": "Python 3",
   "language": "python",
   "name": "python3"
  },
  "language_info": {
   "codemirror_mode": {
    "name": "ipython",
    "version": 3
   },
   "file_extension": ".py",
   "mimetype": "text/x-python",
   "name": "python",
   "nbconvert_exporter": "python",
   "pygments_lexer": "ipython3",
   "version": "3.8.3"
  }
 },
 "nbformat": 4,
 "nbformat_minor": 4
}
