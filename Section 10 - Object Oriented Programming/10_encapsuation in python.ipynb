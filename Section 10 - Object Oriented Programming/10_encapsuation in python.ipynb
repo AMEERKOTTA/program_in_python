{
 "cells": [
  {
   "cell_type": "markdown",
   "metadata": {},
   "source": [
    "### ENCAPSULATION IN PYTHON\n",
    "\n",
    "Encapsulation is the mechanism of wrapping the data (variables) and code acting on the data (methods) together as a Single Unit."
   ]
  },
  {
   "cell_type": "code",
   "execution_count": 7,
   "metadata": {},
   "outputs": [
    {
     "name": "stdout",
     "output_type": "stream",
     "text": [
      "100\n",
      "FordRed\n",
      "&&&&&&&&&&&&&&&&&&&&&&&&&&&&&&&&&&&&&&&&&&&&&&&&&&&&&&&&&&&&&&&&&&&&&&&&&&&&&&&&\n",
      "200\n",
      "FordBlue\n"
     ]
    }
   ],
   "source": [
    "class Car:\n",
    "    \n",
    "    def __init__(self, speed, color):\n",
    "        \n",
    "        self.speed = speed\n",
    "        self.color = color\n",
    "        \n",
    "ford = Car(100, \"FordRed\")\n",
    "print(ford.speed)\n",
    "print(ford.color)\n",
    "\n",
    "## can we change the speed and color\n",
    "ford.speed = 200\n",
    "ford.color = \"FordBlue\"\n",
    "\n",
    "print(\"&\"*80)\n",
    "print(ford.speed)\n",
    "print(ford.color)"
   ]
  },
  {
   "cell_type": "code",
   "execution_count": 18,
   "metadata": {},
   "outputs": [
    {
     "name": "stdout",
     "output_type": "stream",
     "text": [
      "200\n",
      "FORD RED\n",
      "New Value of the Speed :- 300\n",
      "Trying to Change the value again\n"
     ]
    },
    {
     "data": {
      "text/plain": [
       "600"
      ]
     },
     "execution_count": 18,
     "metadata": {},
     "output_type": "execute_result"
    }
   ],
   "source": [
    "## to do the value changing we are defining the function.\n",
    "## and also for the getting the values.\n",
    "\n",
    "class Car:\n",
    "    \n",
    "    def __init__(self, speed, color):\n",
    "        \n",
    "        self.speed = speed\n",
    "        self.color = color\n",
    "        \n",
    "    ## setting a funtion to set the speed.\n",
    "    def set_speed(self, value):\n",
    "        self.speed = value\n",
    "        \n",
    "    ## defining the function to get the speed value\n",
    "    def get_speed(self):\n",
    "        return self.speed\n",
    "    \n",
    "## instatiate a car\n",
    "ford = Car(200, \"FORD RED\")\n",
    "print(ford.speed)\n",
    "print(ford.color)\n",
    "\n",
    "## changing the value of the speed\n",
    "ford.set_speed(300)\n",
    "\n",
    "print(\"New Value of the Speed :-\", ford.get_speed())\n",
    "\n",
    "\n",
    "print(\"Trying to Change the value again\")\n",
    "\n",
    "ford.speed = 600\n",
    "ford.get_speed()\n",
    "\n",
    "## so the value is changing again."
   ]
  },
  {
   "cell_type": "code",
   "execution_count": 19,
   "metadata": {},
   "outputs": [
    {
     "name": "stdout",
     "output_type": "stream",
     "text": [
      "10\n"
     ]
    }
   ],
   "source": [
    "## class hello\n",
    "class Hello:\n",
    "    \n",
    "    def __init__(self, name):\n",
    "        \n",
    "        self.a = 10\n",
    "        self._b = 20\n",
    "        self.__c = 30\n",
    "        \n",
    "hello = Hello(\"name\")\n",
    "\n",
    "print(hello.a)"
   ]
  },
  {
   "cell_type": "code",
   "execution_count": 20,
   "metadata": {},
   "outputs": [
    {
     "name": "stdout",
     "output_type": "stream",
     "text": [
      "20\n"
     ]
    }
   ],
   "source": [
    "print(hello._b)"
   ]
  },
  {
   "cell_type": "code",
   "execution_count": 21,
   "metadata": {},
   "outputs": [
    {
     "ename": "AttributeError",
     "evalue": "'Hello' object has no attribute '__C'",
     "output_type": "error",
     "traceback": [
      "\u001b[1;31m---------------------------------------------------------------------------\u001b[0m",
      "\u001b[1;31mAttributeError\u001b[0m                            Traceback (most recent call last)",
      "\u001b[1;32m<ipython-input-21-8d2abdb12c5d>\u001b[0m in \u001b[0;36m<module>\u001b[1;34m\u001b[0m\n\u001b[1;32m----> 1\u001b[1;33m \u001b[0mprint\u001b[0m\u001b[1;33m(\u001b[0m\u001b[0mhello\u001b[0m\u001b[1;33m.\u001b[0m\u001b[0m__C\u001b[0m\u001b[1;33m)\u001b[0m\u001b[1;33m\u001b[0m\u001b[1;33m\u001b[0m\u001b[0m\n\u001b[0m",
      "\u001b[1;31mAttributeError\u001b[0m: 'Hello' object has no attribute '__C'"
     ]
    }
   ],
   "source": [
    "print(hello.__C)"
   ]
  },
  {
   "cell_type": "markdown",
   "metadata": {},
   "source": [
    "Using the __ in the Car Class"
   ]
  },
  {
   "cell_type": "code",
   "execution_count": 35,
   "metadata": {},
   "outputs": [
    {
     "name": "stdout",
     "output_type": "stream",
     "text": [
      "The Speed is given by :-- 200\n",
      "&&&&&&&&&&&&&&&&&&&&&&&&&&&&&&&&&&&&&&&&&&&&&&&&&&&&&&&&&&&&&&&&&&&&&&&&&&&&&&&&\n",
      "New Value set to the Speed :- 300\n",
      "&&&&&&&&&&&&&&&&&&&&&&&&&&&&&&&&&&&&&&&&&&&&&&&&&&&&&&&&&&&&&&&&&&&&&&&&&&&&&&&&\n"
     ]
    },
    {
     "data": {
      "text/plain": [
       "900"
      ]
     },
     "execution_count": 35,
     "metadata": {},
     "output_type": "execute_result"
    }
   ],
   "source": [
    "## to do the value changing we are defining the function.\n",
    "## and also for the getting the values.\n",
    "\n",
    "class Car:\n",
    "    \n",
    "    def __init__(self, speed, color):\n",
    "        \n",
    "        self.__speed = speed\n",
    "        self.__color = color\n",
    "        \n",
    "    ## setting a funtion to set the speed.\n",
    "    def set_speed(self, value):\n",
    "        self.__speed = value\n",
    "        \n",
    "    ## defining the function to get the speed value\n",
    "    def get_speed(self):\n",
    "        return self.__speed\n",
    "    \n",
    "# instatiate a car\n",
    "ford = Car(200, \"FORD RED\")\n",
    "## getting the value of the speed\n",
    "print(\"The Speed is given by :--\", ford.get_speed())\n",
    "\n",
    "\n",
    "print(\"&\"*80)\n",
    "## Changing the value of the speed\n",
    "ford.set_speed(300)\n",
    "print(\"New Value set to the Speed :-\", ford.get_speed())\n",
    "\n",
    "print(\"&\"*80)\n",
    "## Changing the value of the speed again\n",
    "ford.set_speed(900)\n",
    "ford.get_speed()\n"
   ]
  },
  {
   "cell_type": "code",
   "execution_count": 40,
   "metadata": {},
   "outputs": [
    {
     "name": "stdout",
     "output_type": "stream",
     "text": [
      "The Speed is given by :-- 200\n",
      "&&&&&&&&&&&&&&&&&&&&&&&&&&&&&&&&&&&&&&&&&&&&&&&&&&&&&&&&&&&&&&&&&&&&&&&&&&&&&&&&\n",
      "New Value set to the Speed :- 300\n",
      "&&&&&&&&&&&&&&&&&&&&&&&&&&&&&&&&&&&&&&&&&&&&&&&&&&&&&&&&&&&&&&&&&&&&&&&&&&&&&&&&\n",
      "The color of the Car\n",
      "The Color of the Ford is given by :- FORD RED\n",
      "Changing the Color of the Car :-- None\n",
      "The New Color of the Ford is given by :- DARK BLUE\n"
     ]
    }
   ],
   "source": [
    "## to get the color\n",
    "\n",
    "## to do the value changing we are defining the function.\n",
    "## and also for the getting the values.\n",
    "\n",
    "class Car:\n",
    "    \n",
    "    def __init__(self, speed, color):\n",
    "        \n",
    "        self.__speed = speed\n",
    "        self.__color = color\n",
    "        \n",
    "    ## setting a funtion to set the speed.\n",
    "    def set_speed(self, value):\n",
    "        self.__speed = value\n",
    "        \n",
    "    ## defining the function to get the speed value\n",
    "    def get_speed(self):\n",
    "        return self.__speed\n",
    "    \n",
    "    ## function to get the set the color\n",
    "    def set_color(self, color_string):\n",
    "        self.__color = color_string\n",
    "    \n",
    "    ## function to get the color of the car.\n",
    "    def get_color(self):\n",
    "        return self.__color\n",
    "    \n",
    "# instatiate a car\n",
    "ford = Car(200, \"FORD RED\")\n",
    "## getting the value of the speed\n",
    "print(\"The Speed is given by :--\", ford.get_speed())\n",
    "\n",
    "\n",
    "print(\"&\"*80)\n",
    "## Changing the value of the speed\n",
    "ford.set_speed(300)\n",
    "print(\"New Value set to the Speed :-\", ford.get_speed())\n",
    "\n",
    "print(\"&\"*80)\n",
    "## Changing the value of the speed again\n",
    "ford.set_speed(900)\n",
    "ford.get_speed()\n",
    "\n",
    "\n",
    "print(\"The color of the Car\")\n",
    "print(\"The Color of the Ford is given by :-\", ford.get_color())\n",
    "\n",
    "print(\"Changing the Color of the Car :--\", ford.set_color(\"DARK BLUE\"))\n",
    "print(\"The New Color of the Ford is given by :-\", ford.get_color())"
   ]
  },
  {
   "cell_type": "markdown",
   "metadata": {},
   "source": [
    "DOING THE SAME FOR THE RECTANGLE CLASS"
   ]
  },
  {
   "cell_type": "code",
   "execution_count": 56,
   "metadata": {},
   "outputs": [
    {
     "name": "stdout",
     "output_type": "stream",
     "text": [
      "Height of Rectangle 1 = 20 and Rectangle 2 = 30\n",
      "Width of Rectangle 1 = 30 and Rectangle 2 = 40\n",
      "Area of Rectangle 1 is  600\n",
      "Area of Rectangle 2 is  1200\n"
     ]
    }
   ],
   "source": [
    "class Rectangle:\n",
    "    \n",
    "    ## defining init function\n",
    "    def __init__(self, height, width):\n",
    "        self.__height = height\n",
    "        self.__width = width\n",
    "        \n",
    "    ## defining the height setter\n",
    "    def set_height(self, value):\n",
    "        self.__height = value\n",
    "        \n",
    "    ## defining the get height method.\n",
    "    def get_height(self):\n",
    "        return self.__height\n",
    "    \n",
    "    ## defining the set width method\n",
    "    def set_width(self, value):\n",
    "        self.__width = value\n",
    "        \n",
    "    ## defining the get width method\n",
    "    def get_width(self):\n",
    "        return self.__width\n",
    "    \n",
    "rect1 = Rectangle(20,30)\n",
    "rect2 = Rectangle(30,40)\n",
    "\n",
    "## getting the height and width of Rectangle 1 and 2\n",
    "print(\"Height of Rectangle 1 = {} and Rectangle 2 = {}\".format(rect1.get_height(), rect2.get_height()))\n",
    "print(\"Width of Rectangle 1 = {} and Rectangle 2 = {}\".format(rect1.get_width(), rect2.get_width()))\n",
    "print(\"Area of Rectangle 1 is \", (rect1.get_height() * rect1.get_width()))\n",
    "print(\"Area of Rectangle 2 is \", (rect2.get_height() * rect2.get_width()))"
   ]
  },
  {
   "cell_type": "code",
   "execution_count": 59,
   "metadata": {},
   "outputs": [
    {
     "name": "stdout",
     "output_type": "stream",
     "text": [
      "Height of Rectangle 1 = 20 and Rectangle 2 = 30\n",
      "Width of Rectangle 1 = 30 and Rectangle 2 = 40\n",
      "The Area of the Rectangle 1 :-- 600\n",
      "The Area of the Rectangle 2 :-- 1200\n"
     ]
    }
   ],
   "source": [
    "## istead of calculating the area both times.\n",
    "## we can just define a function to calculate the area.\n",
    "\n",
    "class Rectangle:\n",
    "    \n",
    "    ## defining init function\n",
    "    def __init__(self, height, width):\n",
    "        self.__height = height\n",
    "        self.__width = width\n",
    "        \n",
    "    ## defining the height setter\n",
    "    def set_height(self, value):\n",
    "        self.__height = value\n",
    "        \n",
    "    ## defining the get height method.\n",
    "    def get_height(self):\n",
    "        return self.__height\n",
    "    \n",
    "    ## defining the set width method\n",
    "    def set_width(self, value):\n",
    "        self.__width = value\n",
    "        \n",
    "    ## defining the get width method\n",
    "    def get_width(self):\n",
    "        return self.__width\n",
    "    \n",
    "    ## defining the area method.\n",
    "    ## this will calculate the area of the rectangle\n",
    "    def calculate_area(self):\n",
    "        return self.__height * self.__width\n",
    "    \n",
    "rect1 = Rectangle(20,30)\n",
    "rect2 = Rectangle(30,40)\n",
    "\n",
    "## getting the height and width of Rectangle 1 and 2\n",
    "print(\"Height of Rectangle 1 = {} and Rectangle 2 = {}\".format(rect1.get_height(), rect2.get_height()))\n",
    "print(\"Width of Rectangle 1 = {} and Rectangle 2 = {}\".format(rect1.get_width(), rect2.get_width()))\n",
    "# print(\"Area of Rectangle 1 is \", (rect1.get_height() * rect1.get_width()))\n",
    "# print(\"Area of Rectangle 2 is \", (rect2.get_height() * rect2.get_width()))\n",
    "\n",
    "print(\"The Area of the Rectangle 1 :--\", rect1.calculate_area())\n",
    "print(\"The Area of the Rectangle 2 :--\", rect2.calculate_area())"
   ]
  },
  {
   "cell_type": "markdown",
   "metadata": {},
   "source": [
    "### QUESTIONS\n",
    "\n",
    "1. Can we use the Private Member Variable Outside the Class ??\n",
    "\n",
    "    We Cannot access the PMV outside the Class. Because it will throw Error.\n",
    "\n",
    "2.  Can we use the PMV inside the class, but different methods ??\n",
    "\n",
    "    We Can access the PMV inside but differnt methods.\n",
    "\n",
    "3. Can we access the Public Member Variable inside and Outside the Class ???\n",
    "\n",
    "    Yes, we can access the Public Member Variable both inside and outside the variable.\n",
    "    \n",
    "4. How to define a Private method in the Class ??\n",
    "\n",
    "    By adding the \"__\" infront of the function definition.\n",
    "    + We can use the private method inside the class by using self.__private_method\n",
    "    + We cannot use the private method outside the class, it will throw the error."
   ]
  },
  {
   "cell_type": "code",
   "execution_count": 60,
   "metadata": {},
   "outputs": [
    {
     "ename": "AttributeError",
     "evalue": "'Hello' object has no attribute '__c'",
     "output_type": "error",
     "traceback": [
      "\u001b[1;31m---------------------------------------------------------------------------\u001b[0m",
      "\u001b[1;31mAttributeError\u001b[0m                            Traceback (most recent call last)",
      "\u001b[1;32m<ipython-input-60-706faeacae72>\u001b[0m in \u001b[0;36m<module>\u001b[1;34m\u001b[0m\n\u001b[0;32m     11\u001b[0m \u001b[0mhello\u001b[0m \u001b[1;33m=\u001b[0m \u001b[0mHello\u001b[0m\u001b[1;33m(\u001b[0m\u001b[1;34m\"name\"\u001b[0m\u001b[1;33m)\u001b[0m\u001b[1;33m\u001b[0m\u001b[1;33m\u001b[0m\u001b[0m\n\u001b[0;32m     12\u001b[0m \u001b[1;33m\u001b[0m\u001b[0m\n\u001b[1;32m---> 13\u001b[1;33m \u001b[0mprint\u001b[0m\u001b[1;33m(\u001b[0m\u001b[0mhello\u001b[0m\u001b[1;33m.\u001b[0m\u001b[0m__c\u001b[0m\u001b[1;33m)\u001b[0m\u001b[1;33m\u001b[0m\u001b[1;33m\u001b[0m\u001b[0m\n\u001b[0m",
      "\u001b[1;31mAttributeError\u001b[0m: 'Hello' object has no attribute '__c'"
     ]
    }
   ],
   "source": [
    "## question 1\n",
    "## class hello\n",
    "class Hello:\n",
    "    \n",
    "    def __init__(self, name):\n",
    "        \n",
    "        self.a = 10\n",
    "        self._b = 20\n",
    "        self.__c = 30\n",
    "        \n",
    "hello = Hello(\"name\")\n",
    "\n",
    "print(hello.__c)"
   ]
  },
  {
   "cell_type": "code",
   "execution_count": 63,
   "metadata": {},
   "outputs": [
    {
     "name": "stdout",
     "output_type": "stream",
     "text": [
      "Public Method\n"
     ]
    }
   ],
   "source": [
    "## question 2\n",
    "## class hello\n",
    "class Hello:\n",
    "    \n",
    "    def __init__(self, name):\n",
    "        \n",
    "        self.a = 10\n",
    "        self._b = 20\n",
    "        self.__c = 30\n",
    "        \n",
    "    def public_method(self):\n",
    "        self.__c\n",
    "        print(\"Public Method\")\n",
    "        \n",
    "hello = Hello(\"name\")\n",
    "hello.public_method()"
   ]
  },
  {
   "cell_type": "code",
   "execution_count": 67,
   "metadata": {},
   "outputs": [
    {
     "name": "stdout",
     "output_type": "stream",
     "text": [
      "30\n",
      "10\n",
      "Public Method\n"
     ]
    },
    {
     "data": {
      "text/plain": [
       "10"
      ]
     },
     "execution_count": 67,
     "metadata": {},
     "output_type": "execute_result"
    }
   ],
   "source": [
    "## question 3\n",
    "## class hello\n",
    "class Hello:\n",
    "    \n",
    "    def __init__(self, name):\n",
    "        \n",
    "        self.a = 10\n",
    "        self._b = 20\n",
    "        self.__c = 30\n",
    "        \n",
    "    def public_method(self):\n",
    "        print(self.__c)\n",
    "        print(self.a)    ### public member variable\n",
    "        print(\"Public Method\")\n",
    "        \n",
    "hello = Hello(\"name\")\n",
    "hello.public_method()\n",
    "hello.a   ### public member variable"
   ]
  },
  {
   "cell_type": "code",
   "execution_count": 77,
   "metadata": {},
   "outputs": [
    {
     "name": "stdout",
     "output_type": "stream",
     "text": [
      "30\n",
      "10\n",
      "Public Method\n",
      "Private Method\n"
     ]
    },
    {
     "data": {
      "text/plain": [
       "10"
      ]
     },
     "execution_count": 77,
     "metadata": {},
     "output_type": "execute_result"
    }
   ],
   "source": [
    "## question 4 : defining the private method in the class.\n",
    "## class hello\n",
    "class Hello:\n",
    "    \n",
    "    def __init__(self, name):\n",
    "        \n",
    "        self.a = 10\n",
    "        self._b = 20\n",
    "        self.__c = 30\n",
    "        \n",
    "    def public_method(self):\n",
    "        print(self.__c)\n",
    "        print(self.a)    ### public member variable\n",
    "        print(\"Public Method\")\n",
    "        \n",
    "        self.__private_method()   ## we can only use the private method inside the class., and we call it by using the self method.\n",
    "        \n",
    "    def __private_method(self):\n",
    "        print(\"Private Method\")\n",
    "        \n",
    "hello = Hello(\"name\")\n",
    "hello.public_method()\n",
    "hello.a   ### public member variable\n",
    "## hello.__private_method() ## we cannot use the private method outside the class. it will give us the error."
   ]
  },
  {
   "cell_type": "code",
   "execution_count": null,
   "metadata": {},
   "outputs": [],
   "source": []
  }
 ],
 "metadata": {
  "kernelspec": {
   "display_name": "Python 3",
   "language": "python",
   "name": "python3"
  },
  "language_info": {
   "codemirror_mode": {
    "name": "ipython",
    "version": 3
   },
   "file_extension": ".py",
   "mimetype": "text/x-python",
   "name": "python",
   "nbconvert_exporter": "python",
   "pygments_lexer": "ipython3",
   "version": "3.8.3"
  }
 },
 "nbformat": 4,
 "nbformat_minor": 4
}
