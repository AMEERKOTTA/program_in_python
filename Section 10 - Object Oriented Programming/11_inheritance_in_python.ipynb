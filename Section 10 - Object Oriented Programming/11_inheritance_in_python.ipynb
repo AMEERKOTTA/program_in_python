{
 "cells": [
  {
   "cell_type": "markdown",
   "metadata": {},
   "source": [
    "### INHERITANCE IN PYTHON\n",
    "\n",
    "+ Classes in Python can be Extended.\n",
    "+ Creating new classes which retains the characteristics of the base Class. This process is known as Inheritance.\n",
    "\n",
    "+ It involes SuperClass and SubClass.\n",
    "\n",
    "+ The SubClass inherits the member of the SuperClass, on top of which it can add its own members"
   ]
  },
  {
   "cell_type": "markdown",
   "metadata": {},
   "source": [
    "STEP 1"
   ]
  },
  {
   "cell_type": "code",
   "execution_count": 2,
   "metadata": {},
   "outputs": [],
   "source": [
    "## create a polygon class\n",
    "class Polygon:\n",
    "    \n",
    "    __width = None\n",
    "    __height = None\n",
    "    \n",
    "    def set_values(self, width, height):\n",
    "        self.__width = width\n",
    "        self.__height = height\n",
    "        \n",
    "## craete a class rectangle\n",
    "class Rectangle(Polygon):\n",
    "    \n",
    "    def area(self):\n",
    "        return self.__width * self.__height\n",
    "    \n",
    "## create a class for trianle\n",
    "\n",
    "class Triangle(Polygon):\n",
    "    \n",
    "    def area(self):\n",
    "        return (self.__width * self.__height) / 2\n",
    "        "
   ]
  },
  {
   "cell_type": "code",
   "execution_count": 8,
   "metadata": {},
   "outputs": [
    {
     "name": "stdout",
     "output_type": "stream",
     "text": [
      "<__main__.Rectangle object at 0x0000020E39434130>\n",
      "<__main__.Triangle object at 0x0000020E393CCCA0>\n"
     ]
    },
    {
     "ename": "AttributeError",
     "evalue": "'Rectangle' object has no attribute '_Rectangle__width'",
     "output_type": "error",
     "traceback": [
      "\u001b[1;31m---------------------------------------------------------------------------\u001b[0m",
      "\u001b[1;31mAttributeError\u001b[0m                            Traceback (most recent call last)",
      "\u001b[1;32m<ipython-input-8-053413f05cc8>\u001b[0m in \u001b[0;36m<module>\u001b[1;34m\u001b[0m\n\u001b[0;32m      7\u001b[0m \u001b[0mtriangle\u001b[0m\u001b[1;33m.\u001b[0m\u001b[0mset_values\u001b[0m\u001b[1;33m(\u001b[0m\u001b[1;36m30\u001b[0m\u001b[1;33m,\u001b[0m\u001b[1;36m40\u001b[0m\u001b[1;33m)\u001b[0m\u001b[1;33m\u001b[0m\u001b[1;33m\u001b[0m\u001b[0m\n\u001b[0;32m      8\u001b[0m \u001b[1;33m\u001b[0m\u001b[0m\n\u001b[1;32m----> 9\u001b[1;33m \u001b[0mprint\u001b[0m\u001b[1;33m(\u001b[0m\u001b[0mrectangle\u001b[0m\u001b[1;33m.\u001b[0m\u001b[0marea\u001b[0m\u001b[1;33m(\u001b[0m\u001b[1;33m)\u001b[0m\u001b[1;33m)\u001b[0m\u001b[1;33m\u001b[0m\u001b[1;33m\u001b[0m\u001b[0m\n\u001b[0m\u001b[0;32m     10\u001b[0m \u001b[0mprint\u001b[0m\u001b[1;33m(\u001b[0m\u001b[0mtriangle\u001b[0m\u001b[1;33m.\u001b[0m\u001b[0marea\u001b[0m\u001b[1;33m(\u001b[0m\u001b[1;33m)\u001b[0m\u001b[1;33m)\u001b[0m\u001b[1;33m\u001b[0m\u001b[1;33m\u001b[0m\u001b[0m\n",
      "\u001b[1;32m<ipython-input-2-466196de053e>\u001b[0m in \u001b[0;36marea\u001b[1;34m(self)\u001b[0m\n\u001b[0;32m     13\u001b[0m \u001b[1;33m\u001b[0m\u001b[0m\n\u001b[0;32m     14\u001b[0m     \u001b[1;32mdef\u001b[0m \u001b[0marea\u001b[0m\u001b[1;33m(\u001b[0m\u001b[0mself\u001b[0m\u001b[1;33m)\u001b[0m\u001b[1;33m:\u001b[0m\u001b[1;33m\u001b[0m\u001b[1;33m\u001b[0m\u001b[0m\n\u001b[1;32m---> 15\u001b[1;33m         \u001b[1;32mreturn\u001b[0m \u001b[0mself\u001b[0m\u001b[1;33m.\u001b[0m\u001b[0m__width\u001b[0m \u001b[1;33m*\u001b[0m \u001b[0mself\u001b[0m\u001b[1;33m.\u001b[0m\u001b[0m__height\u001b[0m\u001b[1;33m\u001b[0m\u001b[1;33m\u001b[0m\u001b[0m\n\u001b[0m\u001b[0;32m     16\u001b[0m \u001b[1;33m\u001b[0m\u001b[0m\n\u001b[0;32m     17\u001b[0m \u001b[1;31m## create a class for trianle\u001b[0m\u001b[1;33m\u001b[0m\u001b[1;33m\u001b[0m\u001b[1;33m\u001b[0m\u001b[0m\n",
      "\u001b[1;31mAttributeError\u001b[0m: 'Rectangle' object has no attribute '_Rectangle__width'"
     ]
    }
   ],
   "source": [
    "rectangle = Rectangle()\n",
    "print(rectangle)\n",
    "triangle = Triangle()\n",
    "print(triangle)\n",
    "\n",
    "rectangle.set_values(30,40)\n",
    "triangle.set_values(30,40)\n",
    "\n",
    "print(rectangle.area())\n",
    "print(triangle.area())"
   ]
  },
  {
   "cell_type": "markdown",
   "metadata": {},
   "source": [
    "STEP 2"
   ]
  },
  {
   "cell_type": "code",
   "execution_count": 16,
   "metadata": {},
   "outputs": [
    {
     "name": "stdout",
     "output_type": "stream",
     "text": [
      "<__main__.Rectangle object at 0x0000020E39E95E50>\n",
      "<__main__.Triangle object at 0x0000020E39462340>\n",
      "1200\n",
      "600\n"
     ]
    }
   ],
   "source": [
    "## create a polygon class\n",
    "class Polygon:\n",
    "    \n",
    "    __width = None\n",
    "    __height = None\n",
    "    \n",
    "    def set_values(self, width, height):\n",
    "        self.__width = width    ## this is a private member\n",
    "        self.__height = height  ## this is a private member\n",
    "        \n",
    "    ## define the get height method\n",
    "    def get_height(self):  ## get_height is a public member.\n",
    "        return self.__height   ## this is a private member\n",
    "    \n",
    "    ## define the get width method\n",
    "    def get_width(self):   ## get_width is a public member.\n",
    "        return self.__width    ## this is a private member\n",
    "        \n",
    "## craete a class rectangle\n",
    "class Rectangle(Polygon):\n",
    "    \n",
    "    def area(self):\n",
    "        #return self.__width * self.__height  ## here we are defining the private member of the polygon class\n",
    "        return self.get_height() * self.get_width()     ## these are public methods, can be used outside the class polygon.\n",
    "    \n",
    "## create a class for trianle\n",
    "\n",
    "class Triangle(Polygon):\n",
    "    \n",
    "    def area(self):\n",
    "        #return (self.__width * self.__height) / 2  ## here we are defining the private member of the polygon class\n",
    "        return int((self.get_height() * self.get_width()) / 2)\n",
    "\n",
    "    \n",
    "rectangle = Rectangle()\n",
    "print(rectangle)\n",
    "triangle = Triangle()\n",
    "print(triangle)\n",
    "\n",
    "rectangle.set_values(30,40)\n",
    "triangle.set_values(30,40)\n",
    "\n",
    "print(rectangle.area())\n",
    "print(triangle.area())"
   ]
  },
  {
   "cell_type": "code",
   "execution_count": null,
   "metadata": {},
   "outputs": [],
   "source": []
  }
 ],
 "metadata": {
  "kernelspec": {
   "display_name": "Python 3",
   "language": "python",
   "name": "python3"
  },
  "language_info": {
   "codemirror_mode": {
    "name": "ipython",
    "version": 3
   },
   "file_extension": ".py",
   "mimetype": "text/x-python",
   "name": "python",
   "nbconvert_exporter": "python",
   "pygments_lexer": "ipython3",
   "version": "3.8.3"
  }
 },
 "nbformat": 4,
 "nbformat_minor": 4
}
