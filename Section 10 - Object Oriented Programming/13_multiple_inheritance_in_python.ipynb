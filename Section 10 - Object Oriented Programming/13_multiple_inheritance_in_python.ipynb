{
 "cells": [
  {
   "cell_type": "markdown",
   "metadata": {},
   "source": [
    "### MULTIPLE INHERITANCE IN PYTHON\n",
    "\n",
    "*It is the Ability of a Class to Inherit from more than one Class is Called the MULTIPLE INHERITANCE.*"
   ]
  },
  {
   "cell_type": "code",
   "execution_count": 37,
   "metadata": {},
   "outputs": [],
   "source": [
    "## creating a Polygon Class\n",
    "class Polygon:\n",
    "    __height = None\n",
    "    __width = None\n",
    "    \n",
    "    def __init__(self):\n",
    "        print(\"Init is Called\")  ## the init function\n",
    "        \n",
    "    ## define the set values method to set the height and width of the polygon.\n",
    "    def set_values(self, height, width):\n",
    "        self.__height = height\n",
    "        self.__width = width     ## the set values function, which is public, even though the height and width are private.\n",
    "        \n",
    "    ## define get height method.\n",
    "    def get_height(self):        ## get height function is public\n",
    "        return self.__height\n",
    "    \n",
    "    ## define get width method.\n",
    "    def get_width(self):         ## get width function is public\n",
    "        return self.__width"
   ]
  },
  {
   "cell_type": "code",
   "execution_count": 50,
   "metadata": {},
   "outputs": [],
   "source": [
    "## create a shape Class\n",
    "class Shape:\n",
    "    __color = None\n",
    "    \n",
    "    def set_color(self, color): ## set color function is public\n",
    "        self.__color = color\n",
    "        \n",
    "    def get_color(self):        ## get color function is public\n",
    "        return self.__color"
   ]
  },
  {
   "cell_type": "code",
   "execution_count": 51,
   "metadata": {},
   "outputs": [],
   "source": [
    "## create a rectangle class\n",
    "class Rectangle(Polygon, Shape):\n",
    "    ## define the area of the Rectangle\n",
    "    def area(self):                          ## area function is public\n",
    "        return (self.get_height() * self.get_width())"
   ]
  },
  {
   "cell_type": "code",
   "execution_count": 56,
   "metadata": {},
   "outputs": [],
   "source": [
    "## create a triangle class\n",
    "class Triangle(Polygon, Shape):\n",
    "    ## define the area of the triangle\n",
    "    def area(self):                          ## area function is public\n",
    "        return (self.get_height() * self.get_width()) / 2"
   ]
  },
  {
   "cell_type": "code",
   "execution_count": 55,
   "metadata": {},
   "outputs": [
    {
     "name": "stdout",
     "output_type": "stream",
     "text": [
      "Init is Called\n",
      "Init is Called\n",
      "Color of the Rectangle is :-- RED\n",
      "Color of the Triangle is :-- BLUE\n",
      "Height of the Rectangle :-- 200\n",
      "Width of the Rectangle :-- 300\n",
      "Height of the Triangle :-- 150\n",
      "Width of the Triangle :-- 200\n",
      "Area of the Rectangle =  60000\n",
      "Area of the Triangle =  15000.0\n"
     ]
    }
   ],
   "source": [
    "## main code\n",
    "\n",
    "## instatiate rectangle\n",
    "rectangle = Rectangle()\n",
    "## instantiate traingle\n",
    "triangle = Triangle()\n",
    "\n",
    "## set the height and width of the rectangle and traingle\n",
    "rectangle.set_values(200,300)\n",
    "triangle.set_values(150,200)\n",
    "\n",
    "## set the color of the Rectangle and Triangle\n",
    "rectangle.set_color(\"RED\")\n",
    "print(\"Color of the Rectangle is :--\", rectangle.get_color())\n",
    "triangle.set_color(\"BLUE\")\n",
    "print(\"Color of the Triangle is :--\", triangle.get_color())\n",
    "\n",
    "## print the height and width of the rectangle and traingle.\n",
    "print(\"Height of the Rectangle :--\",rectangle.get_height())\n",
    "print(\"Width of the Rectangle :--\",rectangle.get_width())\n",
    "print(\"Height of the Triangle :--\",triangle.get_height())\n",
    "print(\"Width of the Triangle :--\",triangle.get_width())\n",
    "# ## print the area of the traingle and rectangle\n",
    "print(\"Area of the Rectangle = \", rectangle.area())\n",
    "print(\"Area of the Triangle = \", triangle.area())"
   ]
  },
  {
   "cell_type": "code",
   "execution_count": null,
   "metadata": {},
   "outputs": [],
   "source": []
  }
 ],
 "metadata": {
  "kernelspec": {
   "display_name": "Python 3",
   "language": "python",
   "name": "python3"
  },
  "language_info": {
   "codemirror_mode": {
    "name": "ipython",
    "version": 3
   },
   "file_extension": ".py",
   "mimetype": "text/x-python",
   "name": "python",
   "nbconvert_exporter": "python",
   "pygments_lexer": "ipython3",
   "version": "3.8.3"
  }
 },
 "nbformat": 4,
 "nbformat_minor": 4
}
