{
 "cells": [
  {
   "cell_type": "markdown",
   "metadata": {},
   "source": [
    "### BUILT IN FUNCTION SUPER()\n",
    "\n",
    "+ Super function allow us to refer to the Super Class.\n",
    "+ Method Resolution Order is the Order We called the Order in the Child Class."
   ]
  },
  {
   "cell_type": "code",
   "execution_count": 29,
   "metadata": {},
   "outputs": [
    {
     "name": "stdout",
     "output_type": "stream",
     "text": [
      "Child __init__\n",
      "Parent __init__\n"
     ]
    }
   ],
   "source": [
    "## create a class Parent\n",
    "class Parent:\n",
    "    def __init__(self):\n",
    "        print(\"Parent __init__\")\n",
    "        \n",
    "## create a Child Class.\n",
    "class Child(Parent):\n",
    "    def __init__(self):\n",
    "        print(\"Child __init__\")\n",
    "        \n",
    "        \n",
    "## intantiate the child class\n",
    "child = Child() ## here when we called the child, only Child() class is instatiated.\n",
    "parant = Parent() ## here when we called the parent, only Parent() class is instatiated."
   ]
  },
  {
   "cell_type": "code",
   "execution_count": 30,
   "metadata": {},
   "outputs": [
    {
     "name": "stdout",
     "output_type": "stream",
     "text": [
      "Child __init__\n",
      "Parent __init__ Ameer\n",
      "(<class '__main__.Child'>, <class '__main__.Parent'>, <class 'object'>)\n"
     ]
    }
   ],
   "source": [
    "## create a class Parent\n",
    "class Parent:\n",
    "    def __init__(self, name):\n",
    "        print(\"Parent __init__\", name)\n",
    "        \n",
    "## create a Child Class.\n",
    "class Child(Parent):\n",
    "    def __init__(self):\n",
    "        print(\"Child __init__\")\n",
    "        super().__init__(\"Ameer\")   ## using the super() function, we are referring to the super class. which is Parent Class\n",
    "        \n",
    "child = Child()\n",
    "## methof resolution order\n",
    "print(Child.__mro__)"
   ]
  },
  {
   "cell_type": "code",
   "execution_count": 31,
   "metadata": {},
   "outputs": [
    {
     "name": "stdout",
     "output_type": "stream",
     "text": [
      "Child __init__\n",
      "Parent __init__ Ameer\n",
      "(<class '__main__.Child'>, <class '__main__.Parent'>, <class '__main__.Parent2'>, <class 'object'>)\n"
     ]
    }
   ],
   "source": [
    "## create a class Parent\n",
    "class Parent:\n",
    "    def __init__(self, name):\n",
    "        print(\"Parent __init__\", name)\n",
    "        \n",
    "## create a class Parent\n",
    "class Parent2:\n",
    "    def __init__(self, name):\n",
    "        print(\"Parent2 __init__\", name)\n",
    "        \n",
    "## create a Child Class.\n",
    "class Child(Parent, Parent2):\n",
    "    def __init__(self):\n",
    "        print(\"Child __init__\")\n",
    "        super().__init__(\"Ameer\")   ## using the super() function, we are referring to the super class. which is Parent Class\n",
    "        \n",
    "child = Child()\n",
    "## methof resolution order\n",
    "print(Child.__mro__)"
   ]
  },
  {
   "cell_type": "code",
   "execution_count": 32,
   "metadata": {},
   "outputs": [
    {
     "name": "stdout",
     "output_type": "stream",
     "text": [
      "Child __init__\n",
      "Parent2 __init__ Ameer\n",
      "(<class '__main__.Child'>, <class '__main__.Parent2'>, <class '__main__.Parent'>, <class 'object'>)\n"
     ]
    }
   ],
   "source": [
    "## if we change the order, then the parent class will be in differnt order in the mro.\n",
    "## create a class Parent\n",
    "class Parent:\n",
    "    def __init__(self, name):\n",
    "        print(\"Parent __init__\", name)\n",
    "        \n",
    "## create a class Parent\n",
    "class Parent2:\n",
    "    def __init__(self, name):\n",
    "        print(\"Parent2 __init__\", name)\n",
    "        \n",
    "## create a Child Class.\n",
    "class Child(Parent2, Parent):\n",
    "    def __init__(self):\n",
    "        print(\"Child __init__\")\n",
    "        super().__init__(\"Ameer\")   ## using the super() function, we are referring to the super class. which is Parent Class\n",
    "        \n",
    "child = Child()\n",
    "print(Child.__mro__)"
   ]
  },
  {
   "cell_type": "code",
   "execution_count": 42,
   "metadata": {},
   "outputs": [
    {
     "name": "stdout",
     "output_type": "stream",
     "text": [
      "Child __init__\n",
      "Parent2 __init__ Ameer\n",
      "(<class '__main__.Child'>, <class '__main__.Parent2'>, <class '__main__.Parent'>, <class 'object'>)\n"
     ]
    }
   ],
   "source": [
    "## to get the super() class called in the SubClass.\n",
    "## we can use the Superclass name.\n",
    "## create a class Parent\n",
    "class Parent:\n",
    "    def __init__(self, name):\n",
    "        print(\"Parent __init__\", name)\n",
    "        \n",
    "## create a class Parent2\n",
    "class Parent2:\n",
    "    def __init__(self, name):\n",
    "        print(\"Parent2 __init__\", name)\n",
    "        \n",
    "## create a Child Class.\n",
    "class Child(Parent2, Parent):\n",
    "    def __init__(self):\n",
    "        print(\"Child __init__\")\n",
    "        Parent2.__init__(self, \"Ameer\")   ## using the super() function, we are referring to the super class. which is Parent Class\n",
    "        \n",
    "child = Child()\n",
    "print(Child.__mro__)"
   ]
  },
  {
   "cell_type": "code",
   "execution_count": 41,
   "metadata": {},
   "outputs": [
    {
     "name": "stdout",
     "output_type": "stream",
     "text": [
      "Child __init__\n",
      "Parent __init__ Kotta\n",
      "(<class '__main__.Child'>, <class '__main__.Parent2'>, <class '__main__.Parent'>, <class 'object'>)\n"
     ]
    }
   ],
   "source": [
    "## to get the super() class called in the SubClass.\n",
    "## we can use the Superclass name.\n",
    "## create a class Parent\n",
    "class Parent:\n",
    "    def __init__(self, name):\n",
    "        print(\"Parent __init__\", name)\n",
    "        \n",
    "## create a class Parent2\n",
    "class Parent2:\n",
    "    def __init__(self, name):\n",
    "        print(\"Parent2 __init__\", name)\n",
    "        \n",
    "## create a Child Class.\n",
    "class Child(Parent2, Parent):\n",
    "    def __init__(self):\n",
    "        print(\"Child __init__\")\n",
    "        Parent.__init__(self, \"Kotta\")   ## using the super() function, we are referring to the super class. which is Parent Class\n",
    "        \n",
    "child = Child()\n",
    "print(Child.__mro__)"
   ]
  },
  {
   "cell_type": "code",
   "execution_count": null,
   "metadata": {},
   "outputs": [],
   "source": [
    "## to get the super() class called in the SubClass.\n",
    "## we can use the Superclass name.\n",
    "## create a class Parent\n",
    "class Parent:\n",
    "    def __init__(self, name):\n",
    "        print(\"Parent __init__\", name)\n",
    "        \n",
    "## create a class Parent2\n",
    "class Parent2:\n",
    "    def __init__(self, name):\n",
    "        print(\"Parent2 __init__\", name)\n",
    "        \n",
    "## create a Child Class.\n",
    "class Child(Parent2, Parent):\n",
    "    def __init__(self):\n",
    "        print(\"Child __init__\")\n",
    "        Parent.__init__(self, \"Kotta\")   ## using the super() function, we are referring to the super class. which is Parent Class\n",
    "        Parent2.__init__(self, \"\")\n",
    "        \n",
    "child = Child()\n",
    "print(Child.__mro__)"
   ]
  }
 ],
 "metadata": {
  "kernelspec": {
   "display_name": "Python 3",
   "language": "python",
   "name": "python3"
  },
  "language_info": {
   "codemirror_mode": {
    "name": "ipython",
    "version": 3
   },
   "file_extension": ".py",
   "mimetype": "text/x-python",
   "name": "python",
   "nbconvert_exporter": "python",
   "pygments_lexer": "ipython3",
   "version": "3.8.3"
  }
 },
 "nbformat": 4,
 "nbformat_minor": 4
}
