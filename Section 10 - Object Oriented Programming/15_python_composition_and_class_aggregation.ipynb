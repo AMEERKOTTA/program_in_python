{
 "cells": [
  {
   "cell_type": "markdown",
   "metadata": {},
   "source": [
    "### PYTHON COMPOSITION\n",
    "\n",
    "*COMPOSITION means, we are just deligating some responsibilities from one class to another class.*\n",
    "\n",
    "\n",
    "+ Here I have two Classes, from which I need to Calculate the annual salary of the Employee.\n",
    "\n",
    "+ COMPOSITION represents, a part of Relationship."
   ]
  },
  {
   "cell_type": "code",
   "execution_count": 2,
   "metadata": {},
   "outputs": [],
   "source": [
    "## class Salary\n",
    "class Salary:\n",
    "    def __init__(self, pay, bonus):\n",
    "        self.pay = pay\n",
    "        self.bonus = bonus\n",
    "        \n",
    "    def annual_salary(self):\n",
    "        return ((self.pay * 12) + self.bonus)\n",
    "    \n",
    "## employee class\n",
    "class Employee:\n",
    "    def __init__(self, name, age, pay, bonus):\n",
    "        self.name = name\n",
    "        self.age = age"
   ]
  },
  {
   "cell_type": "code",
   "execution_count": 8,
   "metadata": {},
   "outputs": [
    {
     "ename": "AttributeError",
     "evalue": "'Employee' object has no attribute 'pay'",
     "output_type": "error",
     "traceback": [
      "\u001b[1;31m---------------------------------------------------------------------------\u001b[0m",
      "\u001b[1;31mAttributeError\u001b[0m                            Traceback (most recent call last)",
      "\u001b[1;32m<ipython-input-8-a5740ac9c2c7>\u001b[0m in \u001b[0;36m<module>\u001b[1;34m\u001b[0m\n\u001b[0;32m      2\u001b[0m \u001b[0msharath\u001b[0m\u001b[1;33m.\u001b[0m\u001b[0mname\u001b[0m\u001b[1;33m\u001b[0m\u001b[1;33m\u001b[0m\u001b[0m\n\u001b[0;32m      3\u001b[0m \u001b[0msharath\u001b[0m\u001b[1;33m.\u001b[0m\u001b[0mage\u001b[0m\u001b[1;33m\u001b[0m\u001b[1;33m\u001b[0m\u001b[0m\n\u001b[1;32m----> 4\u001b[1;33m \u001b[0msharath\u001b[0m\u001b[1;33m.\u001b[0m\u001b[0mpay\u001b[0m\u001b[1;33m\u001b[0m\u001b[1;33m\u001b[0m\u001b[0m\n\u001b[0m",
      "\u001b[1;31mAttributeError\u001b[0m: 'Employee' object has no attribute 'pay'"
     ]
    }
   ],
   "source": [
    "sharath = Employee(\"Sharath\",25,15000,10000)\n",
    "sharath.name\n",
    "sharath.age\n",
    "sharath.pay"
   ]
  },
  {
   "cell_type": "code",
   "execution_count": 16,
   "metadata": {},
   "outputs": [
    {
     "data": {
      "text/plain": [
       "440000"
      ]
     },
     "execution_count": 16,
     "metadata": {},
     "output_type": "execute_result"
    }
   ],
   "source": [
    "## changing the Employee Class a bit.\n",
    "## class Salary\n",
    "class Salary:\n",
    "    def __init__(self, pay, bonus):\n",
    "        self.pay = pay\n",
    "        self.bonus = bonus\n",
    "        \n",
    "    def annual_salary(self):\n",
    "        return ((self.pay * 12) + self.bonus)\n",
    "    \n",
    "## employee class\n",
    "class Employee:\n",
    "    def __init__(self, name, age, pay, bonus=10000):\n",
    "        self.name = name\n",
    "        self.age = age\n",
    "        self.obj_salary = Salary(pay, bonus)  ## composition of Salary Class.\n",
    "        \n",
    "    def total_salary(self):\n",
    "        return self.obj_salary.annual_salary()  ## here taking the annual salary method to this class.\n",
    "    \n",
    "employee = Employee(\"Sharath\", 25, 35000, 20000)\n",
    "employee.total_salary()"
   ]
  },
  {
   "cell_type": "code",
   "execution_count": 21,
   "metadata": {},
   "outputs": [
    {
     "data": {
      "text/plain": [
       "440000"
      ]
     },
     "execution_count": 21,
     "metadata": {},
     "output_type": "execute_result"
    }
   ],
   "source": [
    "## changing the Employee Class a bit.\n",
    "## class Salary\n",
    "class Salary:\n",
    "    def __init__(self, pay, bonus):\n",
    "        self.pay = pay\n",
    "        self.bonus = bonus\n",
    "        \n",
    "    def annual_salary(self):\n",
    "        return ((self.pay * 12) + self.bonus)\n",
    "    \n",
    "## employee class\n",
    "class Employee:\n",
    "    def __init__(self, name, age, pay, bonus=10000):\n",
    "        self.name = name\n",
    "        self.age = age\n",
    "        self.object_salary = Salary(pay, bonus)  ## composition of Salary Class.\n",
    "        \n",
    "    def total_salary(self):\n",
    "        return self.object_salary.annual_salary()  ## here taking the annual salary method to this class.\n",
    "    \n",
    "employee = Employee(\"Sharath\", 25, 35000, 20000)\n",
    "employee.total_salary()"
   ]
  },
  {
   "cell_type": "markdown",
   "metadata": {},
   "source": [
    "### AGGREGATION"
   ]
  },
  {
   "cell_type": "code",
   "execution_count": 33,
   "metadata": {},
   "outputs": [
    {
     "data": {
      "text/plain": [
       "270000"
      ]
     },
     "execution_count": 33,
     "metadata": {},
     "output_type": "execute_result"
    }
   ],
   "source": [
    "## uncommented lines are used for composition\n",
    "## doing aggregation here.\n",
    "class Salary:\n",
    "    def __init__(self, pay, bonus):\n",
    "        self.pay = pay\n",
    "        self.bonus = bonus\n",
    "        \n",
    "    def annual_salary(self):\n",
    "        return ((self.pay * 12) + self.bonus)\n",
    "    \n",
    "class Employee:\n",
    "    #def __init__(self, name, age, pay, bonus):\n",
    "    def __init__(self, name, age, salary):  ## in aggregation we use salary which is instantiated by salary.\n",
    "        self.name = name\n",
    "        self.age = age\n",
    "#       self.salary_object = Salary(pay, bonus)\n",
    "        self.salary_object = salary        ## in aggregation using the instatiated salary object.\n",
    "        \n",
    "    def total_salary(self):\n",
    "        return self.salary_object.annual_salary()\n",
    "\n",
    "salary = Salary(20000,30000)\n",
    "# employee = Employee(\"Sharath\", 25)\n",
    "employee = Employee(\"Sharath\", 25, salary)   ## the instatiated salary is given here.\n",
    "employee.total_salary()"
   ]
  },
  {
   "cell_type": "code",
   "execution_count": null,
   "metadata": {},
   "outputs": [],
   "source": []
  }
 ],
 "metadata": {
  "kernelspec": {
   "display_name": "Python 3",
   "language": "python",
   "name": "python3"
  },
  "language_info": {
   "codemirror_mode": {
    "name": "ipython",
    "version": 3
   },
   "file_extension": ".py",
   "mimetype": "text/x-python",
   "name": "python",
   "nbconvert_exporter": "python",
   "pygments_lexer": "ipython3",
   "version": "3.8.3"
  }
 },
 "nbformat": 4,
 "nbformat_minor": 4
}
