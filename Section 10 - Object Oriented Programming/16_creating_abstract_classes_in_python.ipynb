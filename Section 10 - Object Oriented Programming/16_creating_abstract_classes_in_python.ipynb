{
 "cells": [
  {
   "cell_type": "markdown",
   "metadata": {},
   "source": [
    "### CREATING ABSTRACT CLASSES\n",
    "\n",
    "+ Abstract Classes can be implemented from the module ABC.\n",
    "+ `from abc import ABC, abstractmethod`\n",
    "+ In teh Below cell we are able to instatiate the shape using Shape class.\n",
    "    + I dont want others to instatiate the shape class\n",
    "    + and i need to make sure that the methods which are there in the SuperClass must be implemented in the SubClass\n",
    "    \n",
    "+ This can be done using Abstract method.\n",
    "\n",
    "+ So, to create the Abstract method, we need to inherit the ABC modules in the SuperClass."
   ]
  },
  {
   "cell_type": "code",
   "execution_count": 5,
   "metadata": {},
   "outputs": [
    {
     "data": {
      "text/plain": [
       "<__main__.Shape at 0x1ecf6869a60>"
      ]
     },
     "execution_count": 5,
     "metadata": {},
     "output_type": "execute_result"
    }
   ],
   "source": [
    "## creating the Shape class.\n",
    "class Shape:\n",
    "    def area(self): pass\n",
    "    def perimeter(self): pass\n",
    "    \n",
    "## create Square class\n",
    "class Square(Shape):\n",
    "    def __init__(self, side):\n",
    "        self.__side = side\n",
    "        \n",
    "        \n",
    "## now try to instatiate a shape using the Shape Method.\n",
    "shape = Shape()\n",
    "shape"
   ]
  },
  {
   "cell_type": "code",
   "execution_count": 12,
   "metadata": {},
   "outputs": [
    {
     "ename": "TypeError",
     "evalue": "Can't instantiate abstract class Shape with abstract methods area, perimeter",
     "output_type": "error",
     "traceback": [
      "\u001b[1;31m---------------------------------------------------------------------------\u001b[0m",
      "\u001b[1;31mTypeError\u001b[0m                                 Traceback (most recent call last)",
      "\u001b[1;32m<ipython-input-12-04f52f12f539>\u001b[0m in \u001b[0;36m<module>\u001b[1;34m\u001b[0m\n\u001b[0;32m     11\u001b[0m \u001b[1;33m\u001b[0m\u001b[0m\n\u001b[0;32m     12\u001b[0m \u001b[1;31m## trying to instantiae the shape\u001b[0m\u001b[1;33m\u001b[0m\u001b[1;33m\u001b[0m\u001b[1;33m\u001b[0m\u001b[0m\n\u001b[1;32m---> 13\u001b[1;33m \u001b[0mshape\u001b[0m \u001b[1;33m=\u001b[0m \u001b[0mShape\u001b[0m\u001b[1;33m(\u001b[0m\u001b[1;33m)\u001b[0m  \u001b[1;31m## TypeError: Can't instantiate abstract class Shape with abstract methods area, perimeter, because the class is now an abstract class.\u001b[0m\u001b[1;33m\u001b[0m\u001b[1;33m\u001b[0m\u001b[0m\n\u001b[0m",
      "\u001b[1;31mTypeError\u001b[0m: Can't instantiate abstract class Shape with abstract methods area, perimeter"
     ]
    }
   ],
   "source": [
    "## creating the abstract method\n",
    "from abc import ABC, abstractmethod\n",
    "\n",
    "class Shape(ABC):\n",
    "    ## add abstractmethod decerator to the methods.\n",
    "    ## this will make the methods abstract.\n",
    "    @abstractmethod\n",
    "    def area(self): pass\n",
    "    @abstractmethod\n",
    "    def perimeter(self): pass\n",
    "    \n",
    "## trying to instantiae the shape\n",
    "shape = Shape()  ## TypeError: Can't instantiate abstract class Shape with abstract methods area, perimeter, because the class is now an abstract class."
   ]
  },
  {
   "cell_type": "code",
   "execution_count": 15,
   "metadata": {},
   "outputs": [
    {
     "ename": "TypeError",
     "evalue": "Can't instantiate abstract class Square with abstract methods area, perimeter",
     "output_type": "error",
     "traceback": [
      "\u001b[1;31m---------------------------------------------------------------------------\u001b[0m",
      "\u001b[1;31mTypeError\u001b[0m                                 Traceback (most recent call last)",
      "\u001b[1;32m<ipython-input-15-a897e099530f>\u001b[0m in \u001b[0;36m<module>\u001b[1;34m\u001b[0m\n\u001b[0;32m     17\u001b[0m \u001b[1;33m\u001b[0m\u001b[0m\n\u001b[0;32m     18\u001b[0m \u001b[1;31m## trying to instantiae the square class.\u001b[0m\u001b[1;33m\u001b[0m\u001b[1;33m\u001b[0m\u001b[1;33m\u001b[0m\u001b[0m\n\u001b[1;32m---> 19\u001b[1;33m \u001b[0msquare\u001b[0m \u001b[1;33m=\u001b[0m \u001b[0mSquare\u001b[0m\u001b[1;33m(\u001b[0m\u001b[1;36m100\u001b[0m\u001b[1;33m)\u001b[0m  \u001b[1;31m## TypeError: Can't instantiate abstract class Square with abstract methods area, perimeter\u001b[0m\u001b[1;33m\u001b[0m\u001b[1;33m\u001b[0m\u001b[0m\n\u001b[0m\u001b[0;32m     20\u001b[0m \u001b[1;33m\u001b[0m\u001b[0m\n\u001b[0;32m     21\u001b[0m \u001b[1;31m## so here we ahve to make sure that the methods which are there in the superclass, we must implement it in the subclass.\u001b[0m\u001b[1;33m\u001b[0m\u001b[1;33m\u001b[0m\u001b[1;33m\u001b[0m\u001b[0m\n",
      "\u001b[1;31mTypeError\u001b[0m: Can't instantiate abstract class Square with abstract methods area, perimeter"
     ]
    }
   ],
   "source": [
    "## creating the abstract method\n",
    "from abc import ABC, abstractmethod\n",
    "\n",
    "class Shape(ABC):\n",
    "    ## add abstractmethod decerator to the methods.\n",
    "    ## this will make the methods abstract.\n",
    "    @abstractmethod\n",
    "    def area(self): pass\n",
    "    @abstractmethod\n",
    "    def perimeter(self): pass\n",
    "    \n",
    "## create Square class\n",
    "class Square(Shape):\n",
    "    def __init__(self, side):\n",
    "        self.__side = side\n",
    "        \n",
    "    \n",
    "## trying to instantiae the square class.\n",
    "square = Square(100)  ## TypeError: Can't instantiate abstract class Square with abstract methods area, perimeter\n",
    "\n",
    "## so here we ahve to make sure that the methods which are there in the superclass, we must implement it in the subclass."
   ]
  },
  {
   "cell_type": "code",
   "execution_count": 19,
   "metadata": {},
   "outputs": [
    {
     "name": "stdout",
     "output_type": "stream",
     "text": [
      "10000\n",
      "400\n"
     ]
    }
   ],
   "source": [
    "## creating the abstract method\n",
    "from abc import ABC, abstractmethod\n",
    "\n",
    "class Shape(ABC):\n",
    "    ## add abstractmethod decerator to the methods.\n",
    "    ## this will make the methods abstract.\n",
    "    @abstractmethod\n",
    "    def area(self): pass\n",
    "    @abstractmethod\n",
    "    def perimeter(self): pass\n",
    "    \n",
    "## create Square class\n",
    "class Square(Shape):\n",
    "    def __init__(self, side):\n",
    "        self.__side = side\n",
    "        \n",
    "    ## implememnting the area method.\n",
    "    def area(self):\n",
    "        return (self.__side * self.__side)\n",
    "    \n",
    "    ## implementing the perimeter method.\n",
    "    def perimeter(self):\n",
    "        return (self.__side * 4)\n",
    "        \n",
    "    \n",
    "## trying to instantiae the square class.\n",
    "square = Square(100)  ## TypeError: Can't instantiate abstract class Square with abstract methods area, perimeter\n",
    "\n",
    "## so here we ahve to make sure that the methods which are there in the superclass, we must implement it in the subclass.\n",
    "\n",
    "print(square.area())\n",
    "print(square.perimeter())"
   ]
  },
  {
   "cell_type": "code",
   "execution_count": null,
   "metadata": {},
   "outputs": [],
   "source": []
  }
 ],
 "metadata": {
  "kernelspec": {
   "display_name": "Python 3",
   "language": "python",
   "name": "python3"
  },
  "language_info": {
   "codemirror_mode": {
    "name": "ipython",
    "version": 3
   },
   "file_extension": ".py",
   "mimetype": "text/x-python",
   "name": "python",
   "nbconvert_exporter": "python",
   "pygments_lexer": "ipython3",
   "version": "3.8.3"
  }
 },
 "nbformat": 4,
 "nbformat_minor": 4
}
