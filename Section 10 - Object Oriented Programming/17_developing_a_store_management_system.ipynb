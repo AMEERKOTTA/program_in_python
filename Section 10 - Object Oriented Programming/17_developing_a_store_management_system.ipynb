{
 "cells": [
  {
   "cell_type": "markdown",
   "metadata": {},
   "source": [
    "### DEVELOPING A STORE MANAGEMENT SYSTEM"
   ]
  },
  {
   "cell_type": "code",
   "execution_count": 62,
   "metadata": {},
   "outputs": [
    {
     "name": "stdout",
     "output_type": "stream",
     "text": [
      "[]\n",
      "[]\n"
     ]
    }
   ],
   "source": [
    "import csv\n",
    "\n",
    "## creating the class Item\n",
    "class Item:\n",
    "    \n",
    "    ## instantiate a class attribute.\n",
    "    ## there is going to be 20% discount.\n",
    "    ## the pay rate after 20% discount.\n",
    "    ## this class attribute can be accessed by Item, item1, and item2 etc.\n",
    "    pay_rate = 0.8\n",
    "    ## instatiate the all elements variable to append all the items to it.\n",
    "    all = []  ## initiating an empty list.\n",
    "    \n",
    "    \n",
    "    def __init__(self, name: str, price: float, quantity: int):\n",
    "        \"\"\"\n",
    "        \n",
    "        \"\"\"\n",
    "        ## run validation to the recieved items.\n",
    "        ## the price should not be a negative number.\n",
    "        assert price >= 0, f\" Price {price} is not greater than or eqaul to Zero as Asserted.\"      \n",
    "        ## the quantity should not be a negative number. so asserting their values to greater than  or equal to 0.\n",
    "        assert quantity >= 0, f\" Quantity {quantity} is not greater than or eqaul to Zero as Asserted.\"\n",
    "        \n",
    "        self.__name = name\n",
    "        self.__price = price\n",
    "        self.quantity = quantity\n",
    "        \n",
    "        ## append the item to all emply list when we try to instatiate the item.\n",
    "        Item.all.append(self)\n",
    "        \n",
    "    ## get the value of the price\n",
    "    @property\n",
    "    def price(self):\n",
    "        return self.__price\n",
    "        \n",
    "    ## read only variable\n",
    "    ## get the value of the name variable.\n",
    "    @property\n",
    "    def name(self):\n",
    "        return self.__name\n",
    "    \n",
    "    \n",
    "    ## setting the method to modify the value of the name\n",
    "    @name.setter   \n",
    "    def name(self, value):\n",
    "        if len(value) > 10:\n",
    "            raise Exception(\"The name is too long!\")\n",
    "        else:\n",
    "            self.__name = value\n",
    "        \n",
    "    ## method to calculate the total price for all quantities.    \n",
    "    def calculate_total_price(self):\n",
    "        return (self.__price * self.quantity)\n",
    "    \n",
    "    ## defining the method to calculate the discounted price.\n",
    "    def apply_discount(self):\n",
    "        ## return self.price * Item.quantity\n",
    "        return (self.__price * self.pay_rate)\n",
    "    \n",
    "    ## read the csv file and instatiate items from the csv file in a generic way.\n",
    "    ## implemenet this method as a class method.\n",
    "    ## use the decerator for that purpose.\n",
    "    @classmethod\n",
    "    def instantiate_from_csv(cls):\n",
    "        with open('file.csv', 'r') as file:\n",
    "            reader = csv.DictReader(file)\n",
    "            items = list(reader)\n",
    "        \n",
    "        for item in items:\n",
    "            Item(\n",
    "                name = item.get('name'),\n",
    "                price = float(item.get(' price')),\n",
    "                quantity = int(item.get(' quantity')),\n",
    "                )\n",
    "            \n",
    "    ## creating the static method.\n",
    "    @staticmethod\n",
    "    def is_integer(num):\n",
    "        ## we will count out the floats that are point zero\n",
    "        ## example ie, 5.0, 10.0 etc.\n",
    "        if isinstance(num, float):  ## here if the number is float, then we are returning the number is an integer.\n",
    "            ## count out float that are point zero.\n",
    "            return num.is_integer()    ## returning the number is an integer.\n",
    "        elif isinstance(num, int):     ## if the number is an integer.\n",
    "            return True                ## function will return True\n",
    "        else:\n",
    "            return False               ## else, if the number variable takes a string or any other things we will get the False.\n",
    "    \n",
    "    \n",
    "    ## define the method to print all the items that are present in the all list.\n",
    "    def __repr__(self):\n",
    "        return f\" Item ('{self.__name}', {self.__price}, {self.quantity})\"\n",
    "\n",
    "\n",
    "\n",
    "## creating another class\n",
    "class Phone(Item):  ## inheriting from the class Item\n",
    "    \n",
    "    all = []\n",
    "    def __init__(self, name, price, quantity, broken_phones):\n",
    "        ## call to super function to have access to all attributes and methods.\n",
    "        super().__init__(name, price, quantity)   ## here we dont need self arguments.\n",
    "        ## asserting the value of broken phones greater than or equal to 0\n",
    "        assert broken_phones >=0, f\" Broken Phones {broken_phones} is not greater than or eqaul to Zero as Asserted.\"\n",
    "        \n",
    "        ## assign to self object\n",
    "        self.broken_phones = broken_phones\n",
    "        \n",
    "        ## action to execute\n",
    "        Phone.all.append(self)\n",
    "        \n",
    "# phone1 = Phone(\"jscPhonev10\", 500, 5, 1)\n",
    "# print(phone1.calculate_total_price())\n",
    "# phone2 = Phone(\"jscPhonev20\", 700, 5, 1)       \n",
    "# print(phone2.calculate_total_price())\n",
    "\n",
    "print(Item.all)\n",
    "print(Phone.all)"
   ]
  },
  {
   "cell_type": "code",
   "execution_count": 65,
   "metadata": {},
   "outputs": [
    {
     "name": "stdout",
     "output_type": "stream",
     "text": [
      "MySecondItem\n",
      "NewNa\n"
     ]
    },
    {
     "ename": "AttributeError",
     "evalue": "can't set attribute",
     "output_type": "error",
     "traceback": [
      "\u001b[1;31m---------------------------------------------------------------------------\u001b[0m",
      "\u001b[1;31mAttributeError\u001b[0m                            Traceback (most recent call last)",
      "\u001b[1;32m<ipython-input-65-08c45edae6ba>\u001b[0m in \u001b[0;36m<module>\u001b[1;34m\u001b[0m\n\u001b[0;32m      8\u001b[0m \u001b[0mitem2\u001b[0m\u001b[1;33m.\u001b[0m\u001b[0mprice\u001b[0m\u001b[1;33m\u001b[0m\u001b[1;33m\u001b[0m\u001b[0m\n\u001b[0;32m      9\u001b[0m \u001b[1;33m\u001b[0m\u001b[0m\n\u001b[1;32m---> 10\u001b[1;33m \u001b[0mitem2\u001b[0m\u001b[1;33m.\u001b[0m\u001b[0mprice\u001b[0m \u001b[1;33m=\u001b[0m \u001b[1;36m300\u001b[0m\u001b[1;33m\u001b[0m\u001b[1;33m\u001b[0m\u001b[0m\n\u001b[0m",
      "\u001b[1;31mAttributeError\u001b[0m: can't set attribute"
     ]
    }
   ],
   "source": [
    "item2 = Item(\"MySecondItem\", 400, 5)\n",
    "print(item2.name)\n",
    "\n",
    "## trying to change the name of the item 2\n",
    "item2.name = \"NewNa\"\n",
    "print(item2.name)\n",
    "\n",
    "item2.price\n",
    "\n",
    "item2.price = 300"
   ]
  },
  {
   "cell_type": "code",
   "execution_count": 34,
   "metadata": {},
   "outputs": [
    {
     "data": {
      "text/plain": [
       "{'_name': 'jscPhonev10', 'price': 500, 'quantity': 5, 'broken_phone': 1}"
      ]
     },
     "execution_count": 34,
     "metadata": {},
     "output_type": "execute_result"
    }
   ],
   "source": [
    "phone1 = Item(\"jscPhonev10\", 500, 5)\n",
    "phone2 = Item(\"jscPhonev20\", 700, 5)\n",
    "phone1.broken_phone = 1\n",
    "phone2.broken_phone = 2\n",
    "\n",
    "phone1.__dict__"
   ]
  },
  {
   "cell_type": "code",
   "execution_count": 23,
   "metadata": {},
   "outputs": [
    {
     "name": "stdout",
     "output_type": "stream",
     "text": [
      "[ Item ('jscPhonev10', 500, 5),  Item ('Phone', 100.0, 1),  Item ('Laptop', 1000.0, 3),  Item ('Cable', 10.0, 5),  Item ('Mouse', 50.0, 5),  Item ('Keyboard', 75.0, 5),  Item ('Phone', 100.0, 1),  Item ('Laptop', 1000.0, 3),  Item ('Cable', 10.0, 5),  Item ('Mouse', 50.0, 5),  Item ('Keyboard', 75.0, 5),  Item ('Phone', 100.0, 1),  Item ('Laptop', 1000.0, 3),  Item ('Cable', 10.0, 5),  Item ('Mouse', 50.0, 5),  Item ('Keyboard', 75.0, 5),  Item ('Phone', 100.0, 1),  Item ('Laptop', 1000.0, 3),  Item ('Cable', 10.0, 5),  Item ('Mouse', 50.0, 5),  Item ('Keyboard', 75.0, 5),  Item ('Laptop', 3000, 4),  Item ('Phone', 100.0, 1),  Item ('Laptop', 1000.0, 3),  Item ('Cable', 10.0, 5),  Item ('Mouse', 50.0, 5),  Item ('Keyboard', 75.0, 5),  Item ('Phone', 100.0, 1),  Item ('Laptop', 1000.0, 3),  Item ('Cable', 10.0, 5),  Item ('Mouse', 50.0, 5),  Item ('Keyboard', 75.0, 5),  Item ('Phone', 100.0, 1),  Item ('Laptop', 1000.0, 3),  Item ('Cable', 10.0, 5),  Item ('Mouse', 50.0, 5),  Item ('Keyboard', 75.0, 5),  Item ('Phone', 100.0, 1),  Item ('Laptop', 1000.0, 3),  Item ('Cable', 10.0, 5),  Item ('Mouse', 50.0, 5),  Item ('Keyboard', 75.0, 5),  Item ('Phone', 100.0, 1),  Item ('Laptop', 1000.0, 3),  Item ('Cable', 10.0, 5),  Item ('Mouse', 50.0, 5),  Item ('Keyboard', 75.0, 5),  Item ('Phone', 100.0, 1),  Item ('Laptop', 1000.0, 3),  Item ('Cable', 10.0, 5),  Item ('Mouse', 50.0, 5),  Item ('Keyboard', 75.0, 5),  Item ('Phone', 100.0, 1),  Item ('Laptop', 1000.0, 3),  Item ('Cable', 10.0, 5),  Item ('Mouse', 50.0, 5),  Item ('Keyboard', 75.0, 5),  Item ('Phone', 100.0, 1),  Item ('Laptop', 1000.0, 3),  Item ('Cable', 10.0, 5),  Item ('Mouse', 50.0, 5),  Item ('Keyboard', 75.0, 5)]\n",
      "True\n"
     ]
    }
   ],
   "source": [
    "Item.instantiate_from_csv()\n",
    "print(Item.all)\n",
    "print(Item.is_integer(8.0))"
   ]
  },
  {
   "cell_type": "code",
   "execution_count": 29,
   "metadata": {},
   "outputs": [
    {
     "name": "stdout",
     "output_type": "stream",
     "text": [
      "MyItem\n",
      "OtherItem\n",
      "[ Item ('jscPhonev10', 500, 5),  Item ('Phone', 100.0, 1),  Item ('Laptop', 1000.0, 3),  Item ('Cable', 10.0, 5),  Item ('Mouse', 50.0, 5),  Item ('Keyboard', 75.0, 5),  Item ('Phone', 100.0, 1),  Item ('Laptop', 1000.0, 3),  Item ('Cable', 10.0, 5),  Item ('Mouse', 50.0, 5),  Item ('Keyboard', 75.0, 5),  Item ('Phone', 100.0, 1),  Item ('Laptop', 1000.0, 3),  Item ('Cable', 10.0, 5),  Item ('Mouse', 50.0, 5),  Item ('Keyboard', 75.0, 5),  Item ('Phone', 100.0, 1),  Item ('Laptop', 1000.0, 3),  Item ('Cable', 10.0, 5),  Item ('Mouse', 50.0, 5),  Item ('Keyboard', 75.0, 5),  Item ('Laptop', 3000, 4),  Item ('Phone', 100.0, 1),  Item ('Laptop', 1000.0, 3),  Item ('Cable', 10.0, 5),  Item ('Mouse', 50.0, 5),  Item ('Keyboard', 75.0, 5),  Item ('Phone', 100.0, 1),  Item ('Laptop', 1000.0, 3),  Item ('Cable', 10.0, 5),  Item ('Mouse', 50.0, 5),  Item ('Keyboard', 75.0, 5),  Item ('Phone', 100.0, 1),  Item ('Laptop', 1000.0, 3),  Item ('Cable', 10.0, 5),  Item ('Mouse', 50.0, 5),  Item ('Keyboard', 75.0, 5),  Item ('Phone', 100.0, 1),  Item ('Laptop', 1000.0, 3),  Item ('Cable', 10.0, 5),  Item ('Mouse', 50.0, 5),  Item ('Keyboard', 75.0, 5),  Item ('Phone', 100.0, 1),  Item ('Laptop', 1000.0, 3),  Item ('Cable', 10.0, 5),  Item ('Mouse', 50.0, 5),  Item ('Keyboard', 75.0, 5),  Item ('Phone', 100.0, 1),  Item ('Laptop', 1000.0, 3),  Item ('Cable', 10.0, 5),  Item ('Mouse', 50.0, 5),  Item ('Keyboard', 75.0, 5),  Item ('Phone', 100.0, 1),  Item ('Laptop', 1000.0, 3),  Item ('Cable', 10.0, 5),  Item ('Mouse', 50.0, 5),  Item ('Keyboard', 75.0, 5),  Item ('Phone', 100.0, 1),  Item ('Laptop', 1000.0, 3),  Item ('Cable', 10.0, 5),  Item ('Mouse', 50.0, 5),  Item ('Keyboard', 75.0, 5),  Item ('MyItem', 750, 3),  Item ('MyItem', 750, 3),  Item ('OtherItem', 750, 3),  Item ('OtherItem', 750, 3),  Item ('OtherItem', 750, 3)]\n"
     ]
    }
   ],
   "source": [
    "item1 = Item(\"MyItem\", 750, 3)\n",
    "print(item1.name)\n",
    "\n",
    "item1.name = \"OtherItem\"\n",
    "print(item1.name)\n",
    "\n",
    "print(Item.all)"
   ]
  },
  {
   "cell_type": "code",
   "execution_count": 15,
   "metadata": {},
   "outputs": [
    {
     "name": "stdout",
     "output_type": "stream",
     "text": [
      "3000\n",
      "2100.0\n",
      "\n",
      "0.8\n"
     ]
    }
   ],
   "source": [
    "# item1 = Item(\"Phone\", 300, 5)\n",
    "# print(item1.apply_discount())\n",
    "# print(item1.price)\n",
    "\n",
    "## if we want to apply a particular pay rate for any items.\n",
    "## then we can implement that on an item level.\n",
    "item2 = Item(\"Laptop\", 3000, 4)\n",
    "## apply a new pay rate of 0.7 with a 30% discount.\n",
    "item2.pay_rate = 0.7\n",
    "## now calculate the discounted rate and the original rate.\n",
    "print(item2.price)\n",
    "print(item2.apply_discount())\n",
    "print()\n",
    "print(Item.pay_rate)\n",
    "    \n",
    "    \n",
    "# print(Item.pay_rate)    \n",
    "    \n",
    "# # instatiate the items.        \n",
    "# item1 = Item(\"Phone\", 300, 5)\n",
    "# item2 = Item(\"Laptop\", 3000, 4)\n",
    "# print(item1.pay_rate) \n",
    "\n",
    "# print(Item.__dict__)   ## to check the all the methods and attributes present in the class.\n",
    "# print(item1.__dict__)  ## this can be done in instance level\n",
    "# print(item2.__dict__)  ## checking using the second instance.\n",
    "\n",
    "\n",
    "# print(item1.name)\n",
    "# print(item2.name)\n",
    "# print(item1.price)\n",
    "# print(item2.price)\n",
    "# print(item1.quantity)\n",
    "# print(item2.quantity)\n",
    "# print(item1.calculate_total_price())\n",
    "# print(item2.calculate_total_price())\n",
    "\n",
    "# print(item1)\n",
    "# ## assigning the values to the item1\n",
    "# item1.name = \"Phone\"\n",
    "# item1.price = 100\n",
    "# item1.quantity = 5\n",
    "\n",
    "# print(item1.name)\n",
    "# print(item1.price)\n",
    "# print(item1.quantity)\n",
    "\n",
    "# print()\n",
    "\n",
    "\n",
    "# item1 = \"Phone\"                                       ## item 1\n",
    "# item1_price = 700                                     ## price of the item\n",
    "# item1_quantity = 5                                    ## quantity of the item\n",
    "# item1_price_total = item1_price * item1_quantity      ## total price of all quantities.\n",
    "# print(item1)\n",
    "# print(item1_price)\n",
    "# print(item1_quantity)\n",
    "# print(item1_price_total)"
   ]
  },
  {
   "cell_type": "code",
   "execution_count": null,
   "metadata": {},
   "outputs": [],
   "source": []
  }
 ],
 "metadata": {
  "kernelspec": {
   "display_name": "Python 3",
   "language": "python",
   "name": "python3"
  },
  "language_info": {
   "codemirror_mode": {
    "name": "ipython",
    "version": 3
   },
   "file_extension": ".py",
   "mimetype": "text/x-python",
   "name": "python",
   "nbconvert_exporter": "python",
   "pygments_lexer": "ipython3",
   "version": "3.8.3"
  }
 },
 "nbformat": 4,
 "nbformat_minor": 4
}
