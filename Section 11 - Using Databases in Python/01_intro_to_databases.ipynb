{
 "cells": [
  {
   "cell_type": "markdown",
   "metadata": {},
   "source": [
    "### Intro to Databases.\n",
    "\n",
    "+ Anything that stores and retrieves the information is called Databases.\n",
    "+ Famous DBs \n",
    "        + SQL Server\n",
    "        + Oracle Database\n",
    "        + DB2\n",
    "+ NOSQL DBs are popular today to store and process bigdata.\n",
    "+ Main Commands.\n",
    "        + select\n",
    "        + insert\n",
    "        + update\n",
    "        + delete\n",
    "        \n",
    "Database Terminologies :--\n",
    "\n",
    "+ Table :-- Colection of related data held in the database.\n",
    "+ Field (Columns) :-- Basic unit of data in a Table.\n",
    "+ Row (Record) :-- Single set of data containing all the columns in a table.\n",
    "+ Flat file DB :- "
   ]
  },
  {
   "cell_type": "code",
   "execution_count": null,
   "metadata": {},
   "outputs": [],
   "source": []
  }
 ],
 "metadata": {
  "kernelspec": {
   "display_name": "Python 3",
   "language": "python",
   "name": "python3"
  },
  "language_info": {
   "codemirror_mode": {
    "name": "ipython",
    "version": 3
   },
   "file_extension": ".py",
   "mimetype": "text/x-python",
   "name": "python",
   "nbconvert_exporter": "python",
   "pygments_lexer": "ipython3",
   "version": "3.8.3"
  }
 },
 "nbformat": 4,
 "nbformat_minor": 4
}
